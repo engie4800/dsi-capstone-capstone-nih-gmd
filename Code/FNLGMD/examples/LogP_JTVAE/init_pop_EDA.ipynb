{
 "cells": [
  {
   "cell_type": "code",
   "execution_count": 1,
   "id": "d588df49-ef37-4ff8-9951-c3eb59d0acc5",
   "metadata": {
    "tags": []
   },
   "outputs": [],
   "source": [
    "import pandas as pd"
   ]
  },
  {
   "cell_type": "code",
   "execution_count": 2,
   "id": "26b32ada-ecb9-41db-96da-dd9fb7b363b9",
   "metadata": {
    "tags": []
   },
   "outputs": [],
   "source": [
    "init_data = pd.read_csv('new_data_initial_population.csv')"
   ]
  },
  {
   "cell_type": "code",
   "execution_count": 3,
   "id": "6672289b-bc04-442a-83d1-967204d96ea6",
   "metadata": {
    "tags": []
   },
   "outputs": [
    {
     "data": {
      "text/html": [
       "<div>\n",
       "<style scoped>\n",
       "    .dataframe tbody tr th:only-of-type {\n",
       "        vertical-align: middle;\n",
       "    }\n",
       "\n",
       "    .dataframe tbody tr th {\n",
       "        vertical-align: top;\n",
       "    }\n",
       "\n",
       "    .dataframe thead th {\n",
       "        text-align: right;\n",
       "    }\n",
       "</style>\n",
       "<table border=\"1\" class=\"dataframe\">\n",
       "  <thead>\n",
       "    <tr style=\"text-align: right;\">\n",
       "      <th></th>\n",
       "      <th>compound_id</th>\n",
       "      <th>smiles</th>\n",
       "      <th>generation</th>\n",
       "      <th>source</th>\n",
       "      <th>fitness</th>\n",
       "    </tr>\n",
       "  </thead>\n",
       "  <tbody>\n",
       "    <tr>\n",
       "      <th>0</th>\n",
       "      <td>0</td>\n",
       "      <td>CNC(=O)OC1=CC=C(C=C1)C(C)(C)C</td>\n",
       "      <td>[0, 1]</td>\n",
       "      <td>initial</td>\n",
       "      <td>1.705981</td>\n",
       "    </tr>\n",
       "    <tr>\n",
       "      <th>1</th>\n",
       "      <td>1</td>\n",
       "      <td>Cc1ccc(F)c(C(=O)c2cc(C(F)(F)F)ccc2F)c1</td>\n",
       "      <td>[0, 1]</td>\n",
       "      <td>initial</td>\n",
       "      <td>2.727874</td>\n",
       "    </tr>\n",
       "    <tr>\n",
       "      <th>2</th>\n",
       "      <td>2</td>\n",
       "      <td>COc1ccccc1Nc1ncnc(Cl)c1[N+](=O)[O-]</td>\n",
       "      <td>[0, 1]</td>\n",
       "      <td>initial</td>\n",
       "      <td>1.421391</td>\n",
       "    </tr>\n",
       "    <tr>\n",
       "      <th>3</th>\n",
       "      <td>3</td>\n",
       "      <td>COc1cccc2c1OC[C@@H](NC(=O)c1ccc3c(n1)CCCC3)C2</td>\n",
       "      <td>[0, 1]</td>\n",
       "      <td>initial</td>\n",
       "      <td>0.383210</td>\n",
       "    </tr>\n",
       "    <tr>\n",
       "      <th>4</th>\n",
       "      <td>4</td>\n",
       "      <td>OC(=O)c1ccc(cc1)N=C=S</td>\n",
       "      <td>[0, 1]</td>\n",
       "      <td>initial</td>\n",
       "      <td>0.772055</td>\n",
       "    </tr>\n",
       "    <tr>\n",
       "      <th>...</th>\n",
       "      <td>...</td>\n",
       "      <td>...</td>\n",
       "      <td>...</td>\n",
       "      <td>...</td>\n",
       "      <td>...</td>\n",
       "    </tr>\n",
       "    <tr>\n",
       "      <th>95</th>\n",
       "      <td>95</td>\n",
       "      <td>O=C(Nc1ccccc1O)c1ccc(COCC(F)(F)F)cc1</td>\n",
       "      <td>[0, 1]</td>\n",
       "      <td>initial</td>\n",
       "      <td>2.320036</td>\n",
       "    </tr>\n",
       "    <tr>\n",
       "      <th>96</th>\n",
       "      <td>96</td>\n",
       "      <td>O=C1N=C([O-])C2(C(=O)N1)[C@H](c1cccc(Cl)c1)NC(...</td>\n",
       "      <td>[0, 1]</td>\n",
       "      <td>initial</td>\n",
       "      <td>-1.808974</td>\n",
       "    </tr>\n",
       "    <tr>\n",
       "      <th>97</th>\n",
       "      <td>97</td>\n",
       "      <td>COc1ccc(NC(=O)c2ccc(CSc3nnc(N)s3)cc2)cc1</td>\n",
       "      <td>[0, 1]</td>\n",
       "      <td>initial</td>\n",
       "      <td>2.228736</td>\n",
       "    </tr>\n",
       "    <tr>\n",
       "      <th>98</th>\n",
       "      <td>98</td>\n",
       "      <td>CC(C)n1c(C(=O)Nc2cccc(Cl)c2)cc2sccc21</td>\n",
       "      <td>[0, 1]</td>\n",
       "      <td>initial</td>\n",
       "      <td>2.877106</td>\n",
       "    </tr>\n",
       "    <tr>\n",
       "      <th>99</th>\n",
       "      <td>99</td>\n",
       "      <td>CCC[C@@H]1CN(Cc2nccs2)[C@H](CC(C)C)C[NH2+]1</td>\n",
       "      <td>[0, 1]</td>\n",
       "      <td>initial</td>\n",
       "      <td>-1.930103</td>\n",
       "    </tr>\n",
       "  </tbody>\n",
       "</table>\n",
       "<p>100 rows × 5 columns</p>\n",
       "</div>"
      ],
      "text/plain": [
       "    compound_id                                             smiles generation  \\\n",
       "0             0                      CNC(=O)OC1=CC=C(C=C1)C(C)(C)C     [0, 1]   \n",
       "1             1             Cc1ccc(F)c(C(=O)c2cc(C(F)(F)F)ccc2F)c1     [0, 1]   \n",
       "2             2                COc1ccccc1Nc1ncnc(Cl)c1[N+](=O)[O-]     [0, 1]   \n",
       "3             3      COc1cccc2c1OC[C@@H](NC(=O)c1ccc3c(n1)CCCC3)C2     [0, 1]   \n",
       "4             4                              OC(=O)c1ccc(cc1)N=C=S     [0, 1]   \n",
       "..          ...                                                ...        ...   \n",
       "95           95               O=C(Nc1ccccc1O)c1ccc(COCC(F)(F)F)cc1     [0, 1]   \n",
       "96           96  O=C1N=C([O-])C2(C(=O)N1)[C@H](c1cccc(Cl)c1)NC(...     [0, 1]   \n",
       "97           97           COc1ccc(NC(=O)c2ccc(CSc3nnc(N)s3)cc2)cc1     [0, 1]   \n",
       "98           98              CC(C)n1c(C(=O)Nc2cccc(Cl)c2)cc2sccc21     [0, 1]   \n",
       "99           99        CCC[C@@H]1CN(Cc2nccs2)[C@H](CC(C)C)C[NH2+]1     [0, 1]   \n",
       "\n",
       "     source   fitness  \n",
       "0   initial  1.705981  \n",
       "1   initial  2.727874  \n",
       "2   initial  1.421391  \n",
       "3   initial  0.383210  \n",
       "4   initial  0.772055  \n",
       "..      ...       ...  \n",
       "95  initial  2.320036  \n",
       "96  initial -1.808974  \n",
       "97  initial  2.228736  \n",
       "98  initial  2.877106  \n",
       "99  initial -1.930103  \n",
       "\n",
       "[100 rows x 5 columns]"
      ]
     },
     "execution_count": 3,
     "metadata": {},
     "output_type": "execute_result"
    }
   ],
   "source": [
    "init_data"
   ]
  },
  {
   "cell_type": "code",
   "execution_count": 7,
   "id": "ebfae747-b7fc-41e0-9af3-e744ed893a23",
   "metadata": {
    "tags": []
   },
   "outputs": [
    {
     "data": {
      "text/plain": [
       "<Axes: >"
      ]
     },
     "execution_count": 7,
     "metadata": {},
     "output_type": "execute_result"
    },
    {
     "data": {
      "image/png": "[encoded data removed]",
      "text/plain": [
       "<Figure size 640x480 with 1 Axes>"
      ]
     },
     "metadata": {},
     "output_type": "display_data"
    }
   ],
   "source": [
    "init_data['fitness'].hist(bins = 30)\n"
   ]
  },
  {
   "cell_type": "code",
   "execution_count": null,
   "id": "bb0c9e71-2224-4eb5-8dc7-09d81448b367",
   "metadata": {},
   "outputs": [],
   "source": []
  }
 ],
 "metadata": {
  "environment": {
   "kernel": "python3",
   "name": "common-cpu.m117",
   "type": "gcloud",
   "uri": "us-docker.pkg.dev/deeplearning-platform-release/gcr.io/base-cpu:m117"
  },
  "kernelspec": {
   "display_name": "Python 3",
   "language": "python",
   "name": "python3"
  },
  "language_info": {
   "codemirror_mode": {
    "name": "ipython",
    "version": 3
   },
   "file_extension": ".py",
   "mimetype": "text/x-python",
   "name": "python",
   "nbconvert_exporter": "python",
   "pygments_lexer": "ipython3",
   "version": "3.10.13"
  }
 },
 "nbformat": 4,
 "nbformat_minor": 5
}
