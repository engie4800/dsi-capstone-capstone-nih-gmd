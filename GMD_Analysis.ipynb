{
  "cells": [
    {
      "cell_type": "markdown",
      "metadata": {
        "id": "fLkLGv1MSZcb"
      },
      "source": [
        "LOG p"
      ]
    },
    {
      "cell_type": "code",
      "execution_count": null,
      "metadata": {
        "colab": {
          "base_uri": "https://localhost:8080/"
        },
        "id": "supcLu1WDydF",
        "outputId": "11f17579-cc88-4ab8-aad1-b67fe30b06cb"
      },
      "outputs": [
        {
          "name": "stdout",
          "output_type": "stream",
          "text": [
            "   compound_id                                             smiles generation  \\\n",
            "0           44  COc1ccc(-n2c(SCC(=O)Nc3cccc4ccccc34)nnc2-c2ccn...     [0, 1]   \n",
            "1            7                    CCN(CC)C(=O)NCc1ccc(COC(C)C)cc1     [0, 1]   \n",
            "2           17  CCN(CC)S(=O)(=O)c1ccc(C(C)NC(=O)c2ccc(C)c(C)c2...     [0, 1]   \n",
            "3           26       O=C(c1cc2cccc(Cl)c2o1)N1CCC(C(O)c2ccccc2)CC1     [0, 1]   \n",
            "4           24         CCCCN(C)C(=O)C1CCN(C(=O)Nc2cc(OC)ccc2F)CC1     [0, 1]   \n",
            "\n",
            "                                          chromosome   fitness  parent1_id  \\\n",
            "0  [ 0.63300824  0.40066475  2.2317414   1.662423...  3.450441         NaN   \n",
            "1  [ 0.0323195   0.46094438 -1.5992203  -2.999050...  1.835070         NaN   \n",
            "2  [ 4.00463402e-01  6.36082053e-01 -1.01430488e+...  1.887532         NaN   \n",
            "3  [ 0.344708   -0.42891777  0.11022831  1.969898...  2.222694         NaN   \n",
            "4  [ 0.8245235   0.99894094 -0.63629764  0.323096...  1.801635         NaN   \n",
            "\n",
            "   parent2_id  \n",
            "0         NaN  \n",
            "1         NaN  \n",
            "2         NaN  \n",
            "3         NaN  \n",
            "4         NaN  \n",
            "   compound_id                                             smiles generation  \\\n",
            "0           44  COc1ccc(-n2c(SCC(=O)Nc3cccc4ccccc34)nnc2-c2ccn...     [0, 1]   \n",
            "1            7                    CCN(CC)C(=O)NCc1ccc(COC(C)C)cc1     [0, 1]   \n",
            "2           17  CCN(CC)S(=O)(=O)c1ccc(C(C)NC(=O)c2ccc(C)c(C)c2...     [0, 1]   \n",
            "3           26       O=C(c1cc2cccc(Cl)c2o1)N1CCC(C(O)c2ccccc2)CC1     [0, 1]   \n",
            "4           24         CCCCN(C)C(=O)C1CCN(C(=O)Nc2cc(OC)ccc2F)CC1     [0, 1]   \n",
            "\n",
            "                                          chromosome   fitness  parent1_id  \\\n",
            "0  [ 0.63300824  0.40066475  2.2317414   1.662423...  3.450441         NaN   \n",
            "1  [ 0.0323195   0.46094438 -1.5992203  -2.999050...  1.835070         NaN   \n",
            "2  [ 4.00463402e-01  6.36082053e-01 -1.01430488e+...  1.887532         NaN   \n",
            "3  [ 0.344708   -0.42891777  0.11022831  1.969898...  2.222694         NaN   \n",
            "4  [ 0.8245235   0.99894094 -0.63629764  0.323096...  1.801635         NaN   \n",
            "\n",
            "   parent2_id  \n",
            "0         NaN  \n",
            "1         NaN  \n",
            "2         NaN  \n",
            "3         NaN  \n",
            "4         NaN  \n",
            "   compound_id                                             smiles generation  \\\n",
            "0           44  COc1ccc(-n2c(SCC(=O)Nc3cccc4ccccc34)nnc2-c2ccn...     [0, 1]   \n",
            "1            7                    CCN(CC)C(=O)NCc1ccc(COC(C)C)cc1     [0, 1]   \n",
            "2           17  CCN(CC)S(=O)(=O)c1ccc(C(C)NC(=O)c2ccc(C)c(C)c2...     [0, 1]   \n",
            "3           26       O=C(c1cc2cccc(Cl)c2o1)N1CCC(C(O)c2ccccc2)CC1     [0, 1]   \n",
            "4           24         CCCCN(C)C(=O)C1CCN(C(=O)Nc2cc(OC)ccc2F)CC1     [0, 1]   \n",
            "\n",
            "                                          chromosome   fitness  parent1_id  \\\n",
            "0  [ 0.63300824  0.40066475  2.2317414   1.662423...  3.450441         NaN   \n",
            "1  [ 0.0323195   0.46094438 -1.5992203  -2.999050...  1.835070         NaN   \n",
            "2  [ 4.00463402e-01  6.36082053e-01 -1.01430488e+...  1.887532         NaN   \n",
            "3  [ 0.344708   -0.42891777  0.11022831  1.969898...  2.222694         NaN   \n",
            "4  [ 0.8245235   0.99894094 -0.63629764  0.323096...  1.801635         NaN   \n",
            "\n",
            "   parent2_id  \n",
            "0         NaN  \n",
            "1         NaN  \n",
            "2         NaN  \n",
            "3         NaN  \n",
            "4         NaN  \n"
          ]
        }
      ],
      "source": [
        "import pandas as pd\n",
        "\n",
        "# Load the CSV file into a DataFrame\n",
        "df1 = pd.read_csv('/content/1 Epoch LogPTestCaseNew.csv')\n",
        "\n",
        "# Display the first few rows of the DataFrame\n",
        "print(df.head())\n",
        "\n",
        "import pandas as pd\n",
        "\n",
        "# Load the CSV file into a DataFrame\n",
        "df2 = pd.read_csv('/content/3 Epoch LogPTestCase (2).csv')\n",
        "\n",
        "# Display the first few rows of the DataFrame\n",
        "print(df.head())\n",
        "\n",
        "# Load the CSV file into a DataFrame\n",
        "df3 = pd.read_csv('/content/6 Epoch LogPTestCase.csv')\n",
        "\n",
        "# Display the first few rows of the DataFrame\n",
        "print(df.head())"
      ]
    },
    {
      "cell_type": "code",
      "execution_count": null,
      "metadata": {
        "colab": {
          "base_uri": "https://localhost:8080/"
        },
        "id": "yZ3cwCEUFuZd",
        "outputId": "7b29857c-f049-4727-8048-d4e5d84a0200"
      },
      "outputs": [
        {
          "data": {
            "text/plain": [
              "Index(['compound_id', 'smiles', 'generation', 'chromosome', 'fitness',\n",
              "       'parent1_id', 'parent2_id'],\n",
              "      dtype='object')"
            ]
          },
          "execution_count": 40,
          "metadata": {},
          "output_type": "execute_result"
        }
      ],
      "source": [
        "df1.columns"
      ]
    },
    {
      "cell_type": "code",
      "execution_count": null,
      "metadata": {
        "colab": {
          "base_uri": "https://localhost:8080/"
        },
        "id": "_AkxGHxqEOHx",
        "outputId": "e996fcaf-7a15-4c58-b8a2-d078720faa45"
      },
      "outputs": [
        {
          "data": {
            "text/plain": [
              "generation\n",
              "[0, 1]    35\n",
              "[1]       35\n",
              "Name: count, dtype: int64"
            ]
          },
          "execution_count": 41,
          "metadata": {},
          "output_type": "execute_result"
        }
      ],
      "source": [
        "df1['generation'].value_counts()"
      ]
    },
    {
      "cell_type": "code",
      "execution_count": null,
      "metadata": {
        "colab": {
          "base_uri": "https://localhost:8080/"
        },
        "id": "XXlphyc_FSVE",
        "outputId": "d7f7b32a-3904-43c9-bf50-1ead8f2eb503"
      },
      "outputs": [
        {
          "data": {
            "text/plain": [
              "generation\n",
              "[0, 1, 2, 3]    72\n",
              "[1, 2, 3]       45\n",
              "[2, 3]          38\n",
              "[3]             35\n",
              "[2]             16\n",
              "[1]             14\n",
              "[1, 2]          12\n",
              "[0, 1, 2]        8\n",
              "[0, 1]           7\n",
              "Name: count, dtype: int64"
            ]
          },
          "execution_count": 42,
          "metadata": {},
          "output_type": "execute_result"
        }
      ],
      "source": [
        "df2['generation'].value_counts()"
      ]
    },
    {
      "cell_type": "code",
      "execution_count": null,
      "metadata": {
        "colab": {
          "base_uri": "https://localhost:8080/"
        },
        "id": "vhVkerFGFT3A",
        "outputId": "f8a8897d-7427-470d-f4a8-2d2b83db107e"
      },
      "outputs": [
        {
          "data": {
            "text/plain": [
              "generation\n",
              "[1, 2, 3, 4, 5]       75\n",
              "[0, 1, 2, 3, 4, 5]    65\n",
              "[2, 3, 4, 5]          44\n",
              "[3, 4, 5]             42\n",
              "[5]                   35\n",
              "[4, 5]                34\n",
              "[0, 1, 2, 3, 4]       24\n",
              "[3]                   18\n",
              "[4]                   18\n",
              "[2]                   18\n",
              "[1]                   14\n",
              "[0, 1, 2, 3]          12\n",
              "[0, 1, 2]             10\n",
              "[2, 3]                 8\n",
              "[0, 1]                 7\n",
              "[2, 3, 4]              6\n",
              "[1, 2]                 6\n",
              "[3, 4]                 6\n",
              "[1, 2, 3]              6\n",
              "[1, 2, 3, 4]           4\n",
              "Name: count, dtype: int64"
            ]
          },
          "execution_count": 43,
          "metadata": {},
          "output_type": "execute_result"
        }
      ],
      "source": [
        "df3['generation'].value_counts()"
      ]
    },
    {
      "cell_type": "code",
      "execution_count": null,
      "metadata": {
        "colab": {
          "base_uri": "https://localhost:8080/"
        },
        "id": "qQE3DjvXE2pF",
        "outputId": "90faa1a7-b26c-42b1-de8f-4a5b5930cedc"
      },
      "outputs": [
        {
          "data": {
            "text/plain": [
              "parent2_id\n",
              "19.0    3\n",
              "7.0     3\n",
              "22.0    2\n",
              "6.0     2\n",
              "26.0    2\n",
              "16.0    2\n",
              "34.0    2\n",
              "9.0     2\n",
              "1.0     2\n",
              "4.0     2\n",
              "32.0    1\n",
              "46.0    1\n",
              "24.0    1\n",
              "41.0    1\n",
              "12.0    1\n",
              "11.0    1\n",
              "44.0    1\n",
              "37.0    1\n",
              "10.0    1\n",
              "48.0    1\n",
              "15.0    1\n",
              "47.0    1\n",
              "14.0    1\n",
              "Name: count, dtype: int64"
            ]
          },
          "execution_count": 44,
          "metadata": {},
          "output_type": "execute_result"
        }
      ],
      "source": [
        "df1['parent2_id'].value_counts()"
      ]
    },
    {
      "cell_type": "code",
      "execution_count": null,
      "metadata": {
        "colab": {
          "base_uri": "https://localhost:8080/"
        },
        "id": "FSZlIoGEFfVf",
        "outputId": "803455e7-5e1a-49be-e860-10be4f0bfcba"
      },
      "outputs": [
        {
          "data": {
            "text/plain": [
              "parent2_id\n",
              "7.0      7\n",
              "5.0      5\n",
              "41.0     4\n",
              "18.0     4\n",
              "78.0     4\n",
              "30.0     4\n",
              "40.0     4\n",
              "88.0     4\n",
              "4.0      3\n",
              "77.0     3\n",
              "44.0     3\n",
              "13.0     3\n",
              "85.0     3\n",
              "43.0     3\n",
              "103.0    2\n",
              "69.0     2\n",
              "72.0     2\n",
              "56.0     2\n",
              "84.0     2\n",
              "27.0     2\n",
              "33.0     2\n",
              "90.0     2\n",
              "47.0     2\n",
              "32.0     2\n",
              "45.0     2\n",
              "49.0     2\n",
              "10.0     2\n",
              "89.0     2\n",
              "22.0     1\n",
              "8.0      1\n",
              "9.0      1\n",
              "20.0     1\n",
              "53.0     1\n",
              "105.0    1\n",
              "80.0     1\n",
              "58.0     1\n",
              "52.0     1\n",
              "64.0     1\n",
              "62.0     1\n",
              "34.0     1\n",
              "16.0     1\n",
              "6.0      1\n",
              "79.0     1\n",
              "70.0     1\n",
              "38.0     1\n",
              "48.0     1\n",
              "26.0     1\n",
              "46.0     1\n",
              "3.0      1\n",
              "42.0     1\n",
              "108.0    1\n",
              "Name: count, dtype: int64"
            ]
          },
          "execution_count": 45,
          "metadata": {},
          "output_type": "execute_result"
        }
      ],
      "source": [
        "df2['parent2_id'].value_counts()"
      ]
    },
    {
      "cell_type": "code",
      "execution_count": null,
      "metadata": {
        "colab": {
          "base_uri": "https://localhost:8080/"
        },
        "id": "oxkHQnAEFAtg",
        "outputId": "db0475a5-8714-4194-dc27-68629b43d0db"
      },
      "outputs": [
        {
          "data": {
            "text/plain": [
              "parent2_id\n",
              "81.0     6\n",
              "1.0      6\n",
              "3.0      6\n",
              "6.0      6\n",
              "54.0     5\n",
              "        ..\n",
              "84.0     1\n",
              "105.0    1\n",
              "47.0     1\n",
              "106.0    1\n",
              "166.0    1\n",
              "Name: count, Length: 73, dtype: int64"
            ]
          },
          "execution_count": 46,
          "metadata": {},
          "output_type": "execute_result"
        }
      ],
      "source": [
        "df3['parent2_id'].value_counts()"
      ]
    },
    {
      "cell_type": "code",
      "execution_count": null,
      "metadata": {
        "colab": {
          "base_uri": "https://localhost:8080/"
        },
        "id": "EX4qr3kTFkKX",
        "outputId": "96a2b873-bcfd-4214-a616-7a3291a3d18f"
      },
      "outputs": [
        {
          "name": "stdout",
          "output_type": "stream",
          "text": [
            "category\n",
            "Balanced       38\n",
            "Hydrophilic    29\n",
            "Lipophilic      3\n",
            "Name: count, dtype: int64\n",
            "category\n",
            "Balanced       54.285714\n",
            "Hydrophilic    41.428571\n",
            "Lipophilic      4.285714\n",
            "Name: proportion, dtype: float64\n"
          ]
        }
      ],
      "source": [
        "# Define the conditions for categorization\n",
        "conditions = [\n",
        "    (df1['fitness'] > 3),        # Lipophilic\n",
        "    (df1['fitness'] >= 0) & (df1['fitness'] <= 3),  # Balanced\n",
        "    (df1['fitness'] < 0)         # Hydrophilic\n",
        "]\n",
        "\n",
        "# Corresponding labels for each condition\n",
        "labels = ['Lipophilic', 'Balanced', 'Hydrophilic']\n",
        "\n",
        "# Apply the conditions and labels\n",
        "df1['category'] = np.select(conditions, labels, default='Unknown')\n",
        "\n",
        "# Count the occurrences of each category\n",
        "category_counts = df1['category'].value_counts()\n",
        "\n",
        "# Print the counts\n",
        "print(category_counts)\n",
        "\n",
        "per_counts = df1['category'].value_counts(normalize=True) * 100\n",
        "print(per_counts)"
      ]
    },
    {
      "cell_type": "code",
      "execution_count": null,
      "metadata": {
        "colab": {
          "base_uri": "https://localhost:8080/"
        },
        "id": "hsJ_K_4iGu2A",
        "outputId": "4dd2a2ad-3d30-4dc5-f7f3-67b8b506c49b"
      },
      "outputs": [
        {
          "name": "stdout",
          "output_type": "stream",
          "text": [
            "category\n",
            "Balanced       149\n",
            "Hydrophilic     97\n",
            "Lipophilic       1\n",
            "Name: count, dtype: int64\n",
            "category\n",
            "Balanced       60.323887\n",
            "Hydrophilic    39.271255\n",
            "Lipophilic      0.404858\n",
            "Name: proportion, dtype: float64\n"
          ]
        }
      ],
      "source": [
        "# Define the conditions for categorization\n",
        "conditions = [\n",
        "    (df2['fitness'] > 3),        # Lipophilic\n",
        "    (df2['fitness'] >= 0) & (df2['fitness'] <= 3),  # Balanced\n",
        "    (df2['fitness'] < 0)         # Hydrophilic\n",
        "]\n",
        "\n",
        "# Corresponding labels for each condition\n",
        "labels = ['Lipophilic', 'Balanced', 'Hydrophilic']\n",
        "\n",
        "# Apply the conditions and labels\n",
        "df2['category'] = np.select(conditions, labels, default='Unknown')\n",
        "\n",
        "# Count the occurrences of each category\n",
        "category_counts = df2['category'].value_counts()\n",
        "\n",
        "\n",
        "# Print the counts\n",
        "print(category_counts)\n",
        "per_counts = df2['category'].value_counts(normalize=True) * 100\n",
        "\n",
        "print(per_counts)"
      ]
    },
    {
      "cell_type": "code",
      "execution_count": null,
      "metadata": {
        "colab": {
          "base_uri": "https://localhost:8080/"
        },
        "id": "TJtY_LORHKc_",
        "outputId": "fb8a8f39-8d1f-4886-ffd6-9628d31b7cc4"
      },
      "outputs": [
        {
          "name": "stdout",
          "output_type": "stream",
          "text": [
            "category\n",
            "Balanced       265\n",
            "Hydrophilic    184\n",
            "Lipophilic       3\n",
            "Name: count, dtype: int64\n",
            "category\n",
            "Balanced       58.628319\n",
            "Hydrophilic    40.707965\n",
            "Lipophilic      0.663717\n",
            "Name: proportion, dtype: float64\n"
          ]
        }
      ],
      "source": [
        "# Define the conditions for categorization\n",
        "conditions = [\n",
        "    (df3['fitness'] > 3),        # Lipophilic\n",
        "    (df3['fitness'] >= 0) & (df3['fitness'] <= 3),  # Balanced\n",
        "    (df3['fitness'] < 0)         # Hydrophilic\n",
        "]\n",
        "\n",
        "# Corresponding labels for each condition\n",
        "labels = ['Lipophilic', 'Balanced', 'Hydrophilic']\n",
        "\n",
        "# Apply the conditions and labels\n",
        "df3['category'] = np.select(conditions, labels, default='Unknown')\n",
        "\n",
        "# Count the occurrences of each category\n",
        "category_counts = df3['category'].value_counts()\n",
        "\n",
        "# Print the counts\n",
        "print(category_counts)\n",
        "\n",
        "per_counts = df3['category'].value_counts(normalize=True) * 100\n",
        "print(per_counts)"
      ]
    },
    {
      "cell_type": "markdown",
      "metadata": {
        "id": "-GnzGqpmSW1X"
      },
      "source": [
        "AUTOGROW4"
      ]
    },
    {
      "cell_type": "markdown",
      "metadata": {
        "id": "kKZWCdYcszd2"
      },
      "source": [
        "Inital model"
      ]
    },
    {
      "cell_type": "code",
      "execution_count": null,
      "metadata": {
        "colab": {
          "base_uri": "https://localhost:8080/"
        },
        "id": "PvolQjJSHTdc",
        "outputId": "fde7c041-530c-4898-8485-53df6e4a0395"
      },
      "outputs": [
        {
          "name": "stdout",
          "output_type": "stream",
          "text": [
            "                                              smiles  parent1_id  reaction_id  \\\n",
            "0  COC(=O)[C@H](NC(=S)N(C(=O)CN(c1ccccc1C)S(=O)(=...        41.0         32.0   \n",
            "1  CC[C@H](O)[C@@H](C)C(=O)N(C(=O)NCC(=O)NCc1cccc...        48.0         23.0   \n",
            "2  CCOc1ccc(NC(=O)CSc2nnc(-c3ccc(NCc4nnnn4C)cc3)o...        49.0         87.0   \n",
            "3  COCC(=O)N(C(=O)[C@]1(C)Sc2ccccc2NC1=O)c1c(C(=O...        30.0         26.0   \n",
            "4  COc1cc(C=C2C(=O)N(C(=O)[C@H]3CNC[C@H]3C)C(=O)N...        20.0         13.0   \n",
            "\n",
            "            zinc_id    source generation  parent2_id  compound_id   fitness  \n",
            "0  ZINC000004268893  mutation        [1]         NaN         50.0  0.150641  \n",
            "1  ZINC000014491092  mutation        [1]         NaN         51.0 -1.490404  \n",
            "2  ZINC000034155589  mutation        [1]         NaN         52.0 -0.395001  \n",
            "3  ZINC000100004193  mutation        [1]         NaN         53.0  0.254540  \n",
            "4  ZINC000004202764  mutation        [1]         NaN         54.0 -1.003316  \n",
            "                                              smiles  parent1_id  reaction_id  \\\n",
            "0  Cc1cc2nc(Cn3c(C(=O)c4cccc(F)c4)nc4ccccc43)n(Cc...        40.0         44.0   \n",
            "1  COc1cc(C=C(C#N)C(=O)N(C(=O)c2ncc[nH]2)c2cc(C)c...        43.0         23.0   \n",
            "2  COc1cc(C=C(C(=O)N(C)c2ccccc2)c2nnn([C@@H]3CCCN...        42.0         46.0   \n",
            "3  COc1ccc(N(C(=O)c2nnc(C3CCN(C(=O)C4CCC4)CC3)s2)...        23.0         13.0   \n",
            "4  N#Cc1ccc(C(=O)NCC(=O)N2CCN(c3ccccc3[N+](=O)[O-...        30.0         21.0   \n",
            "\n",
            "            zinc_id    source generation  parent2_id  compound_id   fitness  \n",
            "0  ZINC000034119726  mutation  [1, 2, 3]         NaN         50.0  2.669375  \n",
            "1  ZINC000022011174  mutation        [1]         NaN         51.0  0.526852  \n",
            "2  ZINC000071079847  mutation        [1]         NaN         52.0 -1.080219  \n",
            "3  ZINC000000403075  mutation        [1]         NaN         53.0 -0.928049  \n",
            "4               NaN  mutation        [1]         NaN         54.0 -0.734137  \n",
            "                                              smiles  parent1_id  reaction_id  \\\n",
            "0  C[C@@H](CN(C)N=O)Oc1ccc(OCc2cccc(CN3CCOCC3)c2)cc1         1.0         19.0   \n",
            "1  CCOC(=O)COC(=O)c1cccc(C(=O)C[C@H]2C[C@H](F)C2)...         8.0         80.0   \n",
            "2            Cc1ccc(CN(C)C(=O)C2OC2c2c(Cl)cccc2Cl)o1        44.0          3.0   \n",
            "3        C(=C/c1ncccc1-c1ccccc1)\\c1cccc(Nc2ccccc2)c1        26.0         77.0   \n",
            "4  O=c1c2cc(OC(F)(F)F)ccc2nc(Cc2ccc[nH]2)n1-c1ccc...         2.0         44.0   \n",
            "\n",
            "            zinc_id    source       generation  parent2_id  compound_id  \\\n",
            "0  ZINC000006020710  mutation              [1]         NaN         50.0   \n",
            "1  ZINC000575598539  mutation              [1]         NaN         51.0   \n",
            "2               NaN  mutation              [1]         NaN         52.0   \n",
            "3  ZINC001173795797  mutation  [1, 2, 3, 4, 5]         NaN         53.0   \n",
            "4  ZINC000008764144  mutation           [1, 2]         NaN         54.0   \n",
            "\n",
            "    fitness  \n",
            "0 -0.784464  \n",
            "1 -0.432071  \n",
            "2 -1.084152  \n",
            "3  2.882245  \n",
            "4  1.458831  \n"
          ]
        }
      ],
      "source": [
        "import pandas as pd\n",
        "\n",
        "# Load the CSV file into a DataFrame\n",
        "df1 = pd.read_csv('/content/Epoch 1 AutoGrow.csv')\n",
        "\n",
        "# Display the first few rows of the DataFrame\n",
        "print(df1.head())\n",
        "\n",
        "import pandas as pd\n",
        "\n",
        "# Load the CSV file into a DataFrame\n",
        "df2 = pd.read_csv('/content/Epoch 3 AutoGrow.csv')\n",
        "\n",
        "# Display the first few rows of the DataFrame\n",
        "print(df2.head())\n",
        "\n",
        "# Load the CSV file into a DataFrame\n",
        "df3 = pd.read_csv('/content/Epoch 5 AutoGrow.csv')\n",
        "\n",
        "# Display the first few rows of the DataFrame\n",
        "print(df3.head())"
      ]
    },
    {
      "cell_type": "code",
      "execution_count": null,
      "metadata": {
        "colab": {
          "base_uri": "https://localhost:8080/"
        },
        "id": "Bmk43o3QwDn7",
        "outputId": "81918fbe-4cdd-453d-e13b-7b7cf4f1a741"
      },
      "outputs": [
        {
          "name": "stdout",
          "output_type": "stream",
          "text": [
            "                                              smiles  parent1_id  reaction_id  \\\n",
            "0  COC(=O)[C@H](NC(=S)N(C(=O)CN(c1ccccc1C)S(=O)(=...        41.0         32.0   \n",
            "1  CC[C@H](O)[C@@H](C)C(=O)N(C(=O)NCC(=O)NCc1cccc...        48.0         23.0   \n",
            "2  CCOc1ccc(NC(=O)CSc2nnc(-c3ccc(NCc4nnnn4C)cc3)o...        49.0         87.0   \n",
            "3  COCC(=O)N(C(=O)[C@]1(C)Sc2ccccc2NC1=O)c1c(C(=O...        30.0         26.0   \n",
            "4  COc1cc(C=C2C(=O)N(C(=O)[C@H]3CNC[C@H]3C)C(=O)N...        20.0         13.0   \n",
            "\n",
            "            zinc_id    source generation  parent2_id  compound_id   fitness  \\\n",
            "0  ZINC000004268893  mutation        [1]         NaN         50.0  0.150641   \n",
            "1  ZINC000014491092  mutation        [1]         NaN         51.0 -1.490404   \n",
            "2  ZINC000034155589  mutation        [1]         NaN         52.0 -0.395001   \n",
            "3  ZINC000100004193  mutation        [1]         NaN         53.0  0.254540   \n",
            "4  ZINC000004202764  mutation        [1]         NaN         54.0 -1.003316   \n",
            "\n",
            "     Epoch  \n",
            "0  Epoch 1  \n",
            "1  Epoch 1  \n",
            "2  Epoch 1  \n",
            "3  Epoch 1  \n",
            "4  Epoch 1  \n"
          ]
        }
      ],
      "source": [
        "# Add a new column 'Epoch' to each DataFrame\n",
        "df1['Epoch'] = 'Epoch 1'\n",
        "df2['Epoch'] = 'Epoch 3'\n",
        "df3['Epoch'] = 'Epoch 5'\n",
        "\n",
        "# Concatenate the DataFrames into a single DataFrame\n",
        "df_combined = pd.concat([df1, df2, df3], ignore_index=True)\n",
        "\n",
        "# Display the first few rows of the combined DataFrame to verify\n",
        "print(df_combined.head())"
      ]
    },
    {
      "cell_type": "code",
      "execution_count": null,
      "metadata": {
        "id": "ktpIvAgfwFiG"
      },
      "outputs": [],
      "source": [
        "df_combined"
      ]
    },
    {
      "cell_type": "code",
      "execution_count": null,
      "metadata": {
        "colab": {
          "base_uri": "https://localhost:8080/"
        },
        "id": "J_NoW-6AmjEG",
        "outputId": "1a9a7697-56ad-49bf-eda0-fd398b9d3dc6"
      },
      "outputs": [
        {
          "data": {
            "text/plain": [
              "Index(['smiles', 'parent1_id', 'reaction_id', 'zinc_id', 'source',\n",
              "       'generation', 'parent2_id', 'compound_id', 'fitness'],\n",
              "      dtype='object')"
            ]
          },
          "execution_count": 3,
          "metadata": {},
          "output_type": "execute_result"
        }
      ],
      "source": [
        "df1.columns"
      ]
    },
    {
      "cell_type": "code",
      "execution_count": null,
      "metadata": {
        "colab": {
          "base_uri": "https://localhost:8080/",
          "height": 472
        },
        "id": "fcypHLQiwQ8B",
        "outputId": "4b987d4e-fd55-436c-d200-2d14924e26ea"
      },
      "outputs": [
        {
          "data": {
            "image/png": "[encoded data removed]",
            "text/plain": [
              "<Figure size 640x480 with 1 Axes>"
            ]
          },
          "metadata": {},
          "output_type": "display_data"
        }
      ],
      "source": [
        "import pandas as pd\n",
        "import seaborn as sns\n",
        "import matplotlib.pyplot as plt\n",
        "\n",
        "# Assuming df_combined is already loaded and contains 'fitness' and 'Epoch' columns\n",
        "# Create a boxplot to visualize the distribution of 'fitness' across different 'Epochs'\n",
        "sns.boxplot(x='Epoch', y='fitness', data=df_combined)\n",
        "plt.title('Fitness Distribution by Epoch For Autogrow')\n",
        "plt.xlabel('Epoch')\n",
        "plt.ylabel('Fitness')\n",
        "plt.show()\n"
      ]
    },
    {
      "cell_type": "code",
      "execution_count": null,
      "metadata": {
        "colab": {
          "base_uri": "https://localhost:8080/"
        },
        "id": "eQzSjc6cmrCP",
        "outputId": "85877d5e-803a-4032-e797-895c0764d82a"
      },
      "outputs": [
        {
          "data": {
            "text/plain": [
              "generation\n",
              "[1]       40\n",
              "[0, 1]    10\n",
              "Name: count, dtype: int64"
            ]
          },
          "execution_count": 4,
          "metadata": {},
          "output_type": "execute_result"
        }
      ],
      "source": [
        "df1['generation'].value_counts()"
      ]
    },
    {
      "cell_type": "code",
      "execution_count": null,
      "metadata": {
        "colab": {
          "base_uri": "https://localhost:8080/"
        },
        "id": "KDgK74XTmvmE",
        "outputId": "1cab736a-a7a1-40e5-fc32-a38a413ee881"
      },
      "outputs": [
        {
          "data": {
            "text/plain": [
              "generation\n",
              "[3]             40\n",
              "[1]             35\n",
              "[2]             34\n",
              "[2, 3]          12\n",
              "[1, 2, 3]        9\n",
              "[0, 1, 2]        8\n",
              "[0, 1]           5\n",
              "[1, 2]           4\n",
              "[0, 1, 2, 3]     3\n",
              "Name: count, dtype: int64"
            ]
          },
          "execution_count": 5,
          "metadata": {},
          "output_type": "execute_result"
        }
      ],
      "source": [
        "df2['generation'].value_counts()"
      ]
    },
    {
      "cell_type": "code",
      "execution_count": null,
      "metadata": {
        "colab": {
          "base_uri": "https://localhost:8080/"
        },
        "id": "icvpZAXVm6RC",
        "outputId": "d44c8526-52a2-4084-a1c3-772ccc7f690d"
      },
      "outputs": [
        {
          "data": {
            "text/plain": [
              "generation\n",
              "[5]                40\n",
              "[3]                34\n",
              "[2]                33\n",
              "[1]                32\n",
              "[4]                32\n",
              "[4, 5]             16\n",
              "[2, 3]             12\n",
              "[1, 2]             10\n",
              "[3, 4]             10\n",
              "[1, 2, 3, 4]        8\n",
              "[0, 1]              8\n",
              "[1, 2, 3, 4, 5]     5\n",
              "[0, 1, 2]           4\n",
              "[2, 3, 4]           3\n",
              "[3, 4, 5]           3\n",
              "Name: count, dtype: int64"
            ]
          },
          "execution_count": 6,
          "metadata": {},
          "output_type": "execute_result"
        }
      ],
      "source": [
        "df3['generation'].value_counts()"
      ]
    },
    {
      "cell_type": "code",
      "execution_count": null,
      "metadata": {
        "colab": {
          "base_uri": "https://localhost:8080/"
        },
        "id": "MfqyQ1QHnCzu",
        "outputId": "f55e0451-243a-4133-cd3c-846d67fd21cf"
      },
      "outputs": [
        {
          "data": {
            "text/plain": [
              "source\n",
              "mutation     20\n",
              "crossover    20\n",
              "initial      10\n",
              "Name: count, dtype: int64"
            ]
          },
          "execution_count": 8,
          "metadata": {},
          "output_type": "execute_result"
        }
      ],
      "source": [
        " df1['source'].value_counts()"
      ]
    },
    {
      "cell_type": "code",
      "execution_count": null,
      "metadata": {
        "colab": {
          "base_uri": "https://localhost:8080/"
        },
        "id": "90m9JSP0nCrD",
        "outputId": "7770612e-56b6-4eec-a479-cffc58a82c67"
      },
      "outputs": [
        {
          "data": {
            "text/plain": [
              "source\n",
              "mutation     67\n",
              "crossover    67\n",
              "initial      16\n",
              "Name: count, dtype: int64"
            ]
          },
          "execution_count": 9,
          "metadata": {},
          "output_type": "execute_result"
        }
      ],
      "source": [
        " df2['source'].value_counts()"
      ]
    },
    {
      "cell_type": "code",
      "execution_count": null,
      "metadata": {
        "colab": {
          "base_uri": "https://localhost:8080/"
        },
        "id": "VyPYg-6om8ty",
        "outputId": "fc6d4827-a6fb-4345-e406-c73d94230c93"
      },
      "outputs": [
        {
          "data": {
            "text/plain": [
              "source\n",
              "crossover    124\n",
              "mutation     114\n",
              "initial       12\n",
              "Name: count, dtype: int64"
            ]
          },
          "execution_count": 10,
          "metadata": {},
          "output_type": "execute_result"
        }
      ],
      "source": [
        " df3['source'].value_counts()"
      ]
    },
    {
      "cell_type": "code",
      "execution_count": null,
      "metadata": {
        "colab": {
          "base_uri": "https://localhost:8080/"
        },
        "id": "58bUZvmznA8M",
        "outputId": "4c011afc-09c3-4e16-dd35-25c2fe84ef18"
      },
      "outputs": [
        {
          "name": "stdout",
          "output_type": "stream",
          "text": [
            "category\n",
            "Balanced       33\n",
            "Hydrophilic    17\n",
            "Name: count, dtype: int64\n",
            "category\n",
            "Balanced       66.0\n",
            "Hydrophilic    34.0\n",
            "Name: proportion, dtype: float64\n"
          ]
        }
      ],
      "source": [
        "import numpy as np\n",
        "import pandas as pd\n",
        "\n",
        "# Define the conditions for categorization\n",
        "conditions = [\n",
        "    (df1['fitness'] > 3),        # Lipophilic\n",
        "    (df1['fitness'] >= 0) & (df1['fitness'] <= 3),  # Balanced\n",
        "    (df1['fitness'] < 0)         # Hydrophilic\n",
        "]\n",
        "\n",
        "# Corresponding labels for each condition\n",
        "labels = ['Lipophilic', 'Balanced', 'Hydrophilic']\n",
        "\n",
        "# Apply the conditions and labels\n",
        "df1['category'] = np.select(conditions, labels, default='Unknown')\n",
        "\n",
        "# Count the occurrences of each category\n",
        "category_counts = df1['category'].value_counts()\n",
        "\n",
        "# Print the counts\n",
        "print(category_counts)\n",
        "\n",
        "per_counts = df1['category'].value_counts(normalize=True) * 100\n",
        "print(per_counts)"
      ]
    },
    {
      "cell_type": "code",
      "execution_count": null,
      "metadata": {
        "colab": {
          "base_uri": "https://localhost:8080/"
        },
        "id": "fVsJV5ADna6C",
        "outputId": "de23fdb8-1326-4501-a88b-a0010965b446"
      },
      "outputs": [
        {
          "name": "stdout",
          "output_type": "stream",
          "text": [
            "category\n",
            "Balanced       78\n",
            "Hydrophilic    71\n",
            "Lipophilic      1\n",
            "Name: count, dtype: int64\n",
            "category\n",
            "Balanced       52.000000\n",
            "Hydrophilic    47.333333\n",
            "Lipophilic      0.666667\n",
            "Name: proportion, dtype: float64\n"
          ]
        }
      ],
      "source": [
        "# Define the conditions for categorization\n",
        "conditions = [\n",
        "    (df2['fitness'] > 3),        # Lipophilic\n",
        "    (df2['fitness'] >= 0) & (df2['fitness'] <= 3),  # Balanced\n",
        "    (df2['fitness'] < 0)         # Hydrophilic\n",
        "]\n",
        "\n",
        "# Corresponding labels for each condition\n",
        "labels = ['Lipophilic', 'Balanced', 'Hydrophilic']\n",
        "\n",
        "# Apply the conditions and labels\n",
        "df2['category'] = np.select(conditions, labels, default='Unknown')\n",
        "\n",
        "# Count the occurrences of each category\n",
        "category_counts = df2['category'].value_counts()\n",
        "\n",
        "# Print the counts\n",
        "print(category_counts)\n",
        "\n",
        "per_counts = df1['category'].value_counts(normalize=True) * 100\n",
        "print(per_counts)"
      ]
    },
    {
      "cell_type": "code",
      "execution_count": null,
      "metadata": {
        "id": "r0jMRQRFg_-9"
      },
      "outputs": [],
      "source": [
        "# Define the conditions for categorization\n",
        "conditions = [\n",
        "    (df3['fitness'] > 3),        # Lipophilic\n",
        "    (df3['fitness'] >= 0) & (df3['fitness'] <= 3),  # Balanced\n",
        "    (df3['fitness'] < 0)         # Hydrophilic\n",
        "]\n",
        "\n",
        "# Corresponding labels for each condition\n",
        "labels = ['Lipophilic', 'Balanced', 'Hydrophilic']\n",
        "\n",
        "# Apply the conditions and labels\n",
        "df3['category'] = np.select(conditions, labels, default='Unknown')\n",
        "\n",
        "# Count the occurrences of each category\n",
        "category_counts = df3['category'].value_counts()\n",
        "\n",
        "# Print the counts\n",
        "print(category_counts)\n",
        "\n",
        "per_counts = df3['category'].value_counts(normalize=True) * 100\n",
        "print(per_counts)"
      ]
    },
    {
      "cell_type": "code",
      "execution_count": null,
      "metadata": {
        "colab": {
          "base_uri": "https://localhost:8080/",
          "height": 644
        },
        "id": "Fd7c7nZrfsWk",
        "outputId": "4ff92b7e-f512-417a-f2f2-7830286ea068"
      },
      "outputs": [
        {
          "data": {
            "image/png": "[encoded data removed]",
            "text/plain": [
              "<Figure size 1000x600 with 1 Axes>"
            ]
          },
          "metadata": {},
          "output_type": "display_data"
        }
      ],
      "source": [
        "# Combine the data into a single DataFrame and normalize it to percentages\n",
        "df_combined = pd.concat([df_epoch_1, df_epoch_2, df_epoch_3], axis=1)\n",
        "df_combined.columns = ['source_1', 'count_1', 'source_2', 'count_2', 'source_3', 'count_3']\n",
        "\n",
        "# Calculate percentages\n",
        "df_combined['percent_1'] = df_combined['count_1'] / df_combined['count_1'].sum() * 100\n",
        "df_combined['percent_2'] = df_combined['count_2'] / df_combined['count_2'].sum() * 100\n",
        "df_combined['percent_3'] = df_combined['count_3'] / df_combined['count_3'].sum() * 100\n",
        "\n",
        "# Prepare data for plotting\n",
        "percentages = df_combined[['percent_1', 'percent_2', 'percent_3']].T\n",
        "percentages.columns = df_combined['source_1']\n",
        "percentages.index = ['After 1 Epoch', 'After 3 Epoch', 'After 5 Epoch']\n",
        "\n",
        "# Plotting the stacked bar chart\n",
        "percentages.plot(kind='bar', stacked=True, figsize=(10, 6))\n",
        "plt.title('Percentage Change of Molecular Compound Orgins Across Epochs')\n",
        "plt.ylabel('Percentage')\n",
        "plt.xlabel('Epoch')\n",
        "plt.legend(title='Source')\n",
        "plt.show()\n"
      ]
    },
    {
      "cell_type": "code",
      "execution_count": null,
      "metadata": {
        "id": "IhiJEfsZvxn5"
      },
      "outputs": [],
      "source": []
    },
    {
      "cell_type": "markdown",
      "metadata": {
        "id": "m_rQckbUs6zH"
      },
      "source": []
    },
    {
      "cell_type": "code",
      "execution_count": null,
      "metadata": {
        "colab": {
          "base_uri": "https://localhost:8080/",
          "height": 1000
        },
        "id": "JkKaNCFFnizf",
        "outputId": "6f8f0f9c-ad46-49f8-9a2f-d0f7305569a5"
      },
      "outputs": [
        {
          "data": {
            "image/png": "[encoded data removed]",
            "text/plain": [
              "<Figure size 700x500 with 1 Axes>"
            ]
          },
          "metadata": {},
          "output_type": "display_data"
        },
        {
          "data": {
            "image/png": "[encoded data removed]",
            "text/plain": [
              "<Figure size 700x500 with 1 Axes>"
            ]
          },
          "metadata": {},
          "output_type": "display_data"
        },
        {
          "data": {
            "image/png": "[encoded data removed]",
            "text/plain": [
              "<Figure size 700x500 with 1 Axes>"
            ]
          },
          "metadata": {},
          "output_type": "display_data"
        }
      ],
      "source": [
        "import pandas as pd\n",
        "import matplotlib.pyplot as plt\n",
        "\n",
        "# Data for each epoch\n",
        "data_epoch_1 = {'mutation': 20, 'crossover': 20, 'initial': 10}\n",
        "data_epoch_2 = {'mutation': 67, 'crossover': 67, 'initial': 16}\n",
        "data_epoch_3 = {'crossover': 124, 'mutation': 114, 'initial': 12}\n",
        "\n",
        "# Creating DataFrames\n",
        "df_epoch_1 = pd.Series(data_epoch_1).reset_index(name='count').rename(columns={'index': 'source'})\n",
        "df_epoch_2 = pd.Series(data_epoch_2).reset_index(name='count').rename(columns={'index': 'source'})\n",
        "df_epoch_3 = pd.Series(data_epoch_3).reset_index(name='count').rename(columns={'index': 'source'})\n",
        "\n",
        "# Function to plot pie chart\n",
        "def plot_pie_chart(df, epoch_number):\n",
        "    plt.figure(figsize=(7, 5))\n",
        "    plt.pie(df['count'], labels=df['source'], autopct='%1.1f%%', startangle=140)\n",
        "    plt.title(f'Source Distribution in Epoch {epoch_number}')\n",
        "    plt.axis('equal')  # Equal aspect ratio ensures that pie is drawn as a circle.\n",
        "\n",
        "# Plotting pie charts for each epoch\n",
        "plot_pie_chart(df_epoch_1, 1)\n",
        "plot_pie_chart(df_epoch_2, 3)\n",
        "plot_pie_chart(df_epoch_3, 5)\n",
        "\n",
        "plt.show()\n"
      ]
    },
    {
      "cell_type": "code",
      "execution_count": null,
      "metadata": {
        "colab": {
          "base_uri": "https://localhost:8080/",
          "height": 871
        },
        "id": "-OzpOpRqgUQn",
        "outputId": "7500093f-ed86-413a-bcf3-56d64dd096ba"
      },
      "outputs": [
        {
          "data": {
            "image/png": "[encoded data removed]",
            "text/plain": [
              "<Figure size 700x500 with 1 Axes>"
            ]
          },
          "metadata": {},
          "output_type": "display_data"
        },
        {
          "data": {
            "image/png": "[encoded data removed]",
            "text/plain": [
              "<Figure size 700x500 with 1 Axes>"
            ]
          },
          "metadata": {},
          "output_type": "display_data"
        }
      ],
      "source": [
        "import pandas as pd\n",
        "import matplotlib.pyplot as plt\n",
        "\n",
        "# Data for the first set\n",
        "data_1 = {\n",
        "    'Balanced': 78,\n",
        "    'Hydrophilic': 71,\n",
        "    'Lipophilic': 1\n",
        "}\n",
        "\n",
        "# Data for the second set\n",
        "data_2 = {\n",
        "    'Balanced': 149,\n",
        "    'Hydrophilic': 97,\n",
        "    'Lipophilic': 1\n",
        "}\n",
        "\n",
        "# Creating DataFrames\n",
        "df_1 = pd.Series(data_1).reset_index(name='count').rename(columns={'index': 'category'})\n",
        "df_2 = pd.Series(data_2).reset_index(name='count').rename(columns={'index': 'category'})\n",
        "\n",
        "# Function to plot pie chart\n",
        "def plot_pie_chart(df, chart_title):\n",
        "    plt.figure(figsize=(7, 5))\n",
        "    plt.pie(df['count'], labels=df['category'], autopct='%1.1f%%', startangle=90)\n",
        "    plt.title(chart_title)\n",
        "    plt.axis('equal')  # Equal aspect ratio ensures that pie is drawn as a circle.\n",
        "    plt.show()\n",
        "\n",
        "# Plotting pie charts for each data set\n",
        "plot_pie_chart(df_1, 'Compounds based on AutoGrow4 From LogPdata Trained on 3 Epochs')\n",
        "plot_pie_chart(df_2, 'Compounds based on JTVE From LogPdata Trained on 3 Epochs')\n"
      ]
    },
    {
      "cell_type": "markdown",
      "metadata": {
        "id": "Wijhv4XV1EJh"
      },
      "source": [
        "Mutation large"
      ]
    },
    {
      "cell_type": "code",
      "execution_count": null,
      "metadata": {
        "colab": {
          "base_uri": "https://localhost:8080/",
          "height": 373
        },
        "id": "CK90r-jlh3cG",
        "outputId": "0ac659ee-5d36-4d0b-c8e3-492c5cdee4f1"
      },
      "outputs": [
        {
          "ename": "FileNotFoundError",
          "evalue": "[Errno 2] No such file or directory: '/content/data_all_generations (6).csv'",
          "output_type": "error",
          "traceback": [
            "\u001b[0;31m---------------------------------------------------------------------------\u001b[0m",
            "\u001b[0;31mFileNotFoundError\u001b[0m                         Traceback (most recent call last)",
            "\u001b[0;32m<ipython-input-65-1a62448a9d1c>\u001b[0m in \u001b[0;36m<cell line: 4>\u001b[0;34m()\u001b[0m\n\u001b[1;32m      2\u001b[0m \u001b[0;34m\u001b[0m\u001b[0m\n\u001b[1;32m      3\u001b[0m \u001b[0;31m# Load the CSV file into a DataFrame\u001b[0m\u001b[0;34m\u001b[0m\u001b[0;34m\u001b[0m\u001b[0m\n\u001b[0;32m----> 4\u001b[0;31m \u001b[0mdf1\u001b[0m \u001b[0;34m=\u001b[0m \u001b[0mpd\u001b[0m\u001b[0;34m.\u001b[0m\u001b[0mread_csv\u001b[0m\u001b[0;34m(\u001b[0m\u001b[0;34m'/content/data_all_generations (6).csv'\u001b[0m\u001b[0;34m)\u001b[0m\u001b[0;34m\u001b[0m\u001b[0;34m\u001b[0m\u001b[0m\n\u001b[0m\u001b[1;32m      5\u001b[0m \u001b[0;34m\u001b[0m\u001b[0m\n\u001b[1;32m      6\u001b[0m \u001b[0;31m# Display the first few rows of the DataFrame\u001b[0m\u001b[0;34m\u001b[0m\u001b[0;34m\u001b[0m\u001b[0m\n",
            "\u001b[0;32m/usr/local/lib/python3.10/dist-packages/pandas/io/parsers/readers.py\u001b[0m in \u001b[0;36mread_csv\u001b[0;34m(filepath_or_buffer, sep, delimiter, header, names, index_col, usecols, dtype, engine, converters, true_values, false_values, skipinitialspace, skiprows, skipfooter, nrows, na_values, keep_default_na, na_filter, verbose, skip_blank_lines, parse_dates, infer_datetime_format, keep_date_col, date_parser, date_format, dayfirst, cache_dates, iterator, chunksize, compression, thousands, decimal, lineterminator, quotechar, quoting, doublequote, escapechar, comment, encoding, encoding_errors, dialect, on_bad_lines, delim_whitespace, low_memory, memory_map, float_precision, storage_options, dtype_backend)\u001b[0m\n\u001b[1;32m    910\u001b[0m     \u001b[0mkwds\u001b[0m\u001b[0;34m.\u001b[0m\u001b[0mupdate\u001b[0m\u001b[0;34m(\u001b[0m\u001b[0mkwds_defaults\u001b[0m\u001b[0;34m)\u001b[0m\u001b[0;34m\u001b[0m\u001b[0;34m\u001b[0m\u001b[0m\n\u001b[1;32m    911\u001b[0m \u001b[0;34m\u001b[0m\u001b[0m\n\u001b[0;32m--> 912\u001b[0;31m     \u001b[0;32mreturn\u001b[0m \u001b[0m_read\u001b[0m\u001b[0;34m(\u001b[0m\u001b[0mfilepath_or_buffer\u001b[0m\u001b[0;34m,\u001b[0m \u001b[0mkwds\u001b[0m\u001b[0;34m)\u001b[0m\u001b[0;34m\u001b[0m\u001b[0;34m\u001b[0m\u001b[0m\n\u001b[0m\u001b[1;32m    913\u001b[0m \u001b[0;34m\u001b[0m\u001b[0m\n\u001b[1;32m    914\u001b[0m \u001b[0;34m\u001b[0m\u001b[0m\n",
            "\u001b[0;32m/usr/local/lib/python3.10/dist-packages/pandas/io/parsers/readers.py\u001b[0m in \u001b[0;36m_read\u001b[0;34m(filepath_or_buffer, kwds)\u001b[0m\n\u001b[1;32m    575\u001b[0m \u001b[0;34m\u001b[0m\u001b[0m\n\u001b[1;32m    576\u001b[0m     \u001b[0;31m# Create the parser.\u001b[0m\u001b[0;34m\u001b[0m\u001b[0;34m\u001b[0m\u001b[0m\n\u001b[0;32m--> 577\u001b[0;31m     \u001b[0mparser\u001b[0m \u001b[0;34m=\u001b[0m \u001b[0mTextFileReader\u001b[0m\u001b[0;34m(\u001b[0m\u001b[0mfilepath_or_buffer\u001b[0m\u001b[0;34m,\u001b[0m \u001b[0;34m**\u001b[0m\u001b[0mkwds\u001b[0m\u001b[0;34m)\u001b[0m\u001b[0;34m\u001b[0m\u001b[0;34m\u001b[0m\u001b[0m\n\u001b[0m\u001b[1;32m    578\u001b[0m \u001b[0;34m\u001b[0m\u001b[0m\n\u001b[1;32m    579\u001b[0m     \u001b[0;32mif\u001b[0m \u001b[0mchunksize\u001b[0m \u001b[0;32mor\u001b[0m \u001b[0miterator\u001b[0m\u001b[0;34m:\u001b[0m\u001b[0;34m\u001b[0m\u001b[0;34m\u001b[0m\u001b[0m\n",
            "\u001b[0;32m/usr/local/lib/python3.10/dist-packages/pandas/io/parsers/readers.py\u001b[0m in \u001b[0;36m__init__\u001b[0;34m(self, f, engine, **kwds)\u001b[0m\n\u001b[1;32m   1405\u001b[0m \u001b[0;34m\u001b[0m\u001b[0m\n\u001b[1;32m   1406\u001b[0m         \u001b[0mself\u001b[0m\u001b[0;34m.\u001b[0m\u001b[0mhandles\u001b[0m\u001b[0;34m:\u001b[0m \u001b[0mIOHandles\u001b[0m \u001b[0;34m|\u001b[0m \u001b[0;32mNone\u001b[0m \u001b[0;34m=\u001b[0m \u001b[0;32mNone\u001b[0m\u001b[0;34m\u001b[0m\u001b[0;34m\u001b[0m\u001b[0m\n\u001b[0;32m-> 1407\u001b[0;31m         \u001b[0mself\u001b[0m\u001b[0;34m.\u001b[0m\u001b[0m_engine\u001b[0m \u001b[0;34m=\u001b[0m \u001b[0mself\u001b[0m\u001b[0;34m.\u001b[0m\u001b[0m_make_engine\u001b[0m\u001b[0;34m(\u001b[0m\u001b[0mf\u001b[0m\u001b[0;34m,\u001b[0m \u001b[0mself\u001b[0m\u001b[0;34m.\u001b[0m\u001b[0mengine\u001b[0m\u001b[0;34m)\u001b[0m\u001b[0;34m\u001b[0m\u001b[0;34m\u001b[0m\u001b[0m\n\u001b[0m\u001b[1;32m   1408\u001b[0m \u001b[0;34m\u001b[0m\u001b[0m\n\u001b[1;32m   1409\u001b[0m     \u001b[0;32mdef\u001b[0m \u001b[0mclose\u001b[0m\u001b[0;34m(\u001b[0m\u001b[0mself\u001b[0m\u001b[0;34m)\u001b[0m \u001b[0;34m->\u001b[0m \u001b[0;32mNone\u001b[0m\u001b[0;34m:\u001b[0m\u001b[0;34m\u001b[0m\u001b[0;34m\u001b[0m\u001b[0m\n",
            "\u001b[0;32m/usr/local/lib/python3.10/dist-packages/pandas/io/parsers/readers.py\u001b[0m in \u001b[0;36m_make_engine\u001b[0;34m(self, f, engine)\u001b[0m\n\u001b[1;32m   1659\u001b[0m                 \u001b[0;32mif\u001b[0m \u001b[0;34m\"b\"\u001b[0m \u001b[0;32mnot\u001b[0m \u001b[0;32min\u001b[0m \u001b[0mmode\u001b[0m\u001b[0;34m:\u001b[0m\u001b[0;34m\u001b[0m\u001b[0;34m\u001b[0m\u001b[0m\n\u001b[1;32m   1660\u001b[0m                     \u001b[0mmode\u001b[0m \u001b[0;34m+=\u001b[0m \u001b[0;34m\"b\"\u001b[0m\u001b[0;34m\u001b[0m\u001b[0;34m\u001b[0m\u001b[0m\n\u001b[0;32m-> 1661\u001b[0;31m             self.handles = get_handle(\n\u001b[0m\u001b[1;32m   1662\u001b[0m                 \u001b[0mf\u001b[0m\u001b[0;34m,\u001b[0m\u001b[0;34m\u001b[0m\u001b[0;34m\u001b[0m\u001b[0m\n\u001b[1;32m   1663\u001b[0m                 \u001b[0mmode\u001b[0m\u001b[0;34m,\u001b[0m\u001b[0;34m\u001b[0m\u001b[0;34m\u001b[0m\u001b[0m\n",
            "\u001b[0;32m/usr/local/lib/python3.10/dist-packages/pandas/io/common.py\u001b[0m in \u001b[0;36mget_handle\u001b[0;34m(path_or_buf, mode, encoding, compression, memory_map, is_text, errors, storage_options)\u001b[0m\n\u001b[1;32m    857\u001b[0m         \u001b[0;32mif\u001b[0m \u001b[0mioargs\u001b[0m\u001b[0;34m.\u001b[0m\u001b[0mencoding\u001b[0m \u001b[0;32mand\u001b[0m \u001b[0;34m\"b\"\u001b[0m \u001b[0;32mnot\u001b[0m \u001b[0;32min\u001b[0m \u001b[0mioargs\u001b[0m\u001b[0;34m.\u001b[0m\u001b[0mmode\u001b[0m\u001b[0;34m:\u001b[0m\u001b[0;34m\u001b[0m\u001b[0;34m\u001b[0m\u001b[0m\n\u001b[1;32m    858\u001b[0m             \u001b[0;31m# Encoding\u001b[0m\u001b[0;34m\u001b[0m\u001b[0;34m\u001b[0m\u001b[0m\n\u001b[0;32m--> 859\u001b[0;31m             handle = open(\n\u001b[0m\u001b[1;32m    860\u001b[0m                 \u001b[0mhandle\u001b[0m\u001b[0;34m,\u001b[0m\u001b[0;34m\u001b[0m\u001b[0;34m\u001b[0m\u001b[0m\n\u001b[1;32m    861\u001b[0m                 \u001b[0mioargs\u001b[0m\u001b[0;34m.\u001b[0m\u001b[0mmode\u001b[0m\u001b[0;34m,\u001b[0m\u001b[0;34m\u001b[0m\u001b[0;34m\u001b[0m\u001b[0m\n",
            "\u001b[0;31mFileNotFoundError\u001b[0m: [Errno 2] No such file or directory: '/content/data_all_generations (6).csv'"
          ]
        }
      ],
      "source": [
        "import pandas as pd\n",
        "\n",
        "# Load the CSV file into a DataFrame\n",
        "df1 = pd.read_csv('/content/data_all_generations (6).csv')\n",
        "\n",
        "# Display the first few rows of the DataFrame\n",
        "print(df1.head())\n",
        "\n",
        "\n",
        "# Load the CSV file into a DataFrame\n",
        "df2 = pd.read_csv('/content/data_all_generations (9).csv')\n",
        "\n",
        "# Display the first few rows of the DataFrame\n",
        "print(df2.head())"
      ]
    },
    {
      "cell_type": "code",
      "execution_count": null,
      "metadata": {
        "colab": {
          "base_uri": "https://localhost:8080/"
        },
        "id": "Sw-qJyXi1VAO",
        "outputId": "93ebc51e-9b5c-4ac8-c4ba-4d229b7bb330"
      },
      "outputs": [
        {
          "name": "stdout",
          "output_type": "stream",
          "text": [
            "category\n",
            "Balanced       89\n",
            "Hydrophilic    61\n",
            "Name: count, dtype: int64\n",
            "category\n",
            "Balanced       59.333333\n",
            "Hydrophilic    40.666667\n",
            "Name: proportion, dtype: float64\n"
          ]
        }
      ],
      "source": [
        "import numpy as np\n",
        "# Define the conditions for categorization\n",
        "conditions = [\n",
        "    (df1['fitness'] > 3),        # Lipophilic\n",
        "    (df1['fitness'] >= 0) & (df1['fitness'] <= 3),  # Balanced\n",
        "    (df1['fitness'] < 0)         # Hydrophilic\n",
        "]\n",
        "\n",
        "# Corresponding labels for each condition\n",
        "labels = ['Lipophilic', 'Balanced', 'Hydrophilic']\n",
        "\n",
        "# Apply the conditions and labels\n",
        "df1['category'] = np.select(conditions, labels, default='Unknown')\n",
        "\n",
        "# Count the occurrences of each category\n",
        "category_counts = df1['category'].value_counts()\n",
        "\n",
        "# Print the counts\n",
        "print(category_counts)\n",
        "\n",
        "per_counts = df1['category'].value_counts(normalize=True) * 100\n",
        "print(per_counts)"
      ]
    },
    {
      "cell_type": "code",
      "execution_count": null,
      "metadata": {
        "colab": {
          "base_uri": "https://localhost:8080/"
        },
        "id": "JRCN60f41gNK",
        "outputId": "3ea1ee2d-7ce9-4764-8bab-443897e2342a"
      },
      "outputs": [
        {
          "name": "stdout",
          "output_type": "stream",
          "text": [
            "category\n",
            "Balanced       33\n",
            "Hydrophilic    17\n",
            "Name: count, dtype: int64\n",
            "category\n",
            "Balanced       66.0\n",
            "Hydrophilic    34.0\n",
            "Name: proportion, dtype: float64\n"
          ]
        }
      ],
      "source": [
        "import numpy as np\n",
        "# Define the conditions for categorization\n",
        "conditions = [\n",
        "    (df2['fitness'] > 3),        # Lipophilic\n",
        "    (df2['fitness'] >= 0) & (df2['fitness'] <= 3),  # Balanced\n",
        "    (df2['fitness'] < 0)         # Hydrophilic\n",
        "]\n",
        "\n",
        "# Corresponding labels for each condition\n",
        "labels = ['Lipophilic', 'Balanced', 'Hydrophilic']\n",
        "\n",
        "# Apply the conditions and labels\n",
        "df2['category'] = np.select(conditions, labels, default='Unknown')\n",
        "\n",
        "# Count the occurrences of each category\n",
        "category_counts = df2['category'].value_counts()\n",
        "\n",
        "# Print the counts\n",
        "print(category_counts)\n",
        "\n",
        "per_counts = df2['category'].value_counts(normalize=True) * 100\n",
        "print(per_counts)"
      ]
    },
    {
      "cell_type": "code",
      "execution_count": null,
      "metadata": {
        "colab": {
          "base_uri": "https://localhost:8080/",
          "height": 871
        },
        "id": "F488qF4c1maG",
        "outputId": "7e047863-c90d-4524-f761-fc5ff39bb2ca"
      },
      "outputs": [
        {
          "data": {
            "image/png": "[encoded data removed]",
            "text/plain": [
              "<Figure size 700x500 with 1 Axes>"
            ]
          },
          "metadata": {},
          "output_type": "display_data"
        },
        {
          "data": {
            "image/png": "[encoded data removed]",
            "text/plain": [
              "<Figure size 700x500 with 1 Axes>"
            ]
          },
          "metadata": {},
          "output_type": "display_data"
        }
      ],
      "source": [
        "import pandas as pd\n",
        "import matplotlib.pyplot as plt\n",
        "\n",
        "# Data for the first set\n",
        "data_1 = {\n",
        "    'Balanced': 59.333,\n",
        "    'Hydrophilic': 40.667,\n",
        "}\n",
        "\n",
        "# Data for the second set\n",
        "data_2 = {\n",
        "    'Balanced': 66,\n",
        "    'Hydrophilic': 34}\n",
        "\n",
        "# Creating DataFrames\n",
        "df_1 = pd.Series(data_1).reset_index(name='count').rename(columns={'index': 'category'})\n",
        "df_2 = pd.Series(data_2).reset_index(name='count').rename(columns={'index': 'category'})\n",
        "\n",
        "# Function to plot pie chart\n",
        "def plot_pie_chart(df, chart_title):\n",
        "    plt.figure(figsize=(7, 5))\n",
        "    plt.pie(df['count'], labels=df['category'], autopct='%1.1f%%', startangle=90)\n",
        "    plt.title(chart_title)\n",
        "    plt.axis('equal')  # Equal aspect ratio ensures that pie is drawn as a circle.\n",
        "    plt.show()\n",
        "\n",
        "# Plotting pie charts for each data set\n",
        "plot_pie_chart(df_1, 'Compounds based on AutoGrow4 From LogPdata Trained on 1 Epochs More Mutation')\n",
        "plot_pie_chart(df_2, 'Compounds based on JT-VAE From LogPdata Trained on 1 Epochs Less Mutation')\n"
      ]
    },
    {
      "cell_type": "code",
      "execution_count": null,
      "metadata": {
        "colab": {
          "base_uri": "https://localhost:8080/"
        },
        "id": "laUBH2ma1tSW",
        "outputId": "69247428-f7fa-48c0-fc5b-9c6920835fcb"
      },
      "outputs": [
        {
          "name": "stdout",
          "output_type": "stream",
          "text": [
            "category\n",
            "Balanced       25\n",
            "Hydrophilic    24\n",
            "Lipophilic      1\n",
            "Name: count, dtype: int64\n",
            "category\n",
            "Balanced       59.333333\n",
            "Hydrophilic    40.666667\n",
            "Name: proportion, dtype: float64\n"
          ]
        }
      ],
      "source": []
    },
    {
      "cell_type": "code",
      "execution_count": null,
      "metadata": {
        "colab": {
          "base_uri": "https://localhost:8080/"
        },
        "id": "_9aSibqG2qLq",
        "outputId": "fde39195-e057-4ef6-b8f2-03de67d4e2ab"
      },
      "outputs": [
        {
          "data": {
            "text/plain": [
              "source\n",
              "mutation     68\n",
              "crossover    66\n",
              "initial      16\n",
              "Name: count, dtype: int64"
            ]
          },
          "execution_count": 32,
          "metadata": {},
          "output_type": "execute_result"
        }
      ],
      "source": [
        " df1['source'].value_counts()"
      ]
    },
    {
      "cell_type": "code",
      "execution_count": null,
      "metadata": {
        "colab": {
          "base_uri": "https://localhost:8080/"
        },
        "id": "lEbHUteU25GF",
        "outputId": "ae1f4339-b9ae-4c37-b425-bc93ddff190c"
      },
      "outputs": [
        {
          "data": {
            "text/plain": [
              "source\n",
              "mutation     20\n",
              "crossover    20\n",
              "initial      10\n",
              "Name: count, dtype: int64"
            ]
          },
          "execution_count": 33,
          "metadata": {},
          "output_type": "execute_result"
        }
      ],
      "source": [
        " df2['source'].value_counts()"
      ]
    },
    {
      "cell_type": "code",
      "execution_count": null,
      "metadata": {
        "id": "e4QT0itv26P9"
      },
      "outputs": [],
      "source": []
    },
    {
      "cell_type": "markdown",
      "metadata": {
        "id": "yxOdIU7S6jr5"
      },
      "source": []
    },
    {
      "cell_type": "code",
      "execution_count": null,
      "metadata": {
        "colab": {
          "base_uri": "https://localhost:8080/"
        },
        "id": "QzmlfSPw6kN7",
        "outputId": "3576c785-ccb0-4dd5-a78c-9ae6ed3a49a0"
      },
      "outputs": [
        {
          "name": "stdout",
          "output_type": "stream",
          "text": [
            "                                              smiles  parent1_id  reaction_id  \\\n",
            "0  CN(Cc1ccccc1Cl)C(=O)c1ccc(N(C(=O)OC(C)(C)C)C(=...        43.0         26.0   \n",
            "1  COC(=O)c1[nH]c(C)cc1NC(=S)N1CC(Oc2ccc(C)cc2)C(...        27.0         32.0   \n",
            "2     C[C@H]1C=CC[C@@H](C)N1c1ccc(C(=O)NCc2ccco2)cn1        14.0         90.0   \n",
            "3  Cc1c(C(=O)N2CCCC2)cccc1N(C(=O)c1cccc2cc[nH]c12...        28.0         13.0   \n",
            "4                     C[C@H]1SC(C(F)(F)F)NC1C(F)(F)F        15.0         43.0   \n",
            "\n",
            "            zinc_id    source generation  parent2_id  compound_id   fitness  \n",
            "0  ZINC000104147066  mutation        [1]         NaN         50.0 -0.230076  \n",
            "1  ZINC000057352374  mutation        [1]         NaN         51.0  0.508508  \n",
            "2  ZINC000033802586  mutation        [1]         NaN         52.0 -0.901463  \n",
            "3  ZINC000001558054  mutation        [1]         NaN         53.0 -0.333770  \n",
            "4  ZINC000002560294  mutation        [1]         NaN         54.0 -3.015528  \n",
            "                                              smiles  parent1_id  reaction_id  \\\n",
            "0  O=C(NC=Cc1ccc(F)c(F)c1)Nc1c(Nc2cc(Cl)cc(Cl)c2)...        48.0         93.0   \n",
            "1  C[C]1C[C@@]1(C)C(=O)N(C(=O)[C@@H](C)NC(=O)c1cc...        12.0         23.0   \n",
            "2   CCCc1cc(C(=O)N(C(=O)Oc2ccccc2Cl)c2ccc(Br)cn2)cs1         9.0         12.0   \n",
            "3                    O=C(CN1C(=O)c2ccccc2C1=O)N1CCC1        38.0         23.0   \n",
            "4  O=C(c1cccc(N(C(=O)c2ccnc3cccnc23)C(=O)[C@H]2C[...        27.0         18.0   \n",
            "\n",
            "            zinc_id    source generation  parent2_id  compound_id   fitness  \n",
            "0  ZINC000071623995  mutation        [1]         NaN         50.0  2.531230  \n",
            "1  ZINC000104146969  mutation        [1]         NaN         51.0 -0.661484  \n",
            "2  ZINC000000403373  mutation        [1]         NaN         52.0  2.117868  \n",
            "3  ZINC000014951819  mutation        [1]         NaN         53.0 -1.091095  \n",
            "4  ZINC000211600204  mutation        [1]         NaN         54.0 -1.282983  \n"
          ]
        }
      ],
      "source": [
        "import pandas as pd\n",
        "\n",
        "# Load the CSV file into a DataFrame\n",
        "df1 = pd.read_csv('/content/data_all_generations (12).csv')\n",
        "\n",
        "# Display the first few rows of the DataFrame\n",
        "print(df1.head())\n",
        "\n",
        "# Load the CSV file into a DataFrame\n",
        "df2 = pd.read_csv('/content/data_all_generations (13).csv')\n",
        "\n",
        "# Display the first few rows of the DataFrame\n",
        "print(df2.head())"
      ]
    },
    {
      "cell_type": "code",
      "execution_count": null,
      "metadata": {
        "colab": {
          "base_uri": "https://localhost:8080/"
        },
        "id": "uzSkXVBu7Yhz",
        "outputId": "a7bfa501-0eaf-4924-fa54-8fb177ba7eec"
      },
      "outputs": [
        {
          "name": "stdout",
          "output_type": "stream",
          "text": [
            "category\n",
            "Balanced       29\n",
            "Hydrophilic    21\n",
            "Name: count, dtype: int64\n",
            "category\n",
            "Balanced       58.0\n",
            "Hydrophilic    42.0\n",
            "Name: proportion, dtype: float64\n"
          ]
        }
      ],
      "source": [
        "# Define the conditions for categorization\n",
        "conditions = [\n",
        "    (df1['fitness'] > 3),        # Lipophilic\n",
        "    (df1['fitness'] >= 0) & (df1['fitness'] <= 3),  # Balanced\n",
        "    (df1['fitness'] < 0)         # Hydrophilic\n",
        "]\n",
        "\n",
        "# Corresponding labels for each condition\n",
        "labels = ['Lipophilic', 'Balanced', 'Hydrophilic']\n",
        "\n",
        "# Apply the conditions and labels\n",
        "df1['category'] = np.select(conditions, labels, default='Unknown')\n",
        "\n",
        "# Count the occurrences of each category\n",
        "category_counts = df1['category'].value_counts()\n",
        "\n",
        "# Print the counts\n",
        "print(category_counts)\n",
        "\n",
        "per_counts = df1['category'].value_counts(normalize=True) * 100\n",
        "print(per_counts)"
      ]
    },
    {
      "cell_type": "code",
      "execution_count": null,
      "metadata": {
        "colab": {
          "base_uri": "https://localhost:8080/"
        },
        "id": "bezuPXZl6z7r",
        "outputId": "482a0a23-985d-4f5c-8efa-cdeb8fa912a7"
      },
      "outputs": [
        {
          "name": "stdout",
          "output_type": "stream",
          "text": [
            "category\n",
            "Balanced       27\n",
            "Hydrophilic    23\n",
            "Name: count, dtype: int64\n",
            "category\n",
            "Balanced       54.0\n",
            "Hydrophilic    46.0\n",
            "Name: proportion, dtype: float64\n"
          ]
        }
      ],
      "source": [
        "# Define the conditions for categorization\n",
        "conditions = [\n",
        "    (df2['fitness'] > 3),        # Lipophilic\n",
        "    (df2['fitness'] >= 0) & (df2['fitness'] <= 3),  # Balanced\n",
        "    (df2['fitness'] < 0)         # Hydrophilic\n",
        "]\n",
        "\n",
        "# Corresponding labels for each condition\n",
        "labels = ['Lipophilic', 'Balanced', 'Hydrophilic']\n",
        "\n",
        "# Apply the conditions and labels\n",
        "df2['category'] = np.select(conditions, labels, default='Unknown')\n",
        "\n",
        "# Count the occurrences of each category\n",
        "category_counts = df2['category'].value_counts()\n",
        "\n",
        "# Print the counts\n",
        "print(category_counts)\n",
        "\n",
        "per_counts = df2['category'].value_counts(normalize=True) * 100\n",
        "print(per_counts)"
      ]
    },
    {
      "cell_type": "code",
      "execution_count": null,
      "metadata": {
        "colab": {
          "base_uri": "https://localhost:8080/",
          "height": 871
        },
        "id": "GeI-Z_Gt7StR",
        "outputId": "d7fe07eb-8be5-4d08-f640-72790d3ec7a1"
      },
      "outputs": [
        {
          "data": {
            "image/png": "[encoded data removed]",
            "text/plain": [
              "<Figure size 700x500 with 1 Axes>"
            ]
          },
          "metadata": {},
          "output_type": "display_data"
        },
        {
          "data": {
            "image/png": "[encoded data removed]",
            "text/plain": [
              "<Figure size 700x500 with 1 Axes>"
            ]
          },
          "metadata": {},
          "output_type": "display_data"
        }
      ],
      "source": [
        "import pandas as pd\n",
        "import matplotlib.pyplot as plt\n",
        "\n",
        "# Data for the first set\n",
        "data_1 = {\n",
        "    'Balanced': 29,\n",
        "    'Hydrophilic': 21,\n",
        "}\n",
        "\n",
        "# Data for the second set\n",
        "data_2 = {\n",
        "    'Balanced': 27,\n",
        "    'Hydrophilic': 23}\n",
        "\n",
        "# Creating DataFrames\n",
        "df_1 = pd.Series(data_1).reset_index(name='count').rename(columns={'index': 'category'})\n",
        "df_2 = pd.Series(data_2).reset_index(name='count').rename(columns={'index': 'category'})\n",
        "\n",
        "# Function to plot pie chart\n",
        "def plot_pie_chart(df, chart_title):\n",
        "    plt.figure(figsize=(7, 5))\n",
        "    plt.pie(df['count'], labels=df['category'], autopct='%1.1f%%', startangle=90)\n",
        "    plt.title(chart_title)\n",
        "    plt.axis('equal')  # Equal aspect ratio ensures that pie is drawn as a circle.\n",
        "    plt.show()\n",
        "\n",
        "# Plotting pie charts for each data set\n",
        "plot_pie_chart(df_1, 'Compounds based on AutoGrow4 From LogPdata Trained on 1 Epochs More crosses')\n",
        "plot_pie_chart(df_2, 'Compounds based on JT-VAE From LogPdata Trained on 1 Epochs Less crosses')\n"
      ]
    },
    {
      "cell_type": "code",
      "execution_count": null,
      "metadata": {
        "colab": {
          "base_uri": "https://localhost:8080/"
        },
        "id": "Jepms0kJ8ieU",
        "outputId": "5cbd0439-9e72-4936-a16a-a97d7ed2216b"
      },
      "outputs": [
        {
          "data": {
            "text/plain": [
              "source\n",
              "mutation     20\n",
              "crossover    20\n",
              "initial      10\n",
              "Name: count, dtype: int64"
            ]
          },
          "execution_count": 47,
          "metadata": {},
          "output_type": "execute_result"
        }
      ],
      "source": [
        " df1['source'].value_counts()"
      ]
    },
    {
      "cell_type": "code",
      "execution_count": null,
      "metadata": {
        "colab": {
          "base_uri": "https://localhost:8080/"
        },
        "id": "PlWpGZYa9lAN",
        "outputId": "fe5167f6-d2a9-48a6-b86b-d84dd539362a"
      },
      "outputs": [
        {
          "data": {
            "text/plain": [
              "source\n",
              "mutation     20\n",
              "crossover    20\n",
              "initial      10\n",
              "Name: count, dtype: int64"
            ]
          },
          "execution_count": 46,
          "metadata": {},
          "output_type": "execute_result"
        }
      ],
      "source": [
        " df2['source'].value_counts()"
      ]
    },
    {
      "cell_type": "markdown",
      "metadata": {
        "id": "3UX9f5gfO9to"
      },
      "source": [
        "Zinc"
      ]
    },
    {
      "cell_type": "code",
      "execution_count": null,
      "metadata": {
        "colab": {
          "base_uri": "https://localhost:8080/"
        },
        "id": "1fYYddwf9nLC",
        "outputId": "7d5eb780-d050-4485-d82c-6713d58ae5f8"
      },
      "outputs": [
        {
          "name": "stdout",
          "output_type": "stream",
          "text": [
            "                                              smiles  parent1_id  reaction_id  \\\n",
            "0  CC[C@@H](NC(=O)c1cc(-c2ccncc2)nc2ccc(OC3CC(C(N...        42.0         19.0   \n",
            "1                                  CCCCC[C@H](C#N)CC        28.0         21.0   \n",
            "2             CCCCC(=O)N(C(=O)CCl)c1ccc(C(=O)NCC)cc1        16.0         26.0   \n",
            "3  CCc1nc(-c2cc(NC(=O)c3cccc(-c4cc(O)ccc4C=O)c3)c...         6.0         79.0   \n",
            "4  O=C(NC[C@@H]1CC=CCC1)N1CCN(CCn2ccc(-c3ccccc3)n...        22.0         31.0   \n",
            "\n",
            "            zinc_id    source generation  parent2_id  compound_id   fitness  \n",
            "0  ZINC000096528042  mutation        [1]         NaN         50.0  0.565159  \n",
            "1               NaN  mutation        [1]         NaN         51.0 -0.560981  \n",
            "2  ZINC000059696906  mutation        [1]         NaN         52.0  0.256691  \n",
            "3  ZINC000038220999  mutation        [1]         NaN         53.0  1.250350  \n",
            "4  ZINC000062822194  mutation        [1]         NaN         54.0 -0.866021  \n"
          ]
        }
      ],
      "source": [
        "df1 = pd.read_csv('/content/data_all_generations (14).csv')\n",
        "\n",
        "# Display the first few rows of the DataFrame\n",
        "print(df1.head())"
      ]
    },
    {
      "cell_type": "code",
      "execution_count": null,
      "metadata": {
        "colab": {
          "base_uri": "https://localhost:8080/"
        },
        "id": "nSZSEf_bPK8U",
        "outputId": "e97c9ac6-4267-42a7-8712-a6e90365cdd5"
      },
      "outputs": [
        {
          "name": "stdout",
          "output_type": "stream",
          "text": [
            "category\n",
            "Balanced       29\n",
            "Hydrophilic    21\n",
            "Name: count, dtype: int64\n",
            "category\n",
            "Balanced       58.0\n",
            "Hydrophilic    42.0\n",
            "Name: proportion, dtype: float64\n"
          ]
        }
      ],
      "source": [
        "# Define the conditions for categorization\n",
        "conditions = [\n",
        "    (df1['fitness'] > 3),        # Lipophilic\n",
        "    (df1['fitness'] >= 0) & (df1['fitness'] <= 3),  # Balanced\n",
        "    (df1['fitness'] < 0)         # Hydrophilic\n",
        "]\n",
        "\n",
        "# Corresponding labels for each condition\n",
        "labels = ['Lipophilic', 'Balanced', 'Hydrophilic']\n",
        "\n",
        "# Apply the conditions and labels\n",
        "df1['category'] = np.select(conditions, labels, default='Unknown')\n",
        "\n",
        "# Count the occurrences of each category\n",
        "category_counts = df1['category'].value_counts()\n",
        "\n",
        "# Print the counts\n",
        "print(category_counts)\n",
        "\n",
        "per_counts = df1['category'].value_counts(normalize=True) * 100\n",
        "print(per_counts)"
      ]
    },
    {
      "cell_type": "code",
      "execution_count": null,
      "metadata": {
        "colab": {
          "base_uri": "https://localhost:8080/",
          "height": 444
        },
        "id": "8ZG9-KYBPOoR",
        "outputId": "92f3b6ee-031c-49ed-ae53-d774b10e3153"
      },
      "outputs": [
        {
          "data": {
            "image/png": "[encoded data removed]",
            "text/plain": [
              "<Figure size 700x500 with 1 Axes>"
            ]
          },
          "metadata": {},
          "output_type": "display_data"
        }
      ],
      "source": [
        "import pandas as pd\n",
        "import matplotlib.pyplot as plt\n",
        "\n",
        "# Data for the first set\n",
        "data_1 = {\n",
        "    'Balanced': 29,\n",
        "    'Hydrophilic': 21,\n",
        "}\n",
        "\n",
        "# Creating DataFrames\n",
        "df_1 = pd.Series(data_1).reset_index(name='count').rename(columns={'index': 'category'})\n",
        "\n",
        "# Function to plot pie chart\n",
        "def plot_pie_chart(df, chart_title):\n",
        "    plt.figure(figsize=(7, 5))\n",
        "    plt.pie(df['count'], labels=df['category'], autopct='%1.1f%%', startangle=90)\n",
        "    plt.title(chart_title)\n",
        "    plt.axis('equal')  # Equal aspect ratio ensures that pie is drawn as a circle.\n",
        "    plt.show()\n",
        "\n",
        "# Plotting pie charts for each data set\n",
        "plot_pie_chart(df_1, 'Compounds based on AutoGrow4 From Zinc')\n"
      ]
    },
    {
      "cell_type": "code",
      "execution_count": null,
      "metadata": {
        "id": "a-jOZkakPZ_H"
      },
      "outputs": [],
      "source": []
    },
    {
      "cell_type": "code",
      "execution_count": null,
      "metadata": {
        "colab": {
          "base_uri": "https://localhost:8080/"
        },
        "id": "Cnm7dgM8cpu-",
        "outputId": "f78929ce-b21a-4109-9947-21d61f7613a5"
      },
      "outputs": [
        {
          "name": "stdout",
          "output_type": "stream",
          "text": [
            "                                              smiles  parent1_id  reaction_id  \\\n",
            "0  Cc1cc(C)n(-c2ccc(N(C(=O)c3ccc(SC(F)F)cc3)C(=S)...        17.0         32.0   \n",
            "1  CCCCOC(=O)N(CCC)C(=O)C1(c2ccc(NC(=O)c3ccc(C)cc...         4.0         12.0   \n",
            "2  CCn1c(C)cc(C(=CC(=O)N2CCC[C@H](N)C2)CSc2nc3scc...        26.0         86.0   \n",
            "3  O=C(Nc1ccc(N2CCCCC2)c(OC[C@H]2CCN2C2CC2)c1)c1c...        37.0         19.0   \n",
            "4  C=C(C=CC=C(C)C=CC1=C(C)CCCC1(C)C)C=C(O)OC[C@H]...        14.0         65.0   \n",
            "\n",
            "            zinc_id    source generation  parent2_id  compound_id   fitness  \n",
            "0  ZINC000000167163  mutation        [1]         NaN         50.0  2.354852  \n",
            "1  ZINC000001586736  mutation        [1]         NaN         51.0  1.885470  \n",
            "2  ZINC000253567521  mutation        [1]         NaN         52.0 -0.266595  \n",
            "3  ZINC000211644647  mutation        [1]         NaN         53.0 -0.381458  \n",
            "4  ZINC001204604266  mutation        [1]         NaN         54.0  0.292430  \n",
            "   compound_id                                     smiles generation  \\\n",
            "0           14     CCN(CC)C(=O)c1cn(-c2ccccc2)nc1-c1cccs1     [0, 1]   \n",
            "1           41        Cc1ccc(C)c(CC(=O)c2ccc(F)c(F)c2F)c1     [0, 1]   \n",
            "2           47                  COc1ccc(C=O)cc1CSc1ccccc1     [0, 1]   \n",
            "3           21          Cc1nc2ccc(NC(=O)c3csc(Br)c3)cc2o1     [0, 1]   \n",
            "4           28  Cc1ccc(NC(=O)c2nnc(SCC(=O)N3CCCCC3)s2)cc1     [0, 1]   \n",
            "\n",
            "                                          chromosome   fitness  parent1_id  \\\n",
            "0  [-1.0252801   0.07452926 -1.8406037   0.051679...  2.073733         NaN   \n",
            "1  [ 4.01699901e-01 -1.73190534e+00 -1.71074104e+...  2.174008         NaN   \n",
            "2  [ 2.34127194e-02 -1.21884751e+00 -1.10710859e+...  2.219459         NaN   \n",
            "3  [ 0.02077654  0.2499374  -0.54288965  0.890620...  1.928716         NaN   \n",
            "4  [-8.51088166e-01 -4.16232675e-01 -4.23751652e-...  1.521931         NaN   \n",
            "\n",
            "   parent2_id  \n",
            "0         NaN  \n",
            "1         NaN  \n",
            "2         NaN  \n",
            "3         NaN  \n",
            "4         NaN  \n"
          ]
        }
      ],
      "source": [
        "import pandas as pd\n",
        "\n",
        "# Load the CSV file into a DataFrame\n",
        "df1 = pd.read_csv('/content/data_all_generations (15).csv')\n",
        "\n",
        "# Display the first few rows of the DataFrame\n",
        "print(df1.head())\n",
        "\n",
        "# Load the CSV file into a DataFrame\n",
        "df2 = pd.read_csv('/content/data_all_generations (16).csv')\n",
        "\n",
        "# Display the first few rows of the DataFrame\n",
        "print(df2.head())"
      ]
    },
    {
      "cell_type": "code",
      "execution_count": null,
      "metadata": {
        "colab": {
          "base_uri": "https://localhost:8080/"
        },
        "id": "6cVwBit6cwDW",
        "outputId": "a6f1f9fb-42e4-499f-c992-2c1bd73ea723"
      },
      "outputs": [
        {
          "name": "stdout",
          "output_type": "stream",
          "text": [
            "category\n",
            "Balanced       28\n",
            "Hydrophilic    22\n",
            "Name: count, dtype: int64\n",
            "category\n",
            "Balanced       56.0\n",
            "Hydrophilic    44.0\n",
            "Name: proportion, dtype: float64\n"
          ]
        }
      ],
      "source": [
        "# Define the conditions for categorization\n",
        "conditions = [\n",
        "    (df1['fitness'] > 3),        # Lipophilic\n",
        "    (df1['fitness'] >= 0) & (df1['fitness'] <= 3),  # Balanced\n",
        "    (df1['fitness'] < 0)         # Hydrophilic\n",
        "]\n",
        "\n",
        "# Corresponding labels for each condition\n",
        "labels = ['Lipophilic', 'Balanced', 'Hydrophilic']\n",
        "\n",
        "# Apply the conditions and labels\n",
        "df1['category'] = np.select(conditions, labels, default='Unknown')\n",
        "\n",
        "# Count the occurrences of each category\n",
        "category_counts = df1['category'].value_counts()\n",
        "\n",
        "# Print the counts\n",
        "print(category_counts)\n",
        "\n",
        "per_counts = df1['category'].value_counts(normalize=True) * 100\n",
        "print(per_counts)"
      ]
    },
    {
      "cell_type": "code",
      "execution_count": null,
      "metadata": {
        "colab": {
          "base_uri": "https://localhost:8080/"
        },
        "id": "DE0oRo5hc1oV",
        "outputId": "d984e764-78fe-41d8-b00e-69a73524d320"
      },
      "outputs": [
        {
          "name": "stdout",
          "output_type": "stream",
          "text": [
            "category\n",
            "Balanced       43\n",
            "Hydrophilic    27\n",
            "Name: count, dtype: int64\n",
            "category\n",
            "Balanced       61.428571\n",
            "Hydrophilic    38.571429\n",
            "Name: proportion, dtype: float64\n"
          ]
        }
      ],
      "source": [
        "# Define the conditions for categorization\n",
        "conditions = [\n",
        "    (df2['fitness'] > 3),        # Lipophilic\n",
        "    (df2['fitness'] >= 0) & (df2['fitness'] <= 3),  # Balanced\n",
        "    (df2['fitness'] < 0)         # Hydrophilic\n",
        "]\n",
        "\n",
        "# Corresponding labels for each condition\n",
        "labels = ['Lipophilic', 'Balanced', 'Hydrophilic']\n",
        "\n",
        "# Apply the conditions and labels\n",
        "df2['category'] = np.select(conditions, labels, default='Unknown')\n",
        "\n",
        "# Count the occurrences of each category\n",
        "category_counts = df2['category'].value_counts()\n",
        "\n",
        "# Print the counts\n",
        "print(category_counts)\n",
        "\n",
        "per_counts = df2['category'].value_counts(normalize=True) * 100\n",
        "print(per_counts)"
      ]
    },
    {
      "cell_type": "code",
      "execution_count": null,
      "metadata": {
        "colab": {
          "base_uri": "https://localhost:8080/",
          "height": 444
        },
        "id": "CMtchX4ldBFM",
        "outputId": "60d3f066-a043-4087-c5aa-35be6637f09e"
      },
      "outputs": [
        {
          "data": {
            "image/png": "[encoded data removed]",
            "text/plain": [
              "<Figure size 700x500 with 1 Axes>"
            ]
          },
          "metadata": {},
          "output_type": "display_data"
        }
      ],
      "source": [
        "import pandas as pd\n",
        "import matplotlib.pyplot as plt\n",
        "\n",
        "# Data for the first set\n",
        "data_1 = {\n",
        "    'Balanced': 28,\n",
        "    'Hydrophilic': 22,\n",
        "}\n",
        "\n",
        "# Creating DataFrames\n",
        "df_1 = pd.Series(data_1).reset_index(name='count').rename(columns={'index': 'category'})\n",
        "\n",
        "# Function to plot pie chart\n",
        "def plot_pie_chart(df, chart_title):\n",
        "    plt.figure(figsize=(7, 5))\n",
        "    plt.pie(df['count'], labels=df['category'], autopct='%1.1f%%', startangle=90)\n",
        "    plt.title(chart_title)\n",
        "    plt.axis('equal')  # Equal aspect ratio ensures that pie is drawn as a circle.\n",
        "    plt.show()\n",
        "\n",
        "# Plotting pie charts for each data set\n",
        "plot_pie_chart(df_1, 'Compounds generated based on AutoGrow4 From Zinc and LogP')\n"
      ]
    },
    {
      "cell_type": "code",
      "execution_count": null,
      "metadata": {
        "colab": {
          "base_uri": "https://localhost:8080/",
          "height": 444
        },
        "id": "6utM1zy5dHtX",
        "outputId": "dd54ce97-b45a-4d39-b815-a4ba9f79ee4f"
      },
      "outputs": [
        {
          "data": {
            "image/png": "[encoded data removed]",
            "text/plain": [
              "<Figure size 700x500 with 1 Axes>"
            ]
          },
          "metadata": {},
          "output_type": "display_data"
        }
      ],
      "source": [
        "import pandas as pd\n",
        "import matplotlib.pyplot as plt\n",
        "\n",
        "# Data for the first set\n",
        "data_1 = {\n",
        "    'Balanced': 43,\n",
        "    'Hydrophilic': 27,\n",
        "}\n",
        "\n",
        "# Creating DataFrames\n",
        "df_1 = pd.Series(data_1).reset_index(name='count').rename(columns={'index': 'category'})\n",
        "\n",
        "# Function to plot pie chart\n",
        "def plot_pie_chart(df, chart_title):\n",
        "    plt.figure(figsize=(7, 5))\n",
        "    plt.pie(df['count'], labels=df['category'], autopct='%1.1f%%', startangle=90)\n",
        "    plt.title(chart_title)\n",
        "    plt.axis('equal')  # Equal aspect ratio ensures that pie is drawn as a circle.\n",
        "    plt.show()\n",
        "\n",
        "# Plotting pie charts for each data set\n",
        "plot_pie_chart(df_1, 'Compounds generated based on JT-VAE From Zinc and LogP')\n"
      ]
    },
    {
      "cell_type": "code",
      "execution_count": null,
      "metadata": {
        "colab": {
          "base_uri": "https://localhost:8080/"
        },
        "id": "T582ag4LdPeb",
        "outputId": "4aeab8e2-635c-474f-c3a4-b8197205f386"
      },
      "outputs": [
        {
          "name": "stdout",
          "output_type": "stream",
          "text": [
            "                                              smiles  parent1_id  reaction_id  \\\n",
            "0  COc1ccc(-c2nc3ccccc3[nH]2)cc1NC(=O)c1ccc(F)c(F...         1.0          NaN   \n",
            "1       COc1ccc(-c2nc3ccccc3[nH]2)cc1NC(=O)c1ccccc1F         5.0          NaN   \n",
            "2      COc1cccc(-c2cc(CCc3ccccc3)c(C#N)c(=O)[nH]2)c1        18.0          NaN   \n",
            "3        C=CCNC(=O)Cc1cc(N)cc(C)c1NC(=O)c1cccc(Cl)c1        10.0          NaN   \n",
            "4  COc1cc([C@@H]2C(C(=O)Nc3ccc(F)c(C(C)=O)c3)=C(C...        14.0          NaN   \n",
            "\n",
            "   zinc_id     source generation  parent2_id  compound_id   fitness  \n",
            "0      NaN  crossover        [1]        41.0         50.0  2.058218  \n",
            "1      NaN  crossover        [1]         1.0         51.0  2.214261  \n",
            "2      NaN  crossover        [1]         5.0         52.0  1.001716  \n",
            "3      NaN  crossover        [1]        44.0         53.0  0.511400  \n",
            "4      NaN  crossover        [1]        40.0         54.0 -0.522289  \n",
            "                                              smiles  parent1_id  reaction_id  \\\n",
            "0  Cc1ccccc1SCC(=O)N(CCc1nnn(C[C@H](CF)OCCO)n1)Cc...        21.0         46.0   \n",
            "1  CCC[C@H](C)C(=O)N(C(=O)c1sc2c(c1C)[C@@H](c1ccc...        48.0         26.0   \n",
            "2  C[C@@H](Oc1ccccc1-c1cncc(NC#N)n1)C(=O)N1CCC(C(...        18.0         79.0   \n",
            "3      CCCn1cncc1C(O)c1ccc(C#N)cc1NCc1nccn1CC(F)(F)F        26.0         81.0   \n",
            "4  C=C(C)[C@@H](C(=O)OC)C(O)(c1ccc(C(C)C)cc1)c1cc...        19.0         81.0   \n",
            "\n",
            "            zinc_id    source generation  parent2_id  compound_id   fitness  \n",
            "0  ZINC001217874843  mutation        [1]         NaN         50.0 -1.566514  \n",
            "1  ZINC000100508549  mutation        [1]         NaN         51.0  1.766057  \n",
            "2  ZINC001168630767  mutation        [1]         NaN         52.0 -0.032824  \n",
            "3  ZINC000038415716  mutation        [1]         NaN         53.0 -0.520216  \n",
            "4  ZINC000238357910  mutation        [1]         NaN         54.0  0.247131  \n",
            "                                         smiles  parent1_id  reaction_id  \\\n",
            "0            O=C(CCC1CCC1)N(c1ccccc1)c1ncccc1Br         NaN          NaN   \n",
            "1               COc1ccc(Nc2nc3ccc(C)cc3s2)cc1OC         NaN          NaN   \n",
            "2  COCc1ccccc1NC(=O)N(CC1CCC1)[C@@H](C)c1ccccc1         NaN          NaN   \n",
            "3        COCc1nc2cc(NCc3ccc(N4CCCCC4)cc3)ccc2o1         NaN          NaN   \n",
            "4                Cc1cccc(NC(=O)N(C)Cc2sccc2C)c1         NaN          NaN   \n",
            "\n",
            "   zinc_id   source generation  parent2_id  compound_id   fitness  \n",
            "0      NaN  initial     [0, 1]         NaN         43.0  3.110170  \n",
            "1      NaN  initial     [0, 1]         NaN         17.0  3.005550  \n",
            "2      NaN  initial     [0, 1]         NaN          9.0  2.938765  \n",
            "3      NaN  initial     [0, 1]         NaN         12.0  2.827535  \n",
            "4      NaN  initial     [0, 1]         NaN          3.0  2.526200  \n"
          ]
        }
      ],
      "source": [
        "import pandas as pd\n",
        "import matplotlib.pyplot as plt\n",
        "import numpy as np\n",
        "\n",
        "df1 = pd.read_csv('/content/data_all_generations (23).csv')\n",
        "\n",
        "# Display the first few rows of the DataFrame\n",
        "print(df1.head())\n",
        "\n",
        "\n",
        "# Load the CSV file into a DataFrame\n",
        "df2 = pd.read_csv('/content/data_all_generations (25).csv')\n",
        "\n",
        "# Display the first few rows of the DataFrame\n",
        "print(df2.head())\n",
        "\n",
        "\n",
        "# Load the CSV file into a DataFrame\n",
        "df3 = pd.read_csv('/content/data_all_generations (22).csv')\n",
        "\n",
        "# Display the first few rows of the DataFrame\n",
        "print(df3.head())"
      ]
    },
    {
      "cell_type": "code",
      "execution_count": null,
      "metadata": {
        "colab": {
          "base_uri": "https://localhost:8080/"
        },
        "id": "HM_EC2C_ZOWg",
        "outputId": "0362d9cc-03ae-44b5-c642-0b72ef16d291"
      },
      "outputs": [
        {
          "name": "stdout",
          "output_type": "stream",
          "text": [
            "category\n",
            "Balanced       27\n",
            "Hydrophilic    23\n",
            "Name: count, dtype: int64\n",
            "category\n",
            "Balanced       54.0\n",
            "Hydrophilic    46.0\n",
            "Name: proportion, dtype: float64\n"
          ]
        }
      ],
      "source": [
        "# Define the conditions for categorization\n",
        "conditions = [\n",
        "    (df1['fitness'] > 3),        # Lipophilic\n",
        "    (df1['fitness'] >= 0) & (df1['fitness'] <= 3),  # Balanced\n",
        "    (df1['fitness'] < 0)         # Hydrophilic\n",
        "]\n",
        "\n",
        "# Corresponding labels for each condition\n",
        "labels = ['Lipophilic', 'Balanced', 'Hydrophilic']\n",
        "\n",
        "# Apply the conditions and labels\n",
        "df1['category'] = np.select(conditions, labels, default='Unknown')\n",
        "\n",
        "# Count the occurrences of each category\n",
        "category_counts = df1['category'].value_counts()\n",
        "\n",
        "# Print the counts\n",
        "print(category_counts)\n",
        "\n",
        "per_counts = df1['category'].value_counts(normalize=True) * 100\n",
        "print(per_counts)"
      ]
    },
    {
      "cell_type": "code",
      "execution_count": null,
      "metadata": {
        "colab": {
          "base_uri": "https://localhost:8080/"
        },
        "id": "jD9U4p5EbPEz",
        "outputId": "23308bfd-ea77-44e0-a6cb-264b10f7d32f"
      },
      "outputs": [
        {
          "name": "stdout",
          "output_type": "stream",
          "text": [
            "category\n",
            "Balanced       33\n",
            "Hydrophilic    32\n",
            "Name: count, dtype: int64\n",
            "category\n",
            "Balanced       50.769231\n",
            "Hydrophilic    49.230769\n",
            "Name: proportion, dtype: float64\n"
          ]
        }
      ],
      "source": [
        "# Define the conditions for categorization\n",
        "conditions = [\n",
        "    (df2['fitness'] > 3),        # Lipophilic\n",
        "    (df2['fitness'] >= 0) & (df2['fitness'] <= 3),  # Balanced\n",
        "    (df2['fitness'] < 0)         # Hydrophilic\n",
        "]\n",
        "\n",
        "# Corresponding labels for each condition\n",
        "labels = ['Lipophilic', 'Balanced', 'Hydrophilic']\n",
        "\n",
        "# Apply the conditions and labels\n",
        "df2['category'] = np.select(conditions, labels, default='Unknown')\n",
        "\n",
        "# Count the occurrences of each category\n",
        "category_counts = df2['category'].value_counts()\n",
        "\n",
        "# Print the counts\n",
        "print(category_counts)\n",
        "\n",
        "per_counts = df2['category'].value_counts(normalize=True) * 100\n",
        "print(per_counts)"
      ]
    },
    {
      "cell_type": "code",
      "execution_count": null,
      "metadata": {
        "colab": {
          "base_uri": "https://localhost:8080/"
        },
        "id": "_2BCmkjAbs0B",
        "outputId": "dbeb2338-1122-4ad4-a5d0-fe547a0be812"
      },
      "outputs": [
        {
          "data": {
            "text/plain": [
              "0     COC(=O)[C@H](NC(=S)N(C(=O)CN(c1ccccc1C)S(=O)(=...\n",
              "1     CC[C@H](O)[C@@H](C)C(=O)N(C(=O)NCC(=O)NCc1cccc...\n",
              "2     CCOc1ccc(NC(=O)CSc2nnc(-c3ccc(NCc4nnnn4C)cc3)o...\n",
              "3     COCC(=O)N(C(=O)[C@]1(C)Sc2ccccc2NC1=O)c1c(C(=O...\n",
              "4     COc1cc(C=C2C(=O)N(C(=O)[C@H]3CNC[C@H]3C)C(=O)N...\n",
              "5        CCOc1ccc(N(Cc2ccccc2Cl)C(=O)NCCCCCCCC(=O)O)cn1\n",
              "6     COCCn1c(C(=O)N2CCO[C@@H](c3ccccc3)C2)cc2cc(O[C...\n",
              "7     COC(=O)[C@@H](NC(=O)N1C(=N)SC(=Cc2ccc(OC)c(OCc...\n",
              "8     CCN(CC(=O)N(C(=S)NCC(C)(C)CN(C)C)c1ccccc1C(F)(...\n",
              "9     CCn1c(SCC(=O)N[C@H](C)c2ccccc2/C=C/c2ccc(COC3C...\n",
              "10    COC(=O)N(C=O)c1ccccc1C1=CCN(CCS(=O)(=O)c2ccc(C...\n",
              "11    Cc1n[nH]c(-c2cccc(CN(C(=O)c3c[nH]c(C#N)c3)c3cc...\n",
              "12    CC(=CC(=O)N1C[C@@H](C)C[C@@H]1C)c1ccc(SCC(=O)N...\n",
              "13    CCC(=O)N1CCC(N(C(=O)Nc2cc(C)cc(C)c2)[C@@H](c2c...\n",
              "14    CC[C@H](C)N1CC(C(C)(O)c2cccc(NC(=O)[C@H](C)N3C...\n",
              "15    CCCOC(=O)c1c(N(C(=O)O[C@@H]2CS(=O)(=O)C[C@@H]2...\n",
              "16    Cc1ccc(S(=O)(=O)NC2CC2)cc1C(=O)N(C(=O)N[C@@H]1...\n",
              "17         CCC(CC)C1=CC(N2C[C@@H]3C[C@H]2CS3)CC(C)(C)C1\n",
              "18    Cc1ccc(C(=O)NCCN(C(=O)O[C@H](Cl)C(Cl)(Cl)Cl)C(...\n",
              "19         CCOc1ccc(NC(=O)CSc2nnc(-c3ccc(C#N)cc3)o2)cc1\n",
              "20    COc1cc(C=C2C(=O)NC(=O)N(c3ccc(Br)cc3)C2=O)ccc1...\n",
              "21            CCOc1ccc(NCc2cccc(-c3nc(C)n[nH]3)c2Cl)cn1\n",
              "22          CCOc1ccc(NC(=O)CSc2nnc(-c3ccc(Br)cc3)o2)cc1\n",
              "23    COc1ccccc1NC(=O)CN(c1ccccc1C)S(=O)(=O)c1ccc(C)cc1\n",
              "24    Cc1n[nH]c(-c2cccc(CNC(=O)CNC(=O)Nc3ccc(NC(=O)C...\n",
              "25      CC(C)C(=O)Nc1ccc(NC(=O)NCC(=O)NCc2cccc(F)c2)cc1\n",
              "26    C[C@@H]1CCCN(C(=O)CN2C(=O)N[C@@](C)(c3ccc4cccc...\n",
              "27        N#Cc1ccc(S(=O)(=O)CCN2CC=C(c3ccccc3Cl)CC2)cc1\n",
              "28          CC(=O)c1ccc(SCC(=O)NC[C@H](C)c2ccsc2)c(F)c1\n",
              "29    COCCn1c(C(=O)N2CCO[C@@H](C3(OCC(=O)NNc4ccc(F)c...\n",
              "30    CCN(CC(=O)Nc1c(C(F)(F)F)ccc(F)c1NC(=O)NCCNC(C)...\n",
              "31    CC(C)C(=O)Nc1ccc(NC(=O)NCC(=O)NC(C)c2ccccc2Br)cc1\n",
              "32    COc1ccc(/C=C2\\SC(=N)NC2=O)cc1OCc1ccc(F)c(NC(=O...\n",
              "33                COc1ccc(C=C2SC(=N)NC2=O)cc1OCc1ccccc1\n",
              "34    CCN(CC(=O)Nc1c(C(F)(F)F)ccc(SCC(=O)NC[C@H](C)c...\n",
              "35              COc1ccc(/C=C2\\SC(=N)NC2=O)cc1OCc1ccccc1\n",
              "36    CCC(=O)N1CCC(NC(c2ccc(F)c(NC(=O)NCCNC(C)=O)c2)...\n",
              "37    COc1ccc(C=C2SC(=N)NC2=O)c(C(=O)Nc2ccc3c(c2)COC...\n",
              "38              O=C(COc1ccc(N2CCCC2=O)cc1)NNc1ccc(F)cc1\n",
              "39                     O=CNc1ccc2cc([N+](=O)[O-])ccc2n1\n",
              "40          CCOc1ccc(NC(=O)CSc2nnc(-c3ccc(Br)cc3)o2)cc1\n",
              "41          CCOc1ccc(N2C(=O)/C(=C/c3cccc(F)c3)SC2=S)cc1\n",
              "42    COc1ccccc1NC(=O)CN(c1ccccc1C)S(=O)(=O)c1ccc(C)cc1\n",
              "43                            CCOc1ccc(NCc2ccccc2Cl)cn1\n",
              "44    Cc1ccc(C(=O)c2oc3ccccc3c2NC(=O)[C@]2(C)Sc3cccc...\n",
              "45    COc1cc(/C=C2/C(=O)NC(=O)N(c3ccc(Br)cc3)C2=O)cc...\n",
              "46         CC(C)C(=O)Nc1ccc(NC(=O)NCC(=O)NCc2ccccc2)cc1\n",
              "47        N#Cc1ccc(S(=O)(=O)CCN2CC=C(c3ccccc3Cl)CC2)cc1\n",
              "48        CCn1c(SCC(=O)N[C@H](C)c2ccccc2Br)nnc1-c1ccco1\n",
              "49    Cc1n[nH]c(-c2cccc(CNc3ccc4cc([N+](=O)[O-])ccc4...\n",
              "Name: smiles, dtype: object"
            ]
          },
          "execution_count": 43,
          "metadata": {},
          "output_type": "execute_result"
        }
      ],
      "source": [
        "df1['smiles']"
      ]
    },
    {
      "cell_type": "code",
      "execution_count": null,
      "metadata": {
        "colab": {
          "base_uri": "https://localhost:8080/",
          "height": 385
        },
        "id": "zIj9Ai29bUg-",
        "outputId": "37c53b00-5a55-485c-ec65-e844b39071fe"
      },
      "outputs": [
        {
          "ename": "ModuleNotFoundError",
          "evalue": "No module named 'FNLGMD'",
          "output_type": "error",
          "traceback": [
            "\u001b[0;31m---------------------------------------------------------------------------\u001b[0m",
            "\u001b[0;31mModuleNotFoundError\u001b[0m                       Traceback (most recent call last)",
            "\u001b[0;32m<ipython-input-45-81d32d129977>\u001b[0m in \u001b[0;36m<cell line: 1>\u001b[0;34m()\u001b[0m\n\u001b[0;32m----> 1\u001b[0;31m \u001b[0;32mfrom\u001b[0m \u001b[0mFNLGMD\u001b[0m\u001b[0;34m.\u001b[0m\u001b[0msource\u001b[0m\u001b[0;34m.\u001b[0m\u001b[0mscorers\u001b[0m\u001b[0;34m.\u001b[0m\u001b[0mSAScore\u001b[0m \u001b[0;32mimport\u001b[0m \u001b[0msascorer\u001b[0m\u001b[0;34m\u001b[0m\u001b[0;34m\u001b[0m\u001b[0m\n\u001b[0m\u001b[1;32m      2\u001b[0m \u001b[0;32mfrom\u001b[0m \u001b[0mFNLGMD\u001b[0m\u001b[0;34m.\u001b[0m\u001b[0msource\u001b[0m\u001b[0;34m.\u001b[0m\u001b[0mscorers\u001b[0m\u001b[0;34m.\u001b[0m\u001b[0mbase_scorer\u001b[0m \u001b[0;32mimport\u001b[0m \u001b[0mScorer\u001b[0m\u001b[0;34m\u001b[0m\u001b[0;34m\u001b[0m\u001b[0m\n\u001b[1;32m      3\u001b[0m \u001b[0;32mfrom\u001b[0m \u001b[0mrdkit\u001b[0m\u001b[0;34m.\u001b[0m\u001b[0mChem\u001b[0m \u001b[0;32mimport\u001b[0m \u001b[0mMolFromSmiles\u001b[0m\u001b[0;34m,\u001b[0m \u001b[0mMolToSmiles\u001b[0m\u001b[0;34m,\u001b[0m \u001b[0mDescriptors\u001b[0m\u001b[0;34m,\u001b[0m \u001b[0mrdmolops\u001b[0m\u001b[0;34m\u001b[0m\u001b[0;34m\u001b[0m\u001b[0m\n\u001b[1;32m      4\u001b[0m \u001b[0;32mimport\u001b[0m \u001b[0mnetworkx\u001b[0m \u001b[0;32mas\u001b[0m \u001b[0mnx\u001b[0m\u001b[0;34m\u001b[0m\u001b[0;34m\u001b[0m\u001b[0m\n\u001b[1;32m      5\u001b[0m \u001b[0;34m\u001b[0m\u001b[0m\n",
            "\u001b[0;31mModuleNotFoundError\u001b[0m: No module named 'FNLGMD'",
            "",
            "\u001b[0;31m---------------------------------------------------------------------------\u001b[0;32m\nNOTE: If your import is failing due to a missing package, you can\nmanually install dependencies using either !pip or !apt.\n\nTo view examples of installing some common dependencies, click the\n\"Open Examples\" button below.\n\u001b[0;31m---------------------------------------------------------------------------\u001b[0m\n"
          ]
        }
      ],
      "source": [
        "from FNLGMD.source.scorers.SAScore import sascorer\n",
        "from FNLGMD.source.scorers.base_scorer import Scorer\n",
        "from rdkit.Chem import MolFromSmiles, MolToSmiles, Descriptors, rdmolops\n",
        "import networkx as nx\n",
        "\n",
        "def score(population):\n",
        "\n",
        "    smiles = population['smiles']\n",
        "    smiles_rdkit = []\n",
        "    for s in smiles:\n",
        "        mol = MolFromSmiles(s)\n",
        "        smi = MolToSmiles(mol,isomericSmiles=False)\n",
        "        smiles_rdkit.append(smi)\n",
        "\n",
        "    logP_values = []\n",
        "    for i in range(len(smiles_rdkit)):\n",
        "        logP_values.append(Descriptors.MolLogP(MolFromSmiles(smiles_rdkit[ i ])))\n",
        "\n",
        "    SA_scores = []\n",
        "    for i in range(len(smiles_rdkit)):\n",
        "        SA_scores.append(-sascorer.calculateScore(MolFromSmiles(smiles_rdkit[ i ])))\n",
        "\n",
        "    cycle_scores = []\n",
        "\n",
        "    for i in range(len(smiles_rdkit)):\n",
        "        cycle_list = nx.cycle_basis(nx.Graph(rdmolops.GetAdjacencyMatrix(MolFromSmiles(smiles_rdkit[ i ]))))\n",
        "\n",
        "        if len(cycle_list) == 0:\n",
        "            cycle_length = 0\n",
        "        else:\n",
        "            cycle_length = max([ len(j) for j in cycle_list ])\n",
        "        if cycle_length <= 6:\n",
        "            cycle_length = 0\n",
        "        else:\n",
        "            cycle_length = cycle_length - 6\n",
        "        cycle_scores.append(-cycle_length)\n",
        "\n",
        "    SA_scores_normalized = (np.array(SA_scores) - np.mean(SA_scores)) / np.std(SA_scores)\n",
        "    logP_values_normalized = (np.array(logP_values) - np.mean(logP_values)) / np.std(logP_values)\n",
        "    cycle_scores_normalized = (np.array(cycle_scores) - np.mean(cycle_scores)) / np.std(cycle_scores)\n",
        "\n",
        "    SA_scores_normalized[np.isnan(SA_scores_normalized)] = 0.0\n",
        "    logP_values_normalized[np.isnan(logP_values_normalized)] = 0.0\n",
        "    cycle_scores_normalized[np.isnan(cycle_scores_normalized)] = 0.0\n",
        "\n",
        "    targets = SA_scores_normalized + logP_values_normalized + cycle_scores_normalized\n",
        "    population['fitness'] = targets\n",
        "\n",
        "    return logP_values, SA_scores, cycle_scores, targets"
      ]
    },
    {
      "cell_type": "code",
      "execution_count": null,
      "metadata": {
        "colab": {
          "base_uri": "https://localhost:8080/"
        },
        "id": "_N10Plq0bpk0",
        "outputId": "4474b684-adde-4506-f2b1-a551e6b9e22c"
      },
      "outputs": [
        {
          "name": "stdout",
          "output_type": "stream",
          "text": [
            "category\n",
            "Balanced       27\n",
            "Hydrophilic    21\n",
            "Lipophilic      2\n",
            "Name: count, dtype: int64\n",
            "category\n",
            "Balanced       54.0\n",
            "Hydrophilic    42.0\n",
            "Lipophilic      4.0\n",
            "Name: proportion, dtype: float64\n"
          ]
        }
      ],
      "source": [
        "# Define the conditions for categorization\n",
        "conditions = [\n",
        "    (df3['fitness'] > 3),        # Lipophilic\n",
        "    (df3['fitness'] >= 0) & (df3['fitness'] <= 3),  # Balanced\n",
        "    (df3['fitness'] < 0)         # Hydrophilic\n",
        "]\n",
        "\n",
        "# Corresponding labels for each condition\n",
        "labels = ['Lipophilic', 'Balanced', 'Hydrophilic']\n",
        "\n",
        "# Apply the conditions and labels\n",
        "df3['category'] = np.select(conditions, labels, default='Unknown')\n",
        "\n",
        "# Count the occurrences of each category\n",
        "category_counts = df3['category'].value_counts()\n",
        "\n",
        "# Print the counts\n",
        "print(category_counts)\n",
        "\n",
        "per_counts = df3['category'].value_counts(normalize=True) * 100\n",
        "print(per_counts)"
      ]
    },
    {
      "cell_type": "code",
      "execution_count": null,
      "metadata": {
        "colab": {
          "base_uri": "https://localhost:8080/",
          "height": 452
        },
        "id": "gzLH7if4e91j",
        "outputId": "9c337494-0ac4-48f8-fba2-1659292faab9"
      },
      "outputs": [
        {
          "data": {
            "image/png": "[encoded data removed]",
            "text/plain": [
              "<Figure size 640x480 with 1 Axes>"
            ]
          },
          "metadata": {},
          "output_type": "display_data"
        }
      ],
      "source": [
        "import pandas as pd\n",
        "import seaborn as sns\n",
        "import matplotlib.pyplot as plt\n",
        "\n",
        "# Assuming df1, df2, and df3 are your dataframes and they all contain a 'fitness' column\n",
        "# Create a new dataframe for plotting\n",
        "data = pd.concat([df1['fitness'], df2['fitness'], df3['fitness']], axis=1)\n",
        "data.columns = ['No mutation', 'No crossover', 'Only inital']\n",
        "\n",
        "# Create a boxplot\n",
        "sns.boxplot(data=data)\n",
        "plt.title('Fitness Box Plot')\n",
        "plt.ylabel('Fitness')\n",
        "plt.show()\n"
      ]
    },
    {
      "cell_type": "code",
      "execution_count": null,
      "metadata": {
        "colab": {
          "base_uri": "https://localhost:8080/"
        },
        "id": "bqORwWgXffty",
        "outputId": "d9afb20e-c18c-40e2-9f35-92e272a2b900"
      },
      "outputs": [
        {
          "name": "stdout",
          "output_type": "stream",
          "text": [
            "                                              smiles  parent1_id  reaction_id  \\\n",
            "0  CCCC(C)(C)Oc1ccc(OC)c(S(=O)(=O)N[C@H](c2ccccc2...         4.0         19.0   \n",
            "1  COC[C@@H](C)OC(=O)c1ccccc1-c1nc2ccc(OC)cc2cc1C...        36.0         89.0   \n",
            "2  COCc1cccc(N(C(=S)NC2=CCS(=O)(=O)C2)[C@@H](C)C(...         5.0         94.0   \n",
            "3         Cc1ccc(C2OC2CC(=O)NCc2ccc(Cn3cncn3)cc2)cc1        46.0          3.0   \n",
            "4     [N-]=[N+]=Nc1cc(-c2cccc(C(=O)NC3CC3)c2)ccc1C=O        39.0          6.0   \n",
            "\n",
            "            zinc_id    source generation  parent2_id  compound_id   fitness  \n",
            "0  ZINC000001648167  mutation     [1, 2]         NaN         50.0  1.607781  \n",
            "1  ZINC001606798926  mutation  [1, 2, 3]         NaN         51.0  2.436105  \n",
            "2  ZINC000002454917  mutation        [1]         NaN         52.0 -1.403251  \n",
            "3               NaN  mutation        [1]         NaN         53.0 -1.011008  \n",
            "4               NaN  mutation     [1, 2]         NaN         54.0  1.049021  \n"
          ]
        }
      ],
      "source": [
        "df1 = pd.read_csv('/content/data_all_generations (26).csv')\n",
        "\n",
        "# Display the first few rows of the DataFrame\n",
        "print(df1.head())"
      ]
    },
    {
      "cell_type": "code",
      "execution_count": null,
      "metadata": {
        "colab": {
          "base_uri": "https://localhost:8080/"
        },
        "id": "lhVEUpVTle5I",
        "outputId": "2a6521de-064d-4994-877e-8828f02344c7"
      },
      "outputs": [
        {
          "name": "stdout",
          "output_type": "stream",
          "text": [
            "['mutation' 'crossover' 'initial']\n"
          ]
        }
      ],
      "source": [
        "unique_sources = df1['source'].unique()\n",
        "print(unique_sources)\n"
      ]
    },
    {
      "cell_type": "code",
      "execution_count": null,
      "metadata": {
        "colab": {
          "base_uri": "https://localhost:8080/",
          "height": 472
        },
        "id": "TushSE-Oke8R",
        "outputId": "8caff342-fa60-4d93-9a9f-b9ade6b4e196"
      },
      "outputs": [
        {
          "data": {
            "image/png": "[encoded data removed]",
            "text/plain": [
              "<Figure size 640x480 with 1 Axes>"
            ]
          },
          "metadata": {},
          "output_type": "display_data"
        }
      ],
      "source": [
        "import pandas as pd\n",
        "import seaborn as sns\n",
        "import matplotlib.pyplot as plt\n",
        "\n",
        "# Assuming 'df' is your DataFrame that contains the 'fitness' and 'source' columns\n",
        "# Create a boxplot\n",
        "sns.boxplot(x='source', y='fitness', data=df1)  # Ensure to use 'df' if that's your DataFrame's name\n",
        "plt.title('Fitness Score by Source')\n",
        "plt.ylabel('Fitness')\n",
        "plt.xlabel('Source')\n",
        "plt.show()\n"
      ]
    },
    {
      "cell_type": "code",
      "execution_count": null,
      "metadata": {
        "colab": {
          "base_uri": "https://localhost:8080/",
          "height": 472
        },
        "id": "evf_pMtDlUz1",
        "outputId": "829022c4-89b5-4886-eaba-d8cdb4878e04"
      },
      "outputs": [
        {
          "data": {
            "image/png": "[encoded data removed]",
            "text/plain": [
              "<Figure size 640x480 with 1 Axes>"
            ]
          },
          "metadata": {},
          "output_type": "display_data"
        }
      ],
      "source": [
        "import pandas as pd\n",
        "import seaborn as sns\n",
        "import matplotlib.pyplot as plt\n",
        "\n",
        "# Assuming 'df' is your DataFrame that contains the 'fitness' and 'source' columns\n",
        "# Create a boxplot\n",
        "sns.boxplot(x='generation', y='fitness', data=df1)  # Ensure to use 'df' if that's your DataFrame's name\n",
        "plt.title('Fitness Score by Source')\n",
        "plt.ylabel('Fitness')\n",
        "plt.xlabel('Source')\n",
        "plt.show()\n"
      ]
    },
    {
      "cell_type": "code",
      "execution_count": null,
      "metadata": {
        "colab": {
          "base_uri": "https://localhost:8080/"
        },
        "id": "UkZ1VPw5oBRr",
        "outputId": "419d39d4-904d-48bf-b345-4d87a9069604"
      },
      "outputs": [
        {
          "name": "stdout",
          "output_type": "stream",
          "text": [
            "0      None\n",
            "1      None\n",
            "2      None\n",
            "3      None\n",
            "4      None\n",
            "       ... \n",
            "245    None\n",
            "246    None\n",
            "247    None\n",
            "248    None\n",
            "249    None\n",
            "Name: generation, Length: 250, dtype: object\n"
          ]
        }
      ],
      "source": [
        "import pandas as pd\n",
        "\n",
        "# Assuming 'df1' is your DataFrame and 'generations' column contains lists like [1, 2, 4]\n",
        "# Extract the last integer element from each list in the 'generations' column\n",
        "last_elements = df1['generation'].apply(lambda x: x[-1] if isinstance(x, list) and len(x) > 0 else None)\n",
        "\n",
        "print(last_elements)\n"
      ]
    },
    {
      "cell_type": "code",
      "execution_count": null,
      "metadata": {
        "colab": {
          "base_uri": "https://localhost:8080/"
        },
        "id": "obw0OZtCqWws",
        "outputId": "81190825-3b69-4990-b780-e1affb40f71d"
      },
      "outputs": [
        {
          "name": "stdout",
          "output_type": "stream",
          "text": [
            "0      None\n",
            "1      None\n",
            "2      None\n",
            "3      None\n",
            "4      None\n",
            "       ... \n",
            "245    None\n",
            "246    None\n",
            "247    None\n",
            "248    None\n",
            "249    None\n",
            "Name: generation, Length: 250, dtype: object\n"
          ]
        }
      ],
      "source": [
        "import pandas as pd\n",
        "\n",
        "# Assuming 'df1' is your DataFrame and 'generations' column contains lists like [1, 2, 4]\n",
        "# Extract the second to last integer element from each list in the 'generations' column\n",
        "second_to_last_elements = df1['generation'].apply(lambda x: x[-2] if isinstance(x, list) and len(x) > 1 else None)\n",
        "\n",
        "print(second_to_last_elements)\n"
      ]
    },
    {
      "cell_type": "code",
      "execution_count": null,
      "metadata": {
        "colab": {
          "base_uri": "https://localhost:8080/"
        },
        "id": "yFwANTFqqnqe",
        "outputId": "096b0abc-5a89-4b01-cefc-7e7b51128db4"
      },
      "outputs": [
        {
          "name": "stdout",
          "output_type": "stream",
          "text": [
            "                                              smiles  parent1_id  reaction_id  \\\n",
            "0  CCCC(C)(C)Oc1ccc(OC)c(S(=O)(=O)N[C@H](c2ccccc2...         4.0         19.0   \n",
            "1  COC[C@@H](C)OC(=O)c1ccccc1-c1nc2ccc(OC)cc2cc1C...        36.0         89.0   \n",
            "2  COCc1cccc(N(C(=S)NC2=CCS(=O)(=O)C2)[C@@H](C)C(...         5.0         94.0   \n",
            "3         Cc1ccc(C2OC2CC(=O)NCc2ccc(Cn3cncn3)cc2)cc1        46.0          3.0   \n",
            "4     [N-]=[N+]=Nc1cc(-c2cccc(C(=O)NC3CC3)c2)ccc1C=O        39.0          6.0   \n",
            "\n",
            "            zinc_id    source generation  parent2_id  compound_id   fitness  \n",
            "0  ZINC000001648167  mutation     [1, 2]         NaN         50.0  1.607781  \n",
            "1  ZINC001606798926  mutation  [1, 2, 3]         NaN         51.0  2.436105  \n",
            "2  ZINC000002454917  mutation        [1]         NaN         52.0 -1.403251  \n",
            "3               NaN  mutation        [1]         NaN         53.0 -1.011008  \n",
            "4               NaN  mutation     [1, 2]         NaN         54.0  1.049021  \n",
            "                                              smiles  parent1_id  reaction_id  \\\n",
            "0  CN(C)C(=O)c1ccccc1NC(=S)N(C(=O)OCC(F)(F)C(F)F)...        30.0         12.0   \n",
            "1   CC[C@@H]1CCC[C@@H]1NC(=O)[C@H]1CCCN1C(=O)c1ccco1        42.0         23.0   \n",
            "2  O=C(c1ccc(Cn2nnc3ccccc3c2=O)cc1)N(Cc1ccccc1)c1...         8.0         18.0   \n",
            "3  CC(=O)c1ccc(NC(=O)c2nc3c([N+](=O)[O-])cc(Cl)cc...        14.0         44.0   \n",
            "4                 CC=C(C)C(=O)Nc1cccc(-c2nccn2CCC)c1        22.0         26.0   \n",
            "\n",
            "            zinc_id    source generation  parent2_id  compound_id   fitness  \n",
            "0  ZINC000034601589  mutation     [1, 2]         NaN         50.0  1.391949  \n",
            "1  ZINC000022129979  mutation        [1]         NaN         51.0 -1.007135  \n",
            "2  ZINC000004254807  mutation     [1, 2]         NaN         52.0  1.619360  \n",
            "3  ZINC000004748127  mutation  [1, 2, 3]         NaN         53.0  2.389731  \n",
            "4  ZINC000059727325  mutation     [1, 2]         NaN         54.0  1.517043  \n",
            "                                              smiles  parent1_id  reaction_id  \\\n",
            "0  COc1ccc(CCC(=O)Oc2c(C)cc(-c3ccccc3C(=O)N[C@@H]...        29.0         89.0   \n",
            "1  N#Cc1nsnc1C(=O)c1cc(Cl)c2nc(CSc3nn(-c4ccccc4)c...        38.0         80.0   \n",
            "2  Cc1c(C)c(C)c(S(=O)(=O)N(c2ccc(C(=O)N3CCCC3)cc2...        12.0         72.0   \n",
            "3  CCOc1cc(Br)c(CC(=O)N(C(=S)Nc2ccccc2OCC(F)(F)F)...        23.0         32.0   \n",
            "4  Cc1ccc(-c2nc(-c3nc4c(F)cc(Cl)cc4c(=O)n3-c3cccc...        14.0         44.0   \n",
            "\n",
            "            zinc_id    source    generation  parent2_id  compound_id   fitness  \n",
            "0  ZINC000699559834  mutation           [1]         NaN         50.0 -0.347037  \n",
            "1  ZINC000005282284  mutation           [1]         NaN         51.0 -0.390436  \n",
            "2  ZINC000253476049  mutation           [1]         NaN         52.0 -1.733984  \n",
            "3  ZINC000218685320  mutation  [1, 2, 3, 4]         NaN         53.0  2.263978  \n",
            "4  ZINC000020475945  mutation     [1, 2, 3]         NaN         54.0  1.455441  \n",
            "                                              smiles  parent1_id  reaction_id  \\\n",
            "0  CCN(C)C(=O)c1cc(F)c(F)cc1-c1ccc(C(=O)N[C@@H](C...        32.0         89.0   \n",
            "1  C=CCS(=O)(=O)N(C[C@@H](NC(=O)N[C@@H]1CCN(C)C1=...         4.0         72.0   \n",
            "2  CNC(=O)c1ccc(C2CCN(C(=S)NC3CCN(Cc4ccccc4)CC3)C...        23.0         94.0   \n",
            "3  C[C@@H](C(=O)NC[C@@H](c1ccsc1)[NH+](C)C)N1CN(C...        26.0         26.0   \n",
            "4  CO[C@@H]1O[C@]1(C)CC(=O)c1nc(N(C)C)nc(N2CCOCC2)n1        48.0         80.0   \n",
            "\n",
            "            zinc_id    source    generation  parent2_id  compound_id   fitness  \n",
            "0  ZINC000088570798  mutation           [1]         NaN         50.0  1.025187  \n",
            "1  ZINC000086657329  mutation           [1]         NaN         51.0 -1.108054  \n",
            "2  ZINC000019840536  mutation  [1, 2, 3, 4]         NaN         52.0  3.956153  \n",
            "3  ZINC000100159191  mutation           [1]         NaN         53.0 -1.743939  \n",
            "4  ZINC000001669387  mutation           [1]         NaN         54.0 -0.467937  \n"
          ]
        }
      ],
      "source": [
        "import pandas as pd\n",
        "import matplotlib.pyplot as plt\n",
        "import numpy as np\n",
        "\n",
        "df_full = pd.read_csv('/content/data_all_generations (26)2.csv')\n",
        "\n",
        "# Display the first few rows of the DataFrame\n",
        "print(df_full.head())\n",
        "\n",
        "\n",
        "# Load the CSV file into a DataFrame\n",
        "df_bal = pd.read_csv('/content/data_all_generations bal.csv')\n",
        "\n",
        "# Display the first few rows of the DataFrame\n",
        "print(df_bal.head())\n",
        "\n",
        "\n",
        "# Load the CSV file into a DataFrame\n",
        "df_lipo = pd.read_csv('/content/data_all_generations lipo.csv')\n",
        "\n",
        "# Display the first few rows of the DataFrame\n",
        "print(df_lipo.head())\n",
        "\n",
        "\n",
        "# Load the CSV file into a DataFrame\n",
        "df_hydro = pd.read_csv('/content/data_all_generations hydro.csv')\n",
        "\n",
        "# Display the first few rows of the DataFrame\n",
        "print(df_hydro.head())"
      ]
    },
    {
      "cell_type": "code",
      "execution_count": null,
      "metadata": {
        "id": "UHKNthT2nyFf"
      },
      "outputs": [],
      "source": [
        "df_hydro['Source'] = 'Hydrophilic'\n",
        "df_lipo['Source'] = 'Lipophilic'\n",
        "df_bal['Source'] = 'Balance'\n",
        "df_full['Source'] = 'Full data'\n",
        "\n",
        "# Concatenate the DataFrames horizontally\n",
        "df_combined = pd.concat([df_full, df_bal, df_lipo, df_hydro], ignore_index=True)\n",
        "\n",
        "# Display the first few rows of the combined DataFrame to verify\n"
      ]
    },
    {
      "cell_type": "code",
      "execution_count": null,
      "metadata": {
        "colab": {
          "base_uri": "https://localhost:8080/",
          "height": 547
        },
        "id": "qDntd4xdoD0k",
        "outputId": "d6cd3669-c660-4d57-abff-8c61c6156329"
      },
      "outputs": [
        {
          "data": {
            "application/vnd.google.colaboratory.intrinsic+json": {
              "summary": "{\n  \"name\": \"df_combined\",\n  \"rows\": 1000,\n  \"fields\": [\n    {\n      \"column\": \"smiles\",\n      \"properties\": {\n        \"dtype\": \"string\",\n        \"num_unique_values\": 742,\n        \"samples\": [\n          \"CC[C@H](C)N(CCCSC(=O)c1ccccc1-c1nc2ccc(OC)cc2cc1CN(Cc1ccc(F)cc1)C(=O)C1CC1)C(=O)O[C@@H]1CS(=O)(=O)C[C@H]1O\",\n          \"C[C@@H](NC(=O)NCC1(Cn2nnnc2CNC(=O)C=C2CCCC2)CC1)c1noc(-c2ccc(Cl)cc2)n1\",\n          \"CCCCOc1c(C(=O)N(Cc2ccccc2)c2nc(Cl)ns2)c(OC(=O)N(C(=S)N(C(=O)OCC(F)(F)C(F)F)C(=O)C2CCCCC2)c2ccccc2C(=O)N(C)C)cc(Cn2nnc3c([N+](=O)[O-])cc(Cl)cc3c2=O)c1C(C)C\"\n        ],\n        \"semantic_type\": \"\",\n        \"description\": \"\"\n      }\n    },\n    {\n      \"column\": \"parent1_id\",\n      \"properties\": {\n        \"dtype\": \"number\",\n        \"std\": 46.65287587200788,\n        \"min\": 0.0,\n        \"max\": 189.0,\n        \"num_unique_values\": 150,\n        \"samples\": [\n          185.0,\n          21.0,\n          166.0\n        ],\n        \"semantic_type\": \"\",\n        \"description\": \"\"\n      }\n    },\n    {\n      \"column\": \"reaction_id\",\n      \"properties\": {\n        \"dtype\": \"number\",\n        \"std\": 26.09595870326643,\n        \"min\": 3.0,\n        \"max\": 94.0,\n        \"num_unique_values\": 60,\n        \"samples\": [\n          19.0,\n          26.0,\n          80.0\n        ],\n        \"semantic_type\": \"\",\n        \"description\": \"\"\n      }\n    },\n    {\n      \"column\": \"zinc_id\",\n      \"properties\": {\n        \"dtype\": \"category\",\n        \"num_unique_values\": 352,\n        \"samples\": [\n          \"ZINC000147676713\",\n          \"ZINC000141861298\",\n          \"ZINC001610851638\"\n        ],\n        \"semantic_type\": \"\",\n        \"description\": \"\"\n      }\n    },\n    {\n      \"column\": \"source\",\n      \"properties\": {\n        \"dtype\": \"category\",\n        \"num_unique_values\": 3,\n        \"samples\": [\n          \"mutation\",\n          \"crossover\",\n          \"initial\"\n        ],\n        \"semantic_type\": \"\",\n        \"description\": \"\"\n      }\n    },\n    {\n      \"column\": \"generation\",\n      \"properties\": {\n        \"dtype\": \"category\",\n        \"num_unique_values\": 18,\n        \"samples\": [\n          \"[1, 2]\",\n          \"[1, 2, 3]\",\n          \"[2, 3]\"\n        ],\n        \"semantic_type\": \"\",\n        \"description\": \"\"\n      }\n    },\n    {\n      \"column\": \"parent2_id\",\n      \"properties\": {\n        \"dtype\": \"number\",\n        \"std\": 46.10353721160679,\n        \"min\": 0.0,\n        \"max\": 189.0,\n        \"num_unique_values\": 129,\n        \"samples\": [\n          168.0,\n          119.0,\n          82.0\n        ],\n        \"semantic_type\": \"\",\n        \"description\": \"\"\n      }\n    },\n    {\n      \"column\": \"compound_id\",\n      \"properties\": {\n        \"dtype\": \"number\",\n        \"std\": 60.81065379203396,\n        \"min\": 4.0,\n        \"max\": 239.0,\n        \"num_unique_values\": 186,\n        \"samples\": [\n          173.0,\n          234.0,\n          239.0\n        ],\n        \"semantic_type\": \"\",\n        \"description\": \"\"\n      }\n    },\n    {\n      \"column\": \"fitness\",\n      \"properties\": {\n        \"dtype\": \"number\",\n        \"std\": 1.0349433407804103,\n        \"min\": -7.494665087890225,\n        \"max\": 3.9561528156268175,\n        \"num_unique_values\": 938,\n        \"samples\": [\n          -1.1339141425276225,\n          -0.424911944565465,\n          -0.2322793915833323\n        ],\n        \"semantic_type\": \"\",\n        \"description\": \"\"\n      }\n    },\n    {\n      \"column\": \"Source\",\n      \"properties\": {\n        \"dtype\": \"category\",\n        \"num_unique_values\": 4,\n        \"samples\": [\n          \"Balance\",\n          \"Hydrophilic\",\n          \"Full data\"\n        ],\n        \"semantic_type\": \"\",\n        \"description\": \"\"\n      }\n    }\n  ]\n}",
              "type": "dataframe",
              "variable_name": "df_combined"
            },
            "text/html": [
              "\n",
              "  <div id=\"df-edc41ee3-9eab-4b50-b538-9177783f3df7\" class=\"colab-df-container\">\n",
              "    <div>\n",
              "<style scoped>\n",
              "    .dataframe tbody tr th:only-of-type {\n",
              "        vertical-align: middle;\n",
              "    }\n",
              "\n",
              "    .dataframe tbody tr th {\n",
              "        vertical-align: top;\n",
              "    }\n",
              "\n",
              "    .dataframe thead th {\n",
              "        text-align: right;\n",
              "    }\n",
              "</style>\n",
              "<table border=\"1\" class=\"dataframe\">\n",
              "  <thead>\n",
              "    <tr style=\"text-align: right;\">\n",
              "      <th></th>\n",
              "      <th>smiles</th>\n",
              "      <th>parent1_id</th>\n",
              "      <th>reaction_id</th>\n",
              "      <th>zinc_id</th>\n",
              "      <th>source</th>\n",
              "      <th>generation</th>\n",
              "      <th>parent2_id</th>\n",
              "      <th>compound_id</th>\n",
              "      <th>fitness</th>\n",
              "      <th>Source</th>\n",
              "    </tr>\n",
              "  </thead>\n",
              "  <tbody>\n",
              "    <tr>\n",
              "      <th>0</th>\n",
              "      <td>CCCC(C)(C)Oc1ccc(OC)c(S(=O)(=O)N[C@H](c2ccccc2...</td>\n",
              "      <td>4.0</td>\n",
              "      <td>19.0</td>\n",
              "      <td>ZINC000001648167</td>\n",
              "      <td>mutation</td>\n",
              "      <td>[1, 2]</td>\n",
              "      <td>NaN</td>\n",
              "      <td>50.0</td>\n",
              "      <td>1.607781</td>\n",
              "      <td>Full data</td>\n",
              "    </tr>\n",
              "    <tr>\n",
              "      <th>1</th>\n",
              "      <td>COC[C@@H](C)OC(=O)c1ccccc1-c1nc2ccc(OC)cc2cc1C...</td>\n",
              "      <td>36.0</td>\n",
              "      <td>89.0</td>\n",
              "      <td>ZINC001606798926</td>\n",
              "      <td>mutation</td>\n",
              "      <td>[1, 2, 3]</td>\n",
              "      <td>NaN</td>\n",
              "      <td>51.0</td>\n",
              "      <td>2.436105</td>\n",
              "      <td>Full data</td>\n",
              "    </tr>\n",
              "    <tr>\n",
              "      <th>2</th>\n",
              "      <td>COCc1cccc(N(C(=S)NC2=CCS(=O)(=O)C2)[C@@H](C)C(...</td>\n",
              "      <td>5.0</td>\n",
              "      <td>94.0</td>\n",
              "      <td>ZINC000002454917</td>\n",
              "      <td>mutation</td>\n",
              "      <td>[1]</td>\n",
              "      <td>NaN</td>\n",
              "      <td>52.0</td>\n",
              "      <td>-1.403251</td>\n",
              "      <td>Full data</td>\n",
              "    </tr>\n",
              "    <tr>\n",
              "      <th>3</th>\n",
              "      <td>Cc1ccc(C2OC2CC(=O)NCc2ccc(Cn3cncn3)cc2)cc1</td>\n",
              "      <td>46.0</td>\n",
              "      <td>3.0</td>\n",
              "      <td>NaN</td>\n",
              "      <td>mutation</td>\n",
              "      <td>[1]</td>\n",
              "      <td>NaN</td>\n",
              "      <td>53.0</td>\n",
              "      <td>-1.011008</td>\n",
              "      <td>Full data</td>\n",
              "    </tr>\n",
              "    <tr>\n",
              "      <th>4</th>\n",
              "      <td>[N-]=[N+]=Nc1cc(-c2cccc(C(=O)NC3CC3)c2)ccc1C=O</td>\n",
              "      <td>39.0</td>\n",
              "      <td>6.0</td>\n",
              "      <td>NaN</td>\n",
              "      <td>mutation</td>\n",
              "      <td>[1, 2]</td>\n",
              "      <td>NaN</td>\n",
              "      <td>54.0</td>\n",
              "      <td>1.049021</td>\n",
              "      <td>Full data</td>\n",
              "    </tr>\n",
              "    <tr>\n",
              "      <th>...</th>\n",
              "      <td>...</td>\n",
              "      <td>...</td>\n",
              "      <td>...</td>\n",
              "      <td>...</td>\n",
              "      <td>...</td>\n",
              "      <td>...</td>\n",
              "      <td>...</td>\n",
              "      <td>...</td>\n",
              "      <td>...</td>\n",
              "      <td>...</td>\n",
              "    </tr>\n",
              "    <tr>\n",
              "      <th>995</th>\n",
              "      <td>CCCCCCCCCCCC(=O)OCC[C@@H](CS(=O)(=O)c1cc(C=CNC...</td>\n",
              "      <td>129.0</td>\n",
              "      <td>8.0</td>\n",
              "      <td>NaN</td>\n",
              "      <td>mutation</td>\n",
              "      <td>[4, 5]</td>\n",
              "      <td>NaN</td>\n",
              "      <td>165.0</td>\n",
              "      <td>0.202234</td>\n",
              "      <td>Hydrophilic</td>\n",
              "    </tr>\n",
              "    <tr>\n",
              "      <th>996</th>\n",
              "      <td>CCCCCCCCCCCC(=O)OCC[C@@H](CS(=O)(=O)c1cc(F)c(C...</td>\n",
              "      <td>108.0</td>\n",
              "      <td>NaN</td>\n",
              "      <td>NaN</td>\n",
              "      <td>crossover</td>\n",
              "      <td>[4, 5]</td>\n",
              "      <td>105.0</td>\n",
              "      <td>176.0</td>\n",
              "      <td>0.134999</td>\n",
              "      <td>Hydrophilic</td>\n",
              "    </tr>\n",
              "    <tr>\n",
              "      <th>997</th>\n",
              "      <td>CCC(CC)(C(=O)Nc1sccc1C(N)=O)N(Cc1cc(C(N)=O)ccc...</td>\n",
              "      <td>82.0</td>\n",
              "      <td>32.0</td>\n",
              "      <td>ZINC000000164795</td>\n",
              "      <td>mutation</td>\n",
              "      <td>[3, 4, 5]</td>\n",
              "      <td>NaN</td>\n",
              "      <td>108.0</td>\n",
              "      <td>0.180881</td>\n",
              "      <td>Hydrophilic</td>\n",
              "    </tr>\n",
              "    <tr>\n",
              "      <th>998</th>\n",
              "      <td>CCCCCCCCCCCC(=O)OCC[C@@H](CS(=O)(=O)c1cccc(F)c...</td>\n",
              "      <td>103.0</td>\n",
              "      <td>31.0</td>\n",
              "      <td>ZINC000033373160</td>\n",
              "      <td>mutation</td>\n",
              "      <td>[4, 5]</td>\n",
              "      <td>NaN</td>\n",
              "      <td>163.0</td>\n",
              "      <td>0.014122</td>\n",
              "      <td>Hydrophilic</td>\n",
              "    </tr>\n",
              "    <tr>\n",
              "      <th>999</th>\n",
              "      <td>O=C(Cc1ccccn1)N(C(=O)NC=Cc1ccc(F)c(F)c1)c1ccccc1</td>\n",
              "      <td>63.0</td>\n",
              "      <td>NaN</td>\n",
              "      <td>NaN</td>\n",
              "      <td>crossover</td>\n",
              "      <td>[2, 3, 4, 5]</td>\n",
              "      <td>88.0</td>\n",
              "      <td>72.0</td>\n",
              "      <td>0.211454</td>\n",
              "      <td>Hydrophilic</td>\n",
              "    </tr>\n",
              "  </tbody>\n",
              "</table>\n",
              "<p>1000 rows × 10 columns</p>\n",
              "</div>\n",
              "    <div class=\"colab-df-buttons\">\n",
              "\n",
              "  <div class=\"colab-df-container\">\n",
              "    <button class=\"colab-df-convert\" onclick=\"convertToInteractive('df-edc41ee3-9eab-4b50-b538-9177783f3df7')\"\n",
              "            title=\"Convert this dataframe to an interactive table.\"\n",
              "            style=\"display:none;\">\n",
              "\n",
              "  <svg xmlns=\"http://www.w3.org/2000/svg\" height=\"24px\" viewBox=\"0 -960 960 960\">\n",
              "    <path d=\"M120-120v-720h720v720H120Zm60-500h600v-160H180v160Zm220 220h160v-160H400v160Zm0 220h160v-160H400v160ZM180-400h160v-160H180v160Zm440 0h160v-160H620v160ZM180-180h160v-160H180v160Zm440 0h160v-160H620v160Z\"/>\n",
              "  </svg>\n",
              "    </button>\n",
              "\n",
              "  <style>\n",
              "    .colab-df-container {\n",
              "      display:flex;\n",
              "      gap: 12px;\n",
              "    }\n",
              "\n",
              "    .colab-df-convert {\n",
              "      background-color: #E8F0FE;\n",
              "      border: none;\n",
              "      border-radius: 50%;\n",
              "      cursor: pointer;\n",
              "      display: none;\n",
              "      fill: #1967D2;\n",
              "      height: 32px;\n",
              "      padding: 0 0 0 0;\n",
              "      width: 32px;\n",
              "    }\n",
              "\n",
              "    .colab-df-convert:hover {\n",
              "      background-color: #E2EBFA;\n",
              "      box-shadow: 0px 1px 2px rgba(60, 64, 67, 0.3), 0px 1px 3px 1px rgba(60, 64, 67, 0.15);\n",
              "      fill: #174EA6;\n",
              "    }\n",
              "\n",
              "    .colab-df-buttons div {\n",
              "      margin-bottom: 4px;\n",
              "    }\n",
              "\n",
              "    [theme=dark] .colab-df-convert {\n",
              "      background-color: #3B4455;\n",
              "      fill: #D2E3FC;\n",
              "    }\n",
              "\n",
              "    [theme=dark] .colab-df-convert:hover {\n",
              "      background-color: #434B5C;\n",
              "      box-shadow: 0px 1px 3px 1px rgba(0, 0, 0, 0.15);\n",
              "      filter: drop-shadow(0px 1px 2px rgba(0, 0, 0, 0.3));\n",
              "      fill: #FFFFFF;\n",
              "    }\n",
              "  </style>\n",
              "\n",
              "    <script>\n",
              "      const buttonEl =\n",
              "        document.querySelector('#df-edc41ee3-9eab-4b50-b538-9177783f3df7 button.colab-df-convert');\n",
              "      buttonEl.style.display =\n",
              "        google.colab.kernel.accessAllowed ? 'block' : 'none';\n",
              "\n",
              "      async function convertToInteractive(key) {\n",
              "        const element = document.querySelector('#df-edc41ee3-9eab-4b50-b538-9177783f3df7');\n",
              "        const dataTable =\n",
              "          await google.colab.kernel.invokeFunction('convertToInteractive',\n",
              "                                                    [key], {});\n",
              "        if (!dataTable) return;\n",
              "\n",
              "        const docLinkHtml = 'Like what you see? Visit the ' +\n",
              "          '<a target=\"_blank\" href=https://colab.research.google.com/notebooks/data_table.ipynb>data table notebook</a>'\n",
              "          + ' to learn more about interactive tables.';\n",
              "        element.innerHTML = '';\n",
              "        dataTable['output_type'] = 'display_data';\n",
              "        await google.colab.output.renderOutput(dataTable, element);\n",
              "        const docLink = document.createElement('div');\n",
              "        docLink.innerHTML = docLinkHtml;\n",
              "        element.appendChild(docLink);\n",
              "      }\n",
              "    </script>\n",
              "  </div>\n",
              "\n",
              "\n",
              "<div id=\"df-7fb2ff47-59ca-4961-ba79-585c58f37827\">\n",
              "  <button class=\"colab-df-quickchart\" onclick=\"quickchart('df-7fb2ff47-59ca-4961-ba79-585c58f37827')\"\n",
              "            title=\"Suggest charts\"\n",
              "            style=\"display:none;\">\n",
              "\n",
              "<svg xmlns=\"http://www.w3.org/2000/svg\" height=\"24px\"viewBox=\"0 0 24 24\"\n",
              "     width=\"24px\">\n",
              "    <g>\n",
              "        <path d=\"M19 3H5c-1.1 0-2 .9-2 2v14c0 1.1.9 2 2 2h14c1.1 0 2-.9 2-2V5c0-1.1-.9-2-2-2zM9 17H7v-7h2v7zm4 0h-2V7h2v10zm4 0h-2v-4h2v4z\"/>\n",
              "    </g>\n",
              "</svg>\n",
              "  </button>\n",
              "\n",
              "<style>\n",
              "  .colab-df-quickchart {\n",
              "      --bg-color: #E8F0FE;\n",
              "      --fill-color: #1967D2;\n",
              "      --hover-bg-color: #E2EBFA;\n",
              "      --hover-fill-color: #174EA6;\n",
              "      --disabled-fill-color: #AAA;\n",
              "      --disabled-bg-color: #DDD;\n",
              "  }\n",
              "\n",
              "  [theme=dark] .colab-df-quickchart {\n",
              "      --bg-color: #3B4455;\n",
              "      --fill-color: #D2E3FC;\n",
              "      --hover-bg-color: #434B5C;\n",
              "      --hover-fill-color: #FFFFFF;\n",
              "      --disabled-bg-color: #3B4455;\n",
              "      --disabled-fill-color: #666;\n",
              "  }\n",
              "\n",
              "  .colab-df-quickchart {\n",
              "    background-color: var(--bg-color);\n",
              "    border: none;\n",
              "    border-radius: 50%;\n",
              "    cursor: pointer;\n",
              "    display: none;\n",
              "    fill: var(--fill-color);\n",
              "    height: 32px;\n",
              "    padding: 0;\n",
              "    width: 32px;\n",
              "  }\n",
              "\n",
              "  .colab-df-quickchart:hover {\n",
              "    background-color: var(--hover-bg-color);\n",
              "    box-shadow: 0 1px 2px rgba(60, 64, 67, 0.3), 0 1px 3px 1px rgba(60, 64, 67, 0.15);\n",
              "    fill: var(--button-hover-fill-color);\n",
              "  }\n",
              "\n",
              "  .colab-df-quickchart-complete:disabled,\n",
              "  .colab-df-quickchart-complete:disabled:hover {\n",
              "    background-color: var(--disabled-bg-color);\n",
              "    fill: var(--disabled-fill-color);\n",
              "    box-shadow: none;\n",
              "  }\n",
              "\n",
              "  .colab-df-spinner {\n",
              "    border: 2px solid var(--fill-color);\n",
              "    border-color: transparent;\n",
              "    border-bottom-color: var(--fill-color);\n",
              "    animation:\n",
              "      spin 1s steps(1) infinite;\n",
              "  }\n",
              "\n",
              "  @keyframes spin {\n",
              "    0% {\n",
              "      border-color: transparent;\n",
              "      border-bottom-color: var(--fill-color);\n",
              "      border-left-color: var(--fill-color);\n",
              "    }\n",
              "    20% {\n",
              "      border-color: transparent;\n",
              "      border-left-color: var(--fill-color);\n",
              "      border-top-color: var(--fill-color);\n",
              "    }\n",
              "    30% {\n",
              "      border-color: transparent;\n",
              "      border-left-color: var(--fill-color);\n",
              "      border-top-color: var(--fill-color);\n",
              "      border-right-color: var(--fill-color);\n",
              "    }\n",
              "    40% {\n",
              "      border-color: transparent;\n",
              "      border-right-color: var(--fill-color);\n",
              "      border-top-color: var(--fill-color);\n",
              "    }\n",
              "    60% {\n",
              "      border-color: transparent;\n",
              "      border-right-color: var(--fill-color);\n",
              "    }\n",
              "    80% {\n",
              "      border-color: transparent;\n",
              "      border-right-color: var(--fill-color);\n",
              "      border-bottom-color: var(--fill-color);\n",
              "    }\n",
              "    90% {\n",
              "      border-color: transparent;\n",
              "      border-bottom-color: var(--fill-color);\n",
              "    }\n",
              "  }\n",
              "</style>\n",
              "\n",
              "  <script>\n",
              "    async function quickchart(key) {\n",
              "      const quickchartButtonEl =\n",
              "        document.querySelector('#' + key + ' button');\n",
              "      quickchartButtonEl.disabled = true;  // To prevent multiple clicks.\n",
              "      quickchartButtonEl.classList.add('colab-df-spinner');\n",
              "      try {\n",
              "        const charts = await google.colab.kernel.invokeFunction(\n",
              "            'suggestCharts', [key], {});\n",
              "      } catch (error) {\n",
              "        console.error('Error during call to suggestCharts:', error);\n",
              "      }\n",
              "      quickchartButtonEl.classList.remove('colab-df-spinner');\n",
              "      quickchartButtonEl.classList.add('colab-df-quickchart-complete');\n",
              "    }\n",
              "    (() => {\n",
              "      let quickchartButtonEl =\n",
              "        document.querySelector('#df-7fb2ff47-59ca-4961-ba79-585c58f37827 button');\n",
              "      quickchartButtonEl.style.display =\n",
              "        google.colab.kernel.accessAllowed ? 'block' : 'none';\n",
              "    })();\n",
              "  </script>\n",
              "</div>\n",
              "    </div>\n",
              "  </div>\n"
            ],
            "text/plain": [
              "                                                smiles  parent1_id  \\\n",
              "0    CCCC(C)(C)Oc1ccc(OC)c(S(=O)(=O)N[C@H](c2ccccc2...         4.0   \n",
              "1    COC[C@@H](C)OC(=O)c1ccccc1-c1nc2ccc(OC)cc2cc1C...        36.0   \n",
              "2    COCc1cccc(N(C(=S)NC2=CCS(=O)(=O)C2)[C@@H](C)C(...         5.0   \n",
              "3           Cc1ccc(C2OC2CC(=O)NCc2ccc(Cn3cncn3)cc2)cc1        46.0   \n",
              "4       [N-]=[N+]=Nc1cc(-c2cccc(C(=O)NC3CC3)c2)ccc1C=O        39.0   \n",
              "..                                                 ...         ...   \n",
              "995  CCCCCCCCCCCC(=O)OCC[C@@H](CS(=O)(=O)c1cc(C=CNC...       129.0   \n",
              "996  CCCCCCCCCCCC(=O)OCC[C@@H](CS(=O)(=O)c1cc(F)c(C...       108.0   \n",
              "997  CCC(CC)(C(=O)Nc1sccc1C(N)=O)N(Cc1cc(C(N)=O)ccc...        82.0   \n",
              "998  CCCCCCCCCCCC(=O)OCC[C@@H](CS(=O)(=O)c1cccc(F)c...       103.0   \n",
              "999   O=C(Cc1ccccn1)N(C(=O)NC=Cc1ccc(F)c(F)c1)c1ccccc1        63.0   \n",
              "\n",
              "     reaction_id           zinc_id     source    generation  parent2_id  \\\n",
              "0           19.0  ZINC000001648167   mutation        [1, 2]         NaN   \n",
              "1           89.0  ZINC001606798926   mutation     [1, 2, 3]         NaN   \n",
              "2           94.0  ZINC000002454917   mutation           [1]         NaN   \n",
              "3            3.0               NaN   mutation           [1]         NaN   \n",
              "4            6.0               NaN   mutation        [1, 2]         NaN   \n",
              "..           ...               ...        ...           ...         ...   \n",
              "995          8.0               NaN   mutation        [4, 5]         NaN   \n",
              "996          NaN               NaN  crossover        [4, 5]       105.0   \n",
              "997         32.0  ZINC000000164795   mutation     [3, 4, 5]         NaN   \n",
              "998         31.0  ZINC000033373160   mutation        [4, 5]         NaN   \n",
              "999          NaN               NaN  crossover  [2, 3, 4, 5]        88.0   \n",
              "\n",
              "     compound_id   fitness       Source  \n",
              "0           50.0  1.607781    Full data  \n",
              "1           51.0  2.436105    Full data  \n",
              "2           52.0 -1.403251    Full data  \n",
              "3           53.0 -1.011008    Full data  \n",
              "4           54.0  1.049021    Full data  \n",
              "..           ...       ...          ...  \n",
              "995        165.0  0.202234  Hydrophilic  \n",
              "996        176.0  0.134999  Hydrophilic  \n",
              "997        108.0  0.180881  Hydrophilic  \n",
              "998        163.0  0.014122  Hydrophilic  \n",
              "999         72.0  0.211454  Hydrophilic  \n",
              "\n",
              "[1000 rows x 10 columns]"
            ]
          },
          "execution_count": 21,
          "metadata": {},
          "output_type": "execute_result"
        }
      ],
      "source": [
        "df_combined"
      ]
    },
    {
      "cell_type": "code",
      "execution_count": null,
      "metadata": {
        "colab": {
          "base_uri": "https://localhost:8080/",
          "height": 472
        },
        "id": "CzhtAZt6ow5P",
        "outputId": "5bc4dab7-0301-45d2-b168-e32153c2dce5"
      },
      "outputs": [
        {
          "data": {
            "image/png": "[encoded data removed]",
            "text/plain": [
              "<Figure size 640x480 with 1 Axes>"
            ]
          },
          "metadata": {},
          "output_type": "display_data"
        }
      ],
      "source": [
        "import seaborn as sns\n",
        "\n",
        "sns.boxplot(x='Source', y='fitness', data=df_combined)\n",
        "plt.title('Fitness Distribution by Source')\n",
        "plt.xlabel('Source')\n",
        "plt.ylabel('Fitness')\n",
        "plt.show()"
      ]
    },
    {
      "cell_type": "code",
      "execution_count": null,
      "metadata": {
        "id": "AuyR0rNTz6v8"
      },
      "outputs": [],
      "source": [
        "df_drug_info = pd.read_csv('/content/10_epochs_drug_info.csv')\n"
      ]
    },
    {
      "cell_type": "code",
      "execution_count": null,
      "metadata": {
        "colab": {
          "background_save": true
        },
        "id": "0fUGLUvsptHB",
        "outputId": "53e6b42b-b447-4611-ca06-0592c0534807"
      },
      "outputs": [
        {
          "data": {
            "application/vnd.google.colaboratory.intrinsic+json": {
              "summary": "{\n  \"name\": \"df_drug_info\",\n  \"rows\": 100,\n  \"fields\": [\n    {\n      \"column\": \"compound_id\",\n      \"properties\": {\n        \"dtype\": \"number\",\n        \"std\": 29,\n        \"min\": 0,\n        \"max\": 99,\n        \"num_unique_values\": 100,\n        \"samples\": [\n          83,\n          53,\n          70\n        ],\n        \"semantic_type\": \"\",\n        \"description\": \"\"\n      }\n    },\n    {\n      \"column\": \"smiles\",\n      \"properties\": {\n        \"dtype\": \"string\",\n        \"num_unique_values\": 92,\n        \"samples\": [\n          \"Cc1ccc(C=CCc2nc3c(F)cc(C)c(Cl)c3c(=O)n2Cc2ccc(Cn3cncn3)cc2)cc1\",\n          \"CCCC(C)(C)Oc1ccc(OC)c(S(=O)(=O)NC(c2ccc(-n3c(SCC(=O)N4CCCC[C@H]4C)nnc3-c3ccccc3)cc2)c2ccccn2)c1\",\n          \"CC[C@H](C)N(CCCSC(=O)C1(N=[N+]=[N-])CC(c2cccc(C(=O)NC3CC3)c2)CCC1c1nc2c([N+](=O)[O-])cc(C)cc2s1)C(=S)Nc1cc(Cl)c(OC)cc1OC\"\n        ],\n        \"semantic_type\": \"\",\n        \"description\": \"\"\n      }\n    },\n    {\n      \"column\": \"generation\",\n      \"properties\": {\n        \"dtype\": \"category\",\n        \"num_unique_values\": 1,\n        \"samples\": [\n          \"[0, 1]\"\n        ],\n        \"semantic_type\": \"\",\n        \"description\": \"\"\n      }\n    },\n    {\n      \"column\": \"source\",\n      \"properties\": {\n        \"dtype\": \"category\",\n        \"num_unique_values\": 1,\n        \"samples\": [\n          \"initial\"\n        ],\n        \"semantic_type\": \"\",\n        \"description\": \"\"\n      }\n    },\n    {\n      \"column\": \"fitness\",\n      \"properties\": {\n        \"dtype\": \"number\",\n        \"std\": 0.7560329925161454,\n        \"min\": -1.9437830967078544,\n        \"max\": 1.403688353402233,\n        \"num_unique_values\": 91,\n        \"samples\": [\n          0.4620885282256817\n        ],\n        \"semantic_type\": \"\",\n        \"description\": \"\"\n      }\n    },\n    {\n      \"column\": \"SA_score\",\n      \"properties\": {\n        \"dtype\": \"number\",\n        \"std\": 1.005037815259212,\n        \"min\": -3.292868643418243,\n        \"max\": 1.950574872363612,\n        \"num_unique_values\": 91,\n        \"samples\": [\n          0.7925633635140923\n        ],\n        \"semantic_type\": \"\",\n        \"description\": \"\"\n      }\n    },\n    {\n      \"column\": \"LogP_score\",\n      \"properties\": {\n        \"dtype\": \"number\",\n        \"std\": 1.005037815259212,\n        \"min\": -1.6665529784818718,\n        \"max\": 2.771561529088417,\n        \"num_unique_values\": 91,\n        \"samples\": [\n          -0.3304748352884105\n        ],\n        \"semantic_type\": \"\",\n        \"description\": \"\"\n      }\n    },\n    {\n      \"column\": \"Cycle_score\",\n      \"properties\": {\n        \"dtype\": \"number\",\n        \"std\": 0.0,\n        \"min\": 0.0,\n        \"max\": 0.0,\n        \"num_unique_values\": 1,\n        \"samples\": [\n          0.0\n        ],\n        \"semantic_type\": \"\",\n        \"description\": \"\"\n      }\n    }\n  ]\n}",
              "type": "dataframe",
              "variable_name": "df_drug_info"
            },
            "text/html": [
              "\n",
              "  <div id=\"df-8386c009-0195-4a56-8ee8-16100a1560b3\" class=\"colab-df-container\">\n",
              "    <div>\n",
              "<style scoped>\n",
              "    .dataframe tbody tr th:only-of-type {\n",
              "        vertical-align: middle;\n",
              "    }\n",
              "\n",
              "    .dataframe tbody tr th {\n",
              "        vertical-align: top;\n",
              "    }\n",
              "\n",
              "    .dataframe thead th {\n",
              "        text-align: right;\n",
              "    }\n",
              "</style>\n",
              "<table border=\"1\" class=\"dataframe\">\n",
              "  <thead>\n",
              "    <tr style=\"text-align: right;\">\n",
              "      <th></th>\n",
              "      <th>compound_id</th>\n",
              "      <th>smiles</th>\n",
              "      <th>generation</th>\n",
              "      <th>source</th>\n",
              "      <th>fitness</th>\n",
              "      <th>SA_score</th>\n",
              "      <th>LogP_score</th>\n",
              "      <th>Cycle_score</th>\n",
              "    </tr>\n",
              "  </thead>\n",
              "  <tbody>\n",
              "    <tr>\n",
              "      <th>0</th>\n",
              "      <td>0</td>\n",
              "      <td>CC(c1cccc(NC(=O)N2CCCC2)c1)N1C(=O)C(=CC2CN(C)N...</td>\n",
              "      <td>[0, 1]</td>\n",
              "      <td>initial</td>\n",
              "      <td>-1.718513</td>\n",
              "      <td>-0.582848</td>\n",
              "      <td>-1.135665</td>\n",
              "      <td>0.0</td>\n",
              "    </tr>\n",
              "    <tr>\n",
              "      <th>1</th>\n",
              "      <td>1</td>\n",
              "      <td>CC=C(CC)C(=O)N(Cc1ccccc1OC)C(=S)N(Cc1ccc(Cn2cn...</td>\n",
              "      <td>[0, 1]</td>\n",
              "      <td>initial</td>\n",
              "      <td>0.246231</td>\n",
              "      <td>0.245398</td>\n",
              "      <td>0.000833</td>\n",
              "      <td>0.0</td>\n",
              "    </tr>\n",
              "    <tr>\n",
              "      <th>2</th>\n",
              "      <td>2</td>\n",
              "      <td>CCCC(C)(C)Oc1ccc(OC)c(S(=O)(=O)NC(c2ccc(-n3c(S...</td>\n",
              "      <td>[0, 1]</td>\n",
              "      <td>initial</td>\n",
              "      <td>-0.120365</td>\n",
              "      <td>-2.762588</td>\n",
              "      <td>2.642224</td>\n",
              "      <td>0.0</td>\n",
              "    </tr>\n",
              "    <tr>\n",
              "      <th>3</th>\n",
              "      <td>3</td>\n",
              "      <td>CC[C@H](C)NCCCSC(=O)c1ccc(-c2ccc(OC(=O)N3CNCN3...</td>\n",
              "      <td>[0, 1]</td>\n",
              "      <td>initial</td>\n",
              "      <td>0.025496</td>\n",
              "      <td>-0.913579</td>\n",
              "      <td>0.939074</td>\n",
              "      <td>0.0</td>\n",
              "    </tr>\n",
              "    <tr>\n",
              "      <th>4</th>\n",
              "      <td>4</td>\n",
              "      <td>CC[C@@H](C)CC(=O)NC[C@H]1Cc2cccc(-c3ccncc3)c2O1</td>\n",
              "      <td>[0, 1]</td>\n",
              "      <td>initial</td>\n",
              "      <td>-0.533658</td>\n",
              "      <td>0.510669</td>\n",
              "      <td>-1.044326</td>\n",
              "      <td>0.0</td>\n",
              "    </tr>\n",
              "    <tr>\n",
              "      <th>...</th>\n",
              "      <td>...</td>\n",
              "      <td>...</td>\n",
              "      <td>...</td>\n",
              "      <td>...</td>\n",
              "      <td>...</td>\n",
              "      <td>...</td>\n",
              "      <td>...</td>\n",
              "      <td>...</td>\n",
              "    </tr>\n",
              "    <tr>\n",
              "      <th>95</th>\n",
              "      <td>95</td>\n",
              "      <td>COc1cccc([C@H]2[C@H](N3C(=O)c4ccccc4C3=O)C(=O)...</td>\n",
              "      <td>[0, 1]</td>\n",
              "      <td>initial</td>\n",
              "      <td>-0.342321</td>\n",
              "      <td>0.651488</td>\n",
              "      <td>-0.993809</td>\n",
              "      <td>0.0</td>\n",
              "    </tr>\n",
              "    <tr>\n",
              "      <th>96</th>\n",
              "      <td>96</td>\n",
              "      <td>CC[C@H](C)N(CCCSC(=O)c1ccccc1-c1nc2ccc(OC)cc2c...</td>\n",
              "      <td>[0, 1]</td>\n",
              "      <td>initial</td>\n",
              "      <td>1.313944</td>\n",
              "      <td>-1.457617</td>\n",
              "      <td>2.771562</td>\n",
              "      <td>0.0</td>\n",
              "    </tr>\n",
              "    <tr>\n",
              "      <th>97</th>\n",
              "      <td>97</td>\n",
              "      <td>CC=C(CC)C(=O)N(Cc1ccccc1OC)C(=S)N(Cc1ccc(Cn2cn...</td>\n",
              "      <td>[0, 1]</td>\n",
              "      <td>initial</td>\n",
              "      <td>-0.071951</td>\n",
              "      <td>-0.923546</td>\n",
              "      <td>0.851596</td>\n",
              "      <td>0.0</td>\n",
              "    </tr>\n",
              "    <tr>\n",
              "      <th>98</th>\n",
              "      <td>98</td>\n",
              "      <td>Cc1ccc(C=CCC(=O)NC(=O)c2ccc(Cn3cncn3)c(Cl)c2)cc1</td>\n",
              "      <td>[0, 1]</td>\n",
              "      <td>initial</td>\n",
              "      <td>0.256068</td>\n",
              "      <td>1.285880</td>\n",
              "      <td>-1.029812</td>\n",
              "      <td>0.0</td>\n",
              "    </tr>\n",
              "    <tr>\n",
              "      <th>99</th>\n",
              "      <td>99</td>\n",
              "      <td>Cc1cc([N+](=O)[O-])c2c(c1)sc(-c1ccc(-c3cccc(C(...</td>\n",
              "      <td>[0, 1]</td>\n",
              "      <td>initial</td>\n",
              "      <td>0.760052</td>\n",
              "      <td>0.780714</td>\n",
              "      <td>-0.020663</td>\n",
              "      <td>0.0</td>\n",
              "    </tr>\n",
              "  </tbody>\n",
              "</table>\n",
              "<p>100 rows × 8 columns</p>\n",
              "</div>\n",
              "    <div class=\"colab-df-buttons\">\n",
              "\n",
              "  <div class=\"colab-df-container\">\n",
              "    <button class=\"colab-df-convert\" onclick=\"convertToInteractive('df-8386c009-0195-4a56-8ee8-16100a1560b3')\"\n",
              "            title=\"Convert this dataframe to an interactive table.\"\n",
              "            style=\"display:none;\">\n",
              "\n",
              "  <svg xmlns=\"http://www.w3.org/2000/svg\" height=\"24px\" viewBox=\"0 -960 960 960\">\n",
              "    <path d=\"M120-120v-720h720v720H120Zm60-500h600v-160H180v160Zm220 220h160v-160H400v160Zm0 220h160v-160H400v160ZM180-400h160v-160H180v160Zm440 0h160v-160H620v160ZM180-180h160v-160H180v160Zm440 0h160v-160H620v160Z\"/>\n",
              "  </svg>\n",
              "    </button>\n",
              "\n",
              "  <style>\n",
              "    .colab-df-container {\n",
              "      display:flex;\n",
              "      gap: 12px;\n",
              "    }\n",
              "\n",
              "    .colab-df-convert {\n",
              "      background-color: #E8F0FE;\n",
              "      border: none;\n",
              "      border-radius: 50%;\n",
              "      cursor: pointer;\n",
              "      display: none;\n",
              "      fill: #1967D2;\n",
              "      height: 32px;\n",
              "      padding: 0 0 0 0;\n",
              "      width: 32px;\n",
              "    }\n",
              "\n",
              "    .colab-df-convert:hover {\n",
              "      background-color: #E2EBFA;\n",
              "      box-shadow: 0px 1px 2px rgba(60, 64, 67, 0.3), 0px 1px 3px 1px rgba(60, 64, 67, 0.15);\n",
              "      fill: #174EA6;\n",
              "    }\n",
              "\n",
              "    .colab-df-buttons div {\n",
              "      margin-bottom: 4px;\n",
              "    }\n",
              "\n",
              "    [theme=dark] .colab-df-convert {\n",
              "      background-color: #3B4455;\n",
              "      fill: #D2E3FC;\n",
              "    }\n",
              "\n",
              "    [theme=dark] .colab-df-convert:hover {\n",
              "      background-color: #434B5C;\n",
              "      box-shadow: 0px 1px 3px 1px rgba(0, 0, 0, 0.15);\n",
              "      filter: drop-shadow(0px 1px 2px rgba(0, 0, 0, 0.3));\n",
              "      fill: #FFFFFF;\n",
              "    }\n",
              "  </style>\n",
              "\n",
              "    <script>\n",
              "      const buttonEl =\n",
              "        document.querySelector('#df-8386c009-0195-4a56-8ee8-16100a1560b3 button.colab-df-convert');\n",
              "      buttonEl.style.display =\n",
              "        google.colab.kernel.accessAllowed ? 'block' : 'none';\n",
              "\n",
              "      async function convertToInteractive(key) {\n",
              "        const element = document.querySelector('#df-8386c009-0195-4a56-8ee8-16100a1560b3');\n",
              "        const dataTable =\n",
              "          await google.colab.kernel.invokeFunction('convertToInteractive',\n",
              "                                                    [key], {});\n",
              "        if (!dataTable) return;\n",
              "\n",
              "        const docLinkHtml = 'Like what you see? Visit the ' +\n",
              "          '<a target=\"_blank\" href=https://colab.research.google.com/notebooks/data_table.ipynb>data table notebook</a>'\n",
              "          + ' to learn more about interactive tables.';\n",
              "        element.innerHTML = '';\n",
              "        dataTable['output_type'] = 'display_data';\n",
              "        await google.colab.output.renderOutput(dataTable, element);\n",
              "        const docLink = document.createElement('div');\n",
              "        docLink.innerHTML = docLinkHtml;\n",
              "        element.appendChild(docLink);\n",
              "      }\n",
              "    </script>\n",
              "  </div>\n",
              "\n",
              "\n",
              "<div id=\"df-e1617fdc-dd01-4887-b9ea-2a7473bbba4e\">\n",
              "  <button class=\"colab-df-quickchart\" onclick=\"quickchart('df-e1617fdc-dd01-4887-b9ea-2a7473bbba4e')\"\n",
              "            title=\"Suggest charts\"\n",
              "            style=\"display:none;\">\n",
              "\n",
              "<svg xmlns=\"http://www.w3.org/2000/svg\" height=\"24px\"viewBox=\"0 0 24 24\"\n",
              "     width=\"24px\">\n",
              "    <g>\n",
              "        <path d=\"M19 3H5c-1.1 0-2 .9-2 2v14c0 1.1.9 2 2 2h14c1.1 0 2-.9 2-2V5c0-1.1-.9-2-2-2zM9 17H7v-7h2v7zm4 0h-2V7h2v10zm4 0h-2v-4h2v4z\"/>\n",
              "    </g>\n",
              "</svg>\n",
              "  </button>\n",
              "\n",
              "<style>\n",
              "  .colab-df-quickchart {\n",
              "      --bg-color: #E8F0FE;\n",
              "      --fill-color: #1967D2;\n",
              "      --hover-bg-color: #E2EBFA;\n",
              "      --hover-fill-color: #174EA6;\n",
              "      --disabled-fill-color: #AAA;\n",
              "      --disabled-bg-color: #DDD;\n",
              "  }\n",
              "\n",
              "  [theme=dark] .colab-df-quickchart {\n",
              "      --bg-color: #3B4455;\n",
              "      --fill-color: #D2E3FC;\n",
              "      --hover-bg-color: #434B5C;\n",
              "      --hover-fill-color: #FFFFFF;\n",
              "      --disabled-bg-color: #3B4455;\n",
              "      --disabled-fill-color: #666;\n",
              "  }\n",
              "\n",
              "  .colab-df-quickchart {\n",
              "    background-color: var(--bg-color);\n",
              "    border: none;\n",
              "    border-radius: 50%;\n",
              "    cursor: pointer;\n",
              "    display: none;\n",
              "    fill: var(--fill-color);\n",
              "    height: 32px;\n",
              "    padding: 0;\n",
              "    width: 32px;\n",
              "  }\n",
              "\n",
              "  .colab-df-quickchart:hover {\n",
              "    background-color: var(--hover-bg-color);\n",
              "    box-shadow: 0 1px 2px rgba(60, 64, 67, 0.3), 0 1px 3px 1px rgba(60, 64, 67, 0.15);\n",
              "    fill: var(--button-hover-fill-color);\n",
              "  }\n",
              "\n",
              "  .colab-df-quickchart-complete:disabled,\n",
              "  .colab-df-quickchart-complete:disabled:hover {\n",
              "    background-color: var(--disabled-bg-color);\n",
              "    fill: var(--disabled-fill-color);\n",
              "    box-shadow: none;\n",
              "  }\n",
              "\n",
              "  .colab-df-spinner {\n",
              "    border: 2px solid var(--fill-color);\n",
              "    border-color: transparent;\n",
              "    border-bottom-color: var(--fill-color);\n",
              "    animation:\n",
              "      spin 1s steps(1) infinite;\n",
              "  }\n",
              "\n",
              "  @keyframes spin {\n",
              "    0% {\n",
              "      border-color: transparent;\n",
              "      border-bottom-color: var(--fill-color);\n",
              "      border-left-color: var(--fill-color);\n",
              "    }\n",
              "    20% {\n",
              "      border-color: transparent;\n",
              "      border-left-color: var(--fill-color);\n",
              "      border-top-color: var(--fill-color);\n",
              "    }\n",
              "    30% {\n",
              "      border-color: transparent;\n",
              "      border-left-color: var(--fill-color);\n",
              "      border-top-color: var(--fill-color);\n",
              "      border-right-color: var(--fill-color);\n",
              "    }\n",
              "    40% {\n",
              "      border-color: transparent;\n",
              "      border-right-color: var(--fill-color);\n",
              "      border-top-color: var(--fill-color);\n",
              "    }\n",
              "    60% {\n",
              "      border-color: transparent;\n",
              "      border-right-color: var(--fill-color);\n",
              "    }\n",
              "    80% {\n",
              "      border-color: transparent;\n",
              "      border-right-color: var(--fill-color);\n",
              "      border-bottom-color: var(--fill-color);\n",
              "    }\n",
              "    90% {\n",
              "      border-color: transparent;\n",
              "      border-bottom-color: var(--fill-color);\n",
              "    }\n",
              "  }\n",
              "</style>\n",
              "\n",
              "  <script>\n",
              "    async function quickchart(key) {\n",
              "      const quickchartButtonEl =\n",
              "        document.querySelector('#' + key + ' button');\n",
              "      quickchartButtonEl.disabled = true;  // To prevent multiple clicks.\n",
              "      quickchartButtonEl.classList.add('colab-df-spinner');\n",
              "      try {\n",
              "        const charts = await google.colab.kernel.invokeFunction(\n",
              "            'suggestCharts', [key], {});\n",
              "      } catch (error) {\n",
              "        console.error('Error during call to suggestCharts:', error);\n",
              "      }\n",
              "      quickchartButtonEl.classList.remove('colab-df-spinner');\n",
              "      quickchartButtonEl.classList.add('colab-df-quickchart-complete');\n",
              "    }\n",
              "    (() => {\n",
              "      let quickchartButtonEl =\n",
              "        document.querySelector('#df-e1617fdc-dd01-4887-b9ea-2a7473bbba4e button');\n",
              "      quickchartButtonEl.style.display =\n",
              "        google.colab.kernel.accessAllowed ? 'block' : 'none';\n",
              "    })();\n",
              "  </script>\n",
              "</div>\n",
              "    </div>\n",
              "  </div>\n"
            ],
            "text/plain": [
              "    compound_id                                             smiles generation  \\\n",
              "0             0  CC(c1cccc(NC(=O)N2CCCC2)c1)N1C(=O)C(=CC2CN(C)N...     [0, 1]   \n",
              "1             1  CC=C(CC)C(=O)N(Cc1ccccc1OC)C(=S)N(Cc1ccc(Cn2cn...     [0, 1]   \n",
              "2             2  CCCC(C)(C)Oc1ccc(OC)c(S(=O)(=O)NC(c2ccc(-n3c(S...     [0, 1]   \n",
              "3             3  CC[C@H](C)NCCCSC(=O)c1ccc(-c2ccc(OC(=O)N3CNCN3...     [0, 1]   \n",
              "4             4    CC[C@@H](C)CC(=O)NC[C@H]1Cc2cccc(-c3ccncc3)c2O1     [0, 1]   \n",
              "..          ...                                                ...        ...   \n",
              "95           95  COc1cccc([C@H]2[C@H](N3C(=O)c4ccccc4C3=O)C(=O)...     [0, 1]   \n",
              "96           96  CC[C@H](C)N(CCCSC(=O)c1ccccc1-c1nc2ccc(OC)cc2c...     [0, 1]   \n",
              "97           97  CC=C(CC)C(=O)N(Cc1ccccc1OC)C(=S)N(Cc1ccc(Cn2cn...     [0, 1]   \n",
              "98           98   Cc1ccc(C=CCC(=O)NC(=O)c2ccc(Cn3cncn3)c(Cl)c2)cc1     [0, 1]   \n",
              "99           99  Cc1cc([N+](=O)[O-])c2c(c1)sc(-c1ccc(-c3cccc(C(...     [0, 1]   \n",
              "\n",
              "     source   fitness  SA_score  LogP_score  Cycle_score  \n",
              "0   initial -1.718513 -0.582848   -1.135665          0.0  \n",
              "1   initial  0.246231  0.245398    0.000833          0.0  \n",
              "2   initial -0.120365 -2.762588    2.642224          0.0  \n",
              "3   initial  0.025496 -0.913579    0.939074          0.0  \n",
              "4   initial -0.533658  0.510669   -1.044326          0.0  \n",
              "..      ...       ...       ...         ...          ...  \n",
              "95  initial -0.342321  0.651488   -0.993809          0.0  \n",
              "96  initial  1.313944 -1.457617    2.771562          0.0  \n",
              "97  initial -0.071951 -0.923546    0.851596          0.0  \n",
              "98  initial  0.256068  1.285880   -1.029812          0.0  \n",
              "99  initial  0.760052  0.780714   -0.020663          0.0  \n",
              "\n",
              "[100 rows x 8 columns]"
            ]
          },
          "execution_count": 25,
          "metadata": {},
          "output_type": "execute_result"
        }
      ],
      "source": [
        "df_drug_info"
      ]
    },
    {
      "cell_type": "code",
      "execution_count": null,
      "metadata": {
        "id": "sid5zanS0Dz-"
      },
      "outputs": [],
      "source": []
    }
  ],
  "metadata": {
    "colab": {
      "provenance": []
    },
    "kernelspec": {
      "display_name": "Python 3",
      "name": "python3"
    },
    "language_info": {
      "name": "python"
    }
  },
  "nbformat": 4,
  "nbformat_minor": 0
}