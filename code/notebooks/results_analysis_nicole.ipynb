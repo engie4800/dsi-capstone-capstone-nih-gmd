{
 "cells": [
  {
   "cell_type": "markdown",
   "id": "dd135de6-1ce8-4647-b4b0-1601b6e66029",
   "metadata": {
    "tags": []
   },
   "source": [
    "### Exploration of Results"
   ]
  },
  {
   "cell_type": "markdown",
   "id": "e17a0652-930a-47da-8f03-6eec2196a04c",
   "metadata": {},
   "source": [
    "#### Imports"
   ]
  },
  {
   "cell_type": "code",
   "execution_count": 36,
   "id": "72e4d7e8-9291-4b12-8afa-2b0ae3c5ff41",
   "metadata": {
    "tags": []
   },
   "outputs": [],
   "source": [
    "import os\n",
    "import shutil\n",
    "import numpy as np\n",
    "import pandas as pd\n",
    "import matplotlib.pyplot as plt\n",
    "import seaborn as sns"
   ]
  },
  {
   "cell_type": "markdown",
   "id": "c707c8d1-f652-4c16-b59e-e503e53c551a",
   "metadata": {},
   "source": [
    "### Summary of Original Population\n",
    "\n",
    "#### Reading in the full text file\n",
    "\n",
    "This is the LogP dataset appended to the Zinc dataset, so that no key errors come when generating compounds"
   ]
  },
  {
   "cell_type": "code",
   "execution_count": 37,
   "id": "6aa91bd1-b6b3-47cd-a40a-8e21d4cc46e4",
   "metadata": {
    "tags": []
   },
   "outputs": [
    {
     "data": {
      "text/html": [
       "<div>\n",
       "<style scoped>\n",
       "    .dataframe tbody tr th:only-of-type {\n",
       "        vertical-align: middle;\n",
       "    }\n",
       "\n",
       "    .dataframe tbody tr th {\n",
       "        vertical-align: top;\n",
       "    }\n",
       "\n",
       "    .dataframe thead th {\n",
       "        text-align: right;\n",
       "    }\n",
       "</style>\n",
       "<table border=\"1\" class=\"dataframe\">\n",
       "  <thead>\n",
       "    <tr style=\"text-align: right;\">\n",
       "      <th></th>\n",
       "      <th>smiles</th>\n",
       "    </tr>\n",
       "  </thead>\n",
       "  <tbody>\n",
       "    <tr>\n",
       "      <th>0</th>\n",
       "      <td>CC(C)(C)c1ccc2occ(CC(=O)Nc3ccccc3F)c2c1</td>\n",
       "    </tr>\n",
       "    <tr>\n",
       "      <th>1</th>\n",
       "      <td>C[C@@H]1CC(Nc2cncc(-c3nncn3C)c2)C[C@@H](C)C1</td>\n",
       "    </tr>\n",
       "    <tr>\n",
       "      <th>2</th>\n",
       "      <td>N#Cc1ccc(-c2ccc(O[C@@H](C(=O)N3CCCC3)c3ccccc3)...</td>\n",
       "    </tr>\n",
       "    <tr>\n",
       "      <th>3</th>\n",
       "      <td>CCOC(=O)[C@@H]1CCCN(C(=O)c2nc(-c3ccc(C)cc3)n3c...</td>\n",
       "    </tr>\n",
       "    <tr>\n",
       "      <th>4</th>\n",
       "      <td>N#CC1=C(SCC(=O)Nc2cccc(Cl)c2)N=C([O-])[C@H](C#...</td>\n",
       "    </tr>\n",
       "  </tbody>\n",
       "</table>\n",
       "</div>"
      ],
      "text/plain": [
       "                                              smiles\n",
       "0            CC(C)(C)c1ccc2occ(CC(=O)Nc3ccccc3F)c2c1\n",
       "1       C[C@@H]1CC(Nc2cncc(-c3nncn3C)c2)C[C@@H](C)C1\n",
       "2  N#Cc1ccc(-c2ccc(O[C@@H](C(=O)N3CCCC3)c3ccccc3)...\n",
       "3  CCOC(=O)[C@@H]1CCCN(C(=O)c2nc(-c3ccc(C)cc3)n3c...\n",
       "4  N#CC1=C(SCC(=O)Nc2cccc(Cl)c2)N=C([O-])[C@H](C#..."
      ]
     },
     "execution_count": 37,
     "metadata": {},
     "output_type": "execute_result"
    }
   ],
   "source": [
    "base_fp = './FNLGMD/examples'\n",
    "tab = pd.read_table(os.path.join(base_fp, 'zinc_smiles_copy.txt'), header=None)\n",
    "tab.columns = ['smiles']\n",
    "tab.head()"
   ]
  },
  {
   "cell_type": "markdown",
   "id": "af3df9f9-625d-4e44-90ee-0b70937d18f9",
   "metadata": {},
   "source": [
    "#### Scoring the full dataset\n",
    "\n",
    "Below is the same score function that can be found in the framework, modified slightly to produced the desired outputs."
   ]
  },
  {
   "cell_type": "code",
   "execution_count": 38,
   "id": "b07b6091-1d79-4f5f-a259-8260a829fda9",
   "metadata": {
    "tags": []
   },
   "outputs": [],
   "source": [
    "from FNLGMD.source.scorers.SAScore import sascorer\n",
    "from FNLGMD.source.scorers.base_scorer import Scorer\n",
    "from rdkit.Chem import MolFromSmiles, MolToSmiles, Descriptors, rdmolops\n",
    "import networkx as nx\n",
    "\n",
    "def score(population):\n",
    "\n",
    "    smiles = population['smiles']\n",
    "    smiles_rdkit = []\n",
    "    for s in smiles:\n",
    "        mol = MolFromSmiles(s)\n",
    "        smi = MolToSmiles(mol,isomericSmiles=False)\n",
    "        smiles_rdkit.append(smi)\n",
    "\n",
    "    logP_values = []\n",
    "    for i in range(len(smiles_rdkit)):\n",
    "        logP_values.append(Descriptors.MolLogP(MolFromSmiles(smiles_rdkit[ i ])))\n",
    "\n",
    "    SA_scores = []\n",
    "    for i in range(len(smiles_rdkit)):\n",
    "        SA_scores.append(-sascorer.calculateScore(MolFromSmiles(smiles_rdkit[ i ])))\n",
    "\n",
    "    cycle_scores = []\n",
    "\n",
    "    for i in range(len(smiles_rdkit)):\n",
    "        cycle_list = nx.cycle_basis(nx.Graph(rdmolops.GetAdjacencyMatrix(MolFromSmiles(smiles_rdkit[ i ]))))\n",
    "\n",
    "        if len(cycle_list) == 0:\n",
    "            cycle_length = 0\n",
    "        else:\n",
    "            cycle_length = max([ len(j) for j in cycle_list ])\n",
    "        if cycle_length <= 6:\n",
    "            cycle_length = 0\n",
    "        else:\n",
    "            cycle_length = cycle_length - 6\n",
    "        cycle_scores.append(-cycle_length)\n",
    "\n",
    "    SA_scores_normalized = (np.array(SA_scores) - np.mean(SA_scores)) / np.std(SA_scores)\n",
    "    logP_values_normalized = (np.array(logP_values) - np.mean(logP_values)) / np.std(logP_values)\n",
    "    cycle_scores_normalized = (np.array(cycle_scores) - np.mean(cycle_scores)) / np.std(cycle_scores)\n",
    "\n",
    "    SA_scores_normalized[np.isnan(SA_scores_normalized)] = 0.0\n",
    "    logP_values_normalized[np.isnan(logP_values_normalized)] = 0.0\n",
    "    cycle_scores_normalized[np.isnan(cycle_scores_normalized)] = 0.0\n",
    "\n",
    "    targets = SA_scores_normalized + logP_values_normalized + cycle_scores_normalized\n",
    "    population['fitness'] = targets\n",
    "\n",
    "    return logP_values, SA_scores, cycle_scores, targets"
   ]
  },
  {
   "cell_type": "code",
   "execution_count": 12,
   "id": "fa53fabd-2a73-4a12-9f7b-1a9c8f86813e",
   "metadata": {
    "tags": []
   },
   "outputs": [],
   "source": [
    "# Only need to run once, takes a long time\n",
    "# logP_values, SA_scores, cycle_scores, targets = score(tab)"
   ]
  },
  {
   "cell_type": "code",
   "execution_count": 17,
   "id": "30d67367-1346-47d5-898b-0b79a4760eee",
   "metadata": {
    "tags": []
   },
   "outputs": [],
   "source": [
    "# tab['fitness'] = targets\n",
    "# tab['logP'] = logP_values\n",
    "# tab['SA_scores'] = SA_scores\n",
    "# tab['cycle_scores'] = cycle_scores\n",
    "\n",
    "# # tab1 = pd.read_csv(os.path.join(base_fp, 'lipo.csv'))\n",
    "# # tab2 = pd.read_csv(os.path.join(base_fp, 'bal.csv'))\n",
    "# # tab3 = pd.read_csv(os.path.join(base_fp, 'hydro.csv'))\n",
    "\n",
    "# # TAB = pd.concat([tab1, tab2, tab3])\n",
    "\n",
    "# tab.to_csv('./results/all_scores.csv')"
   ]
  },
  {
   "cell_type": "code",
   "execution_count": 39,
   "id": "d4f6f703-1163-449d-91d5-71d51641b1c0",
   "metadata": {},
   "outputs": [
    {
     "data": {
      "text/html": [
       "<div>\n",
       "<style scoped>\n",
       "    .dataframe tbody tr th:only-of-type {\n",
       "        vertical-align: middle;\n",
       "    }\n",
       "\n",
       "    .dataframe tbody tr th {\n",
       "        vertical-align: top;\n",
       "    }\n",
       "\n",
       "    .dataframe thead th {\n",
       "        text-align: right;\n",
       "    }\n",
       "</style>\n",
       "<table border=\"1\" class=\"dataframe\">\n",
       "  <thead>\n",
       "    <tr style=\"text-align: right;\">\n",
       "      <th></th>\n",
       "      <th>Unnamed: 0</th>\n",
       "      <th>smiles</th>\n",
       "      <th>fitness</th>\n",
       "      <th>logP</th>\n",
       "      <th>SA_scores</th>\n",
       "      <th>cycle_scores</th>\n",
       "    </tr>\n",
       "  </thead>\n",
       "  <tbody>\n",
       "    <tr>\n",
       "      <th>0</th>\n",
       "      <td>0</td>\n",
       "      <td>CC(C)(C)c1ccc2occ(CC(=O)Nc3ccccc3F)c2c1</td>\n",
       "      <td>3.128082</td>\n",
       "      <td>5.05060</td>\n",
       "      <td>-2.084095</td>\n",
       "      <td>0</td>\n",
       "    </tr>\n",
       "    <tr>\n",
       "      <th>1</th>\n",
       "      <td>1</td>\n",
       "      <td>C[C@@H]1CC(Nc2cncc(-c3nncn3C)c2)C[C@@H](C)C1</td>\n",
       "      <td>0.186324</td>\n",
       "      <td>3.11370</td>\n",
       "      <td>-3.432004</td>\n",
       "      <td>0</td>\n",
       "    </tr>\n",
       "    <tr>\n",
       "      <th>2</th>\n",
       "      <td>2</td>\n",
       "      <td>N#Cc1ccc(-c2ccc(O[C@@H](C(=O)N3CCCC3)c3ccccc3)...</td>\n",
       "      <td>2.611618</td>\n",
       "      <td>4.96778</td>\n",
       "      <td>-2.470633</td>\n",
       "      <td>0</td>\n",
       "    </tr>\n",
       "    <tr>\n",
       "      <th>3</th>\n",
       "      <td>3</td>\n",
       "      <td>CCOC(=O)[C@@H]1CCCN(C(=O)c2nc(-c3ccc(C)cc3)n3c...</td>\n",
       "      <td>-1.695819</td>\n",
       "      <td>4.00022</td>\n",
       "      <td>-2.822753</td>\n",
       "      <td>-1</td>\n",
       "    </tr>\n",
       "    <tr>\n",
       "      <th>4</th>\n",
       "      <td>4</td>\n",
       "      <td>N#CC1=C(SCC(=O)Nc2cccc(Cl)c2)N=C([O-])[C@H](C#...</td>\n",
       "      <td>-0.186917</td>\n",
       "      <td>3.60956</td>\n",
       "      <td>-4.035182</td>\n",
       "      <td>0</td>\n",
       "    </tr>\n",
       "  </tbody>\n",
       "</table>\n",
       "</div>"
      ],
      "text/plain": [
       "   Unnamed: 0                                             smiles   fitness  \\\n",
       "0           0            CC(C)(C)c1ccc2occ(CC(=O)Nc3ccccc3F)c2c1  3.128082   \n",
       "1           1       C[C@@H]1CC(Nc2cncc(-c3nncn3C)c2)C[C@@H](C)C1  0.186324   \n",
       "2           2  N#Cc1ccc(-c2ccc(O[C@@H](C(=O)N3CCCC3)c3ccccc3)...  2.611618   \n",
       "3           3  CCOC(=O)[C@@H]1CCCN(C(=O)c2nc(-c3ccc(C)cc3)n3c... -1.695819   \n",
       "4           4  N#CC1=C(SCC(=O)Nc2cccc(Cl)c2)N=C([O-])[C@H](C#... -0.186917   \n",
       "\n",
       "      logP  SA_scores  cycle_scores  \n",
       "0  5.05060  -2.084095             0  \n",
       "1  3.11370  -3.432004             0  \n",
       "2  4.96778  -2.470633             0  \n",
       "3  4.00022  -2.822753            -1  \n",
       "4  3.60956  -4.035182             0  "
      ]
     },
     "execution_count": 39,
     "metadata": {},
     "output_type": "execute_result"
    }
   ],
   "source": [
    "# Normalize the scores\n",
    "tab = pd.read_csv('./results/all_scores.csv')\n",
    "tab.head()"
   ]
  },
  {
   "cell_type": "code",
   "execution_count": 40,
   "id": "23e6134e-b13a-4ba3-8d7f-c4a6fc8c61ae",
   "metadata": {
    "tags": []
   },
   "outputs": [
    {
     "data": {
      "image/png": "[encoded data removed]",
      "text/plain": [
       "<Figure size 640x480 with 1 Axes>"
      ]
     },
     "metadata": {},
     "output_type": "display_data"
    }
   ],
   "source": [
    "# Original Histogram of fitness scores \n",
    "import warnings\n",
    "warnings.filterwarnings(\"ignore\")\n",
    "\n",
    "sns.set_style(style='darkgrid')\n",
    "sns.histplot(tab['fitness'], bins=25)\n",
    "plt.xlabel('Fitness')\n",
    "plt.title('Fitness Score Distribution for Initial Population')\n",
    "plt.savefig('./results/figures/initial_hist.png')\n",
    "plt.show()"
   ]
  },
  {
   "cell_type": "code",
   "execution_count": 41,
   "id": "19eee7e2-ea88-4710-8082-3300b18fe5aa",
   "metadata": {
    "tags": []
   },
   "outputs": [],
   "source": [
    "def normalize_col(dat, col):\n",
    "    return (dat[col] - dat[col].mean()) / dat[col].std(ddof=1)"
   ]
  },
  {
   "cell_type": "code",
   "execution_count": 42,
   "id": "9e775c2f-a912-456a-ae99-e6aa435f7b25",
   "metadata": {
    "tags": []
   },
   "outputs": [],
   "source": [
    "normalized_logP = normalize_col(tab, 'logP')"
   ]
  },
  {
   "cell_type": "code",
   "execution_count": 43,
   "id": "423348a0-3315-4811-ade3-d6ef2179ff3e",
   "metadata": {
    "tags": []
   },
   "outputs": [
    {
     "data": {
      "image/png": "[encoded data removed]",
      "text/plain": [
       "<Figure size 640x480 with 1 Axes>"
      ]
     },
     "metadata": {},
     "output_type": "display_data"
    }
   ],
   "source": [
    "sns.histplot(normalized_logP, bins=15)\n",
    "plt.xlabel('Fitness')\n",
    "plt.title('Normalized LogP Score Distribution for Initial Population')\n",
    "plt.savefig('./results/figures/hist1.png')\n",
    "plt.show()"
   ]
  },
  {
   "cell_type": "code",
   "execution_count": 44,
   "id": "ffc8a5bb-0d21-48a5-be86-338ff116bf5e",
   "metadata": {
    "tags": []
   },
   "outputs": [],
   "source": [
    "normalized_SA = normalize_col(tab, 'SA_scores')"
   ]
  },
  {
   "cell_type": "code",
   "execution_count": 45,
   "id": "ae6a2153-5688-4c4d-ad36-df4f722e681b",
   "metadata": {
    "tags": []
   },
   "outputs": [
    {
     "data": {
      "image/png": "[encoded data removed]",
      "text/plain": [
       "<Figure size 640x480 with 1 Axes>"
      ]
     },
     "metadata": {},
     "output_type": "display_data"
    }
   ],
   "source": [
    "sns.histplot(normalized_SA, bins=15)\n",
    "plt.xlabel('Fitness')\n",
    "plt.title('Normalized SA Score Distribution for Initial Population')\n",
    "plt.savefig('./results/figures/hist2.png')\n",
    "plt.show()"
   ]
  },
  {
   "cell_type": "code",
   "execution_count": 125,
   "id": "022eeacd-1e7e-44f1-852d-b0e6c87a5785",
   "metadata": {
    "tags": []
   },
   "outputs": [],
   "source": [
    "normalized_cycle = normalize_col(tab, 'cycle_scores')"
   ]
  },
  {
   "cell_type": "code",
   "execution_count": 136,
   "id": "d732de31-92a0-4459-9fcf-9bc128c56868",
   "metadata": {
    "tags": []
   },
   "outputs": [
    {
     "data": {
      "image/png": "[encoded data removed]",
      "text/plain": [
       "<Figure size 640x480 with 1 Axes>"
      ]
     },
     "metadata": {},
     "output_type": "display_data"
    }
   ],
   "source": [
    "sns.histplot(normalized_cycle, bins=25)\n",
    "plt.xlabel('Fitness')\n",
    "plt.title('Normalized Cycle Score Distribution for Initial Population')\n",
    "#plt.savefig('./results/figures/hist2.png')\n",
    "plt.show()"
   ]
  },
  {
   "cell_type": "code",
   "execution_count": 127,
   "id": "4358e567-bfba-4ddc-a4d4-2dcfaf3385a9",
   "metadata": {
    "tags": []
   },
   "outputs": [
    {
     "data": {
      "text/plain": [
       "-24"
      ]
     },
     "execution_count": 127,
     "metadata": {},
     "output_type": "execute_result"
    }
   ],
   "source": [
    "min(tab['cycle_scores'])"
   ]
  },
  {
   "cell_type": "code",
   "execution_count": 47,
   "id": "99de634f-4cad-4d0f-a41d-2e3c1923d879",
   "metadata": {
    "tags": []
   },
   "outputs": [
    {
     "data": {
      "text/html": [
       "<div>\n",
       "<style scoped>\n",
       "    .dataframe tbody tr th:only-of-type {\n",
       "        vertical-align: middle;\n",
       "    }\n",
       "\n",
       "    .dataframe tbody tr th {\n",
       "        vertical-align: top;\n",
       "    }\n",
       "\n",
       "    .dataframe thead th {\n",
       "        text-align: right;\n",
       "    }\n",
       "</style>\n",
       "<table border=\"1\" class=\"dataframe\">\n",
       "  <thead>\n",
       "    <tr style=\"text-align: right;\">\n",
       "      <th></th>\n",
       "      <th>fitness</th>\n",
       "    </tr>\n",
       "  </thead>\n",
       "  <tbody>\n",
       "    <tr>\n",
       "      <th>count</th>\n",
       "      <td>2.621650e+05</td>\n",
       "    </tr>\n",
       "    <tr>\n",
       "      <th>mean</th>\n",
       "      <td>7.036722e-16</td>\n",
       "    </tr>\n",
       "    <tr>\n",
       "      <th>std</th>\n",
       "      <td>2.037665e+00</td>\n",
       "    </tr>\n",
       "    <tr>\n",
       "      <th>min</th>\n",
       "      <td>-7.615286e+01</td>\n",
       "    </tr>\n",
       "    <tr>\n",
       "      <th>25%</th>\n",
       "      <td>-1.053419e+00</td>\n",
       "    </tr>\n",
       "    <tr>\n",
       "      <th>50%</th>\n",
       "      <td>4.079961e-01</td>\n",
       "    </tr>\n",
       "    <tr>\n",
       "      <th>75%</th>\n",
       "      <td>1.402782e+00</td>\n",
       "    </tr>\n",
       "    <tr>\n",
       "      <th>max</th>\n",
       "      <td>6.249698e+00</td>\n",
       "    </tr>\n",
       "  </tbody>\n",
       "</table>\n",
       "</div>"
      ],
      "text/plain": [
       "            fitness\n",
       "count  2.621650e+05\n",
       "mean   7.036722e-16\n",
       "std    2.037665e+00\n",
       "min   -7.615286e+01\n",
       "25%   -1.053419e+00\n",
       "50%    4.079961e-01\n",
       "75%    1.402782e+00\n",
       "max    6.249698e+00"
      ]
     },
     "execution_count": 47,
     "metadata": {},
     "output_type": "execute_result"
    }
   ],
   "source": [
    "pd.Series(tab['fitness']).describe().to_frame()"
   ]
  },
  {
   "cell_type": "code",
   "execution_count": 48,
   "id": "dbd5f9bc-98b5-42cc-a6ce-9548041dd2ae",
   "metadata": {
    "tags": []
   },
   "outputs": [
    {
     "data": {
      "text/html": [
       "<div>\n",
       "<style scoped>\n",
       "    .dataframe tbody tr th:only-of-type {\n",
       "        vertical-align: middle;\n",
       "    }\n",
       "\n",
       "    .dataframe tbody tr th {\n",
       "        vertical-align: top;\n",
       "    }\n",
       "\n",
       "    .dataframe thead th {\n",
       "        text-align: right;\n",
       "    }\n",
       "</style>\n",
       "<table border=\"1\" class=\"dataframe\">\n",
       "  <thead>\n",
       "    <tr style=\"text-align: right;\">\n",
       "      <th></th>\n",
       "      <th>smiles</th>\n",
       "      <th>parent1_id</th>\n",
       "      <th>reaction_id</th>\n",
       "      <th>zinc_id</th>\n",
       "      <th>source</th>\n",
       "      <th>generation</th>\n",
       "      <th>parent2_id</th>\n",
       "      <th>compound_id</th>\n",
       "      <th>fitness</th>\n",
       "    </tr>\n",
       "  </thead>\n",
       "  <tbody>\n",
       "    <tr>\n",
       "      <th>0</th>\n",
       "      <td>CCCC(C)(C)Oc1ccc(OC)c(S(=O)(=O)N[C@H](c2ccccc2...</td>\n",
       "      <td>4.0</td>\n",
       "      <td>19.0</td>\n",
       "      <td>ZINC000001648167</td>\n",
       "      <td>mutation</td>\n",
       "      <td>[1, 2]</td>\n",
       "      <td>NaN</td>\n",
       "      <td>50.0</td>\n",
       "      <td>1.607781</td>\n",
       "    </tr>\n",
       "    <tr>\n",
       "      <th>1</th>\n",
       "      <td>COC[C@@H](C)OC(=O)c1ccccc1-c1nc2ccc(OC)cc2cc1C...</td>\n",
       "      <td>36.0</td>\n",
       "      <td>89.0</td>\n",
       "      <td>ZINC001606798926</td>\n",
       "      <td>mutation</td>\n",
       "      <td>[1, 2, 3]</td>\n",
       "      <td>NaN</td>\n",
       "      <td>51.0</td>\n",
       "      <td>2.436105</td>\n",
       "    </tr>\n",
       "    <tr>\n",
       "      <th>2</th>\n",
       "      <td>COCc1cccc(N(C(=S)NC2=CCS(=O)(=O)C2)[C@@H](C)C(...</td>\n",
       "      <td>5.0</td>\n",
       "      <td>94.0</td>\n",
       "      <td>ZINC000002454917</td>\n",
       "      <td>mutation</td>\n",
       "      <td>[1]</td>\n",
       "      <td>NaN</td>\n",
       "      <td>52.0</td>\n",
       "      <td>-1.403251</td>\n",
       "    </tr>\n",
       "    <tr>\n",
       "      <th>3</th>\n",
       "      <td>Cc1ccc(C2OC2CC(=O)NCc2ccc(Cn3cncn3)cc2)cc1</td>\n",
       "      <td>46.0</td>\n",
       "      <td>3.0</td>\n",
       "      <td>NaN</td>\n",
       "      <td>mutation</td>\n",
       "      <td>[1]</td>\n",
       "      <td>NaN</td>\n",
       "      <td>53.0</td>\n",
       "      <td>-1.011008</td>\n",
       "    </tr>\n",
       "    <tr>\n",
       "      <th>4</th>\n",
       "      <td>[N-]=[N+]=Nc1cc(-c2cccc(C(=O)NC3CC3)c2)ccc1C=O</td>\n",
       "      <td>39.0</td>\n",
       "      <td>6.0</td>\n",
       "      <td>NaN</td>\n",
       "      <td>mutation</td>\n",
       "      <td>[1, 2]</td>\n",
       "      <td>NaN</td>\n",
       "      <td>54.0</td>\n",
       "      <td>1.049021</td>\n",
       "    </tr>\n",
       "  </tbody>\n",
       "</table>\n",
       "</div>"
      ],
      "text/plain": [
       "                                              smiles  parent1_id  reaction_id  \\\n",
       "0  CCCC(C)(C)Oc1ccc(OC)c(S(=O)(=O)N[C@H](c2ccccc2...         4.0         19.0   \n",
       "1  COC[C@@H](C)OC(=O)c1ccccc1-c1nc2ccc(OC)cc2cc1C...        36.0         89.0   \n",
       "2  COCc1cccc(N(C(=S)NC2=CCS(=O)(=O)C2)[C@@H](C)C(...         5.0         94.0   \n",
       "3         Cc1ccc(C2OC2CC(=O)NCc2ccc(Cn3cncn3)cc2)cc1        46.0          3.0   \n",
       "4     [N-]=[N+]=Nc1cc(-c2cccc(C(=O)NC3CC3)c2)ccc1C=O        39.0          6.0   \n",
       "\n",
       "            zinc_id    source generation  parent2_id  compound_id   fitness  \n",
       "0  ZINC000001648167  mutation     [1, 2]         NaN         50.0  1.607781  \n",
       "1  ZINC001606798926  mutation  [1, 2, 3]         NaN         51.0  2.436105  \n",
       "2  ZINC000002454917  mutation        [1]         NaN         52.0 -1.403251  \n",
       "3               NaN  mutation        [1]         NaN         53.0 -1.011008  \n",
       "4               NaN  mutation     [1, 2]         NaN         54.0  1.049021  "
      ]
     },
     "execution_count": 48,
     "metadata": {},
     "output_type": "execute_result"
    }
   ],
   "source": [
    "fp = 'FNLGMD/examples/autogrow_data2.csv'\n",
    "auto_tab = pd.read_csv(fp)\n",
    "auto_tab.head()"
   ]
  },
  {
   "cell_type": "code",
   "execution_count": 98,
   "id": "73531208-73bd-4bcb-9975-24d2c1f3b994",
   "metadata": {
    "tags": []
   },
   "outputs": [
    {
     "name": "stderr",
     "output_type": "stream",
     "text": [
      "[13:52:27] Can't kekulize mol.  Unkekulized atoms: 4 5 6 7 15\n"
     ]
    }
   ],
   "source": [
    "l1, s1, c1, t1 = [], [], [], []\n",
    "for i in range(len(auto_tab)):\n",
    "    try:\n",
    "        a1, a2, a3, a4 = score(auto_tab.iloc[i+1].to_frame().T)\n",
    "        l1.append(a1)\n",
    "        s1.append(a2)\n",
    "        c1.append(a3)\n",
    "        t1.append(a4)\n",
    "        \n",
    "    except:\n",
    "        l1.append([np.NaN])\n",
    "        s1.append([np.NaN])\n",
    "        c1.append([np.NaN])\n",
    "        t1.append([np.NaN])\n",
    "        \n",
    "        continue"
   ]
  },
  {
   "cell_type": "code",
   "execution_count": 50,
   "id": "93ec5e2d-6593-4669-8330-8fda73d1e6e3",
   "metadata": {
    "tags": []
   },
   "outputs": [],
   "source": [
    "log_ser = pd.Series(sum(l1, []))"
   ]
  },
  {
   "cell_type": "markdown",
   "id": "a6acd58d-bd1d-40ba-9eea-9d5e460f17d4",
   "metadata": {},
   "source": [
    "### Analyzing Results from Generated Populations"
   ]
  },
  {
   "cell_type": "markdown",
   "id": "c570046d-41df-498c-94a1-c96dc40df7c0",
   "metadata": {},
   "source": [
    "#### Reading in the data\n",
    "All csvs are labeled based on the parameters of mate and mutate probability used to generate the population"
   ]
  },
  {
   "cell_type": "code",
   "execution_count": 52,
   "id": "3a2b522e-0ed1-4481-a2e3-3a1fdf5321e0",
   "metadata": {
    "tags": []
   },
   "outputs": [],
   "source": [
    "res_fp = './results'\n",
    "gen_files = [f for f in os.listdir(res_fp) if f.startswith('mate_07')]\n",
    "dats = [pd.read_csv(os.path.join(res_fp, f)) for f in gen_files]\n",
    "#fits = [(d['fitness'] - d['fitness'].mean())/d['fitness'].std(ddof=1) for d in dats]\n",
    "fits = [d['fitness'] for d in dats]"
   ]
  },
  {
   "cell_type": "code",
   "execution_count": 53,
   "id": "a6cdec92-4d3c-4236-b5d3-10acf9efce7a",
   "metadata": {
    "tags": []
   },
   "outputs": [
    {
     "data": {
      "image/png": "[encoded data removed]",
      "text/plain": [
       "<Figure size 600x400 with 1 Axes>"
      ]
     },
     "metadata": {},
     "output_type": "display_data"
    }
   ],
   "source": [
    "import matplotlib.pyplot as plt\n",
    "import numpy as np\n",
    "\n",
    "data_to_plot = fits\n",
    "\n",
    "# Creating box plots\n",
    "plt.figure(figsize=(6, 4))\n",
    "plt.boxplot(data_to_plot)\n",
    "\n",
    "# Setting the labels and title, if necessary\n",
    "plt.title('Box Plots of Fitness Score for Fixed Mate Probability')\n",
    "plt.xlabel('Mutate Probability')\n",
    "plt.xticks(ticks = [1, 2, 3, 4, 5], labels=[0.1, 0.15, 0.2, 0.25, 0.3])\n",
    "plt.ylabel('Fitness Score')\n",
    "plt.savefig('./results/figures/box1.png')\n",
    "\n",
    "# Showing the plot\n",
    "plt.show()"
   ]
  },
  {
   "cell_type": "code",
   "execution_count": 54,
   "id": "76fe4618-3768-4fcf-85c4-6f9921024658",
   "metadata": {
    "tags": []
   },
   "outputs": [],
   "source": [
    "gen_files = [f for f in os.listdir(res_fp) if 'mutate_01_' in f]\n",
    "dats = [pd.read_csv(os.path.join(res_fp, f)) for f in gen_files]\n",
    "fits = [d['fitness'] for d in dats]"
   ]
  },
  {
   "cell_type": "code",
   "execution_count": 55,
   "id": "c37cae75-4816-48c9-8414-a433038b2b0f",
   "metadata": {
    "tags": []
   },
   "outputs": [
    {
     "data": {
      "image/png": "[encoded data removed]",
      "text/plain": [
       "<Figure size 600x400 with 1 Axes>"
      ]
     },
     "metadata": {},
     "output_type": "display_data"
    }
   ],
   "source": [
    "data_to_plot = fits\n",
    "\n",
    "# Creating box plots\n",
    "plt.figure(figsize=(6, 4))\n",
    "plt.boxplot(data_to_plot)\n",
    "\n",
    "# Setting the labels and title, if necessary\n",
    "plt.title('Box Plots of Fitness Score for Constant Mutate Probability')\n",
    "plt.xlabel('Mate Probability')\n",
    "plt.xticks(ticks = [1, 2, 3, 4, 5], labels=[0.5, 0.6, 0.7, 0.8, 0.9])\n",
    "plt.ylabel('Fitness Score')\n",
    "plt.savefig('./results/figures/hist2.png')\n",
    "\n",
    "# Showing the plot\n",
    "plt.show()"
   ]
  },
  {
   "cell_type": "code",
   "execution_count": 57,
   "id": "4d63d419-30a0-4baf-a34a-188e04812bdd",
   "metadata": {
    "tags": []
   },
   "outputs": [],
   "source": [
    "# Writing the different taxonomies (ahahahaha see what i did there) to a txt file\n",
    "# tab['logP'] = logP_values\n",
    "# tab['SA'] = SA_scores\n",
    "# tab['cycle'] = cycle_scores\n",
    "# tab.head()"
   ]
  },
  {
   "cell_type": "code",
   "execution_count": 58,
   "id": "9484d9b3-0baa-4fce-bc09-03056b53fca7",
   "metadata": {
    "tags": []
   },
   "outputs": [],
   "source": [
    "lipo  = tab.loc[tab['logP'] >= 3, ]\n",
    "hydro = tab.loc[tab['logP'] <= 0, ]\n",
    "bal   = tab.loc[(tab['logP'] > 0) & (tab['logP'] < 3), ]"
   ]
  },
  {
   "cell_type": "code",
   "execution_count": 142,
   "id": "da782cf4-a8c9-4fc0-a422-e1696dd458de",
   "metadata": {
    "tags": []
   },
   "outputs": [],
   "source": [
    "# with open(os.path.join(base_fp, 'lipo.txt'), 'w') as file:\n",
    "#     for entry in lipo['smiles']:\n",
    "#         file.write(str(entry) + '\\n')\n",
    "        \n",
    "# with open(os.path.join(base_fp, 'hydro.txt'), 'w') as file:\n",
    "#     for entry in hydro['smiles']:\n",
    "#         file.write(str(entry) + '\\n')\n",
    "        \n",
    "# with open(os.path.join(base_fp, 'bal.txt'), 'w') as file:\n",
    "#     for entry in bal['smiles']:\n",
    "#         file.write(str(entry) + '\\n')"
   ]
  },
  {
   "cell_type": "code",
   "execution_count": 59,
   "id": "1062552d-139c-4989-a3e2-7707448da110",
   "metadata": {
    "tags": []
   },
   "outputs": [],
   "source": [
    "gen_files = ['mate_07_mutate_01_mutatestd_1.csv', 'balanced_results.csv', \n",
    "             'lipo_results.csv', 'hydro_results.csv']\n",
    "dats = [pd.read_csv(os.path.join(res_fp, f)) for f in gen_files]\n",
    "fits = [d['fitness'] for d in dats]"
   ]
  },
  {
   "cell_type": "code",
   "execution_count": 60,
   "id": "6c11d415-89ed-4197-b91a-b5ee33d33c95",
   "metadata": {
    "tags": []
   },
   "outputs": [
    {
     "data": {
      "image/png": "[encoded data removed]",
      "text/plain": [
       "<Figure size 600x400 with 1 Axes>"
      ]
     },
     "metadata": {},
     "output_type": "display_data"
    }
   ],
   "source": [
    "data_to_plot = fits\n",
    "\n",
    "# Creating box plots\n",
    "plt.figure(figsize=(6, 4))\n",
    "plt.boxplot(data_to_plot)\n",
    "\n",
    "# Setting the labels and title, if necessary\n",
    "plt.title('Box Plots of Fitness Score for Fine-Tuned Initial Populations')\n",
    "plt.xlabel('Initial Population Type')\n",
    "plt.xticks(ticks = [1, 2, 3, 4], labels=['All molecules', 'Balanced', 'Lipophilic', 'Hydrophilic'])\n",
    "plt.ylabel('Fitness Score')\n",
    "plt.savefig('./results/figures/box3.png')\n",
    "\n",
    "# Showing the plot\n",
    "plt.show()"
   ]
  },
  {
   "cell_type": "markdown",
   "id": "aff633f8-e6ce-4566-b612-165f324a1792",
   "metadata": {},
   "source": [
    "#### For the heatmap"
   ]
  },
  {
   "cell_type": "code",
   "execution_count": 61,
   "id": "d34941b1-22c5-4766-8dd8-64fe6f69f431",
   "metadata": {
    "tags": []
   },
   "outputs": [],
   "source": [
    "res_fp = './results'\n",
    "gen_files = [f for f in os.listdir(res_fp) if f.startswith('mate')]"
   ]
  },
  {
   "cell_type": "code",
   "execution_count": 62,
   "id": "a97acc0b-6ebd-4870-9d8c-7eda71cad6d5",
   "metadata": {
    "tags": []
   },
   "outputs": [],
   "source": [
    "arr = np.array([])\n",
    "for f in sorted(gen_files):\n",
    "    dat = pd.read_csv(os.path.join(res_fp, f))\n",
    "    mean = np.mean(dat['fitness'])\n",
    "    arr = np.append(arr, mean)"
   ]
  },
  {
   "cell_type": "code",
   "execution_count": 63,
   "id": "3bd8d2da-f624-43f8-a88f-c7bef9864d30",
   "metadata": {
    "tags": []
   },
   "outputs": [],
   "source": [
    "heat = arr.reshape(5, 5)"
   ]
  },
  {
   "cell_type": "code",
   "execution_count": 64,
   "id": "74ea291e-71d5-46e0-9046-ccd8299a3ed9",
   "metadata": {
    "tags": []
   },
   "outputs": [
    {
     "data": {
      "image/png": "[encoded data removed]",
      "text/plain": [
       "<Figure size 800x600 with 2 Axes>"
      ]
     },
     "metadata": {},
     "output_type": "display_data"
    }
   ],
   "source": [
    "data = np.random.rand(10, 10)  # An example 10x10 array\n",
    "\n",
    "# Create the heatmap\n",
    "plt.figure(figsize=(8, 6))\n",
    "sns.heatmap(heat, cmap=\"coolwarm\", annot=True)\n",
    "plt.title('Heatmap of Fitness Scores')\n",
    "plt.xlabel('Mate Probability')\n",
    "plt.ylabel('Mutate Probability')\n",
    "plt.xticks(ticks=[0.5, 1.5, 2.5, 3.5, 4.5], labels=[0.5, 0.6, 0.7, 0.8, 0.9])\n",
    "plt.yticks(ticks=[0.5, 1.5, 2.5, 3.5, 4.5], labels=[0.1, 0.15, 0.2, 0.25, 0.3])\n",
    "plt.savefig('./results/figures/heat1.png')\n",
    "plt.show()"
   ]
  },
  {
   "cell_type": "code",
   "execution_count": 75,
   "id": "4f967c09-dfaf-430f-b062-815541267c34",
   "metadata": {
    "tags": []
   },
   "outputs": [],
   "source": [
    "res_fp = './results'\n",
    "\n",
    "gen_files = ['mate_07_mutate_01_mutatestd_1.csv', 'balanced_results.csv', \n",
    "             'lipo_results.csv', 'hydro_results.csv']\n",
    "dats = [pd.read_csv(os.path.join(res_fp, f)) for f in gen_files]\n",
    "\n",
    "for d in dats:\n",
    "    d['logP'], d['SA'], d['cycle'], d['fitnes'] = score(d)"
   ]
  },
  {
   "cell_type": "code",
   "execution_count": 76,
   "id": "67865078-e131-42c0-9163-29aa7c474010",
   "metadata": {
    "tags": []
   },
   "outputs": [],
   "source": [
    "def filter_fitness(x):\n",
    "    if x >= 0 and x <= 3:\n",
    "        return 'balanced'\n",
    "    if x < 0:\n",
    "        return 'lipophilic'\n",
    "    if x > 3:\n",
    "        return 'hydrophilic'"
   ]
  },
  {
   "cell_type": "code",
   "execution_count": 77,
   "id": "793e0df7-80e7-43b0-bac7-aa8ed7691c19",
   "metadata": {
    "tags": []
   },
   "outputs": [],
   "source": [
    "for d in dats:\n",
    "    d['source'] = d['logP'].apply(filter_fitness)"
   ]
  },
  {
   "cell_type": "code",
   "execution_count": 78,
   "id": "40170089-c1b5-4eaf-954b-08b1637b49a2",
   "metadata": {
    "tags": []
   },
   "outputs": [
    {
     "data": {
      "text/html": [
       "<div>\n",
       "<style scoped>\n",
       "    .dataframe tbody tr th:only-of-type {\n",
       "        vertical-align: middle;\n",
       "    }\n",
       "\n",
       "    .dataframe tbody tr th {\n",
       "        vertical-align: top;\n",
       "    }\n",
       "\n",
       "    .dataframe thead th {\n",
       "        text-align: right;\n",
       "    }\n",
       "</style>\n",
       "<table border=\"1\" class=\"dataframe\">\n",
       "  <thead>\n",
       "    <tr style=\"text-align: right;\">\n",
       "      <th></th>\n",
       "      <th>logP</th>\n",
       "    </tr>\n",
       "    <tr>\n",
       "      <th>source</th>\n",
       "      <th></th>\n",
       "    </tr>\n",
       "  </thead>\n",
       "  <tbody>\n",
       "    <tr>\n",
       "      <th>balanced</th>\n",
       "      <td>0.451327</td>\n",
       "    </tr>\n",
       "    <tr>\n",
       "      <th>hydrophilic</th>\n",
       "      <td>0.539823</td>\n",
       "    </tr>\n",
       "    <tr>\n",
       "      <th>lipophilic</th>\n",
       "      <td>0.008850</td>\n",
       "    </tr>\n",
       "  </tbody>\n",
       "</table>\n",
       "</div>"
      ],
      "text/plain": [
       "                 logP\n",
       "source               \n",
       "balanced     0.451327\n",
       "hydrophilic  0.539823\n",
       "lipophilic   0.008850"
      ]
     },
     "execution_count": 78,
     "metadata": {},
     "output_type": "execute_result"
    }
   ],
   "source": [
    "counts = dats[0].groupby('source').count()['logP'] \n",
    "counts = (counts/counts.sum()).to_frame()\n",
    "counts"
   ]
  },
  {
   "cell_type": "code",
   "execution_count": 79,
   "id": "59dad7c5-dd9b-47df-9ba7-419310db67ac",
   "metadata": {
    "tags": []
   },
   "outputs": [
    {
     "data": {
      "text/html": [
       "<div>\n",
       "<style scoped>\n",
       "    .dataframe tbody tr th:only-of-type {\n",
       "        vertical-align: middle;\n",
       "    }\n",
       "\n",
       "    .dataframe tbody tr th {\n",
       "        vertical-align: top;\n",
       "    }\n",
       "\n",
       "    .dataframe thead th {\n",
       "        text-align: right;\n",
       "    }\n",
       "</style>\n",
       "<table border=\"1\" class=\"dataframe\">\n",
       "  <thead>\n",
       "    <tr style=\"text-align: right;\">\n",
       "      <th></th>\n",
       "      <th>logP</th>\n",
       "    </tr>\n",
       "    <tr>\n",
       "      <th>source</th>\n",
       "      <th></th>\n",
       "    </tr>\n",
       "  </thead>\n",
       "  <tbody>\n",
       "    <tr>\n",
       "      <th>balanced</th>\n",
       "      <td>0.672566</td>\n",
       "    </tr>\n",
       "    <tr>\n",
       "      <th>hydrophilic</th>\n",
       "      <td>0.305310</td>\n",
       "    </tr>\n",
       "    <tr>\n",
       "      <th>lipophilic</th>\n",
       "      <td>0.022124</td>\n",
       "    </tr>\n",
       "  </tbody>\n",
       "</table>\n",
       "</div>"
      ],
      "text/plain": [
       "                 logP\n",
       "source               \n",
       "balanced     0.672566\n",
       "hydrophilic  0.305310\n",
       "lipophilic   0.022124"
      ]
     },
     "execution_count": 79,
     "metadata": {},
     "output_type": "execute_result"
    }
   ],
   "source": [
    "counts2 = dats[1].groupby('source').count()['logP'] \n",
    "counts2 = (counts2/counts2.sum()).to_frame()\n",
    "counts2"
   ]
  },
  {
   "cell_type": "code",
   "execution_count": 80,
   "id": "d1d4c943-8590-4a5a-900c-f1513c43e4c3",
   "metadata": {
    "tags": []
   },
   "outputs": [
    {
     "data": {
      "text/html": [
       "<div>\n",
       "<style scoped>\n",
       "    .dataframe tbody tr th:only-of-type {\n",
       "        vertical-align: middle;\n",
       "    }\n",
       "\n",
       "    .dataframe tbody tr th {\n",
       "        vertical-align: top;\n",
       "    }\n",
       "\n",
       "    .dataframe thead th {\n",
       "        text-align: right;\n",
       "    }\n",
       "</style>\n",
       "<table border=\"1\" class=\"dataframe\">\n",
       "  <thead>\n",
       "    <tr style=\"text-align: right;\">\n",
       "      <th></th>\n",
       "      <th>logP</th>\n",
       "    </tr>\n",
       "    <tr>\n",
       "      <th>source</th>\n",
       "      <th></th>\n",
       "    </tr>\n",
       "  </thead>\n",
       "  <tbody>\n",
       "    <tr>\n",
       "      <th>balanced</th>\n",
       "      <td>0.533186</td>\n",
       "    </tr>\n",
       "    <tr>\n",
       "      <th>hydrophilic</th>\n",
       "      <td>0.132743</td>\n",
       "    </tr>\n",
       "    <tr>\n",
       "      <th>lipophilic</th>\n",
       "      <td>0.334071</td>\n",
       "    </tr>\n",
       "  </tbody>\n",
       "</table>\n",
       "</div>"
      ],
      "text/plain": [
       "                 logP\n",
       "source               \n",
       "balanced     0.533186\n",
       "hydrophilic  0.132743\n",
       "lipophilic   0.334071"
      ]
     },
     "execution_count": 80,
     "metadata": {},
     "output_type": "execute_result"
    }
   ],
   "source": [
    "counts3 = dats[2].groupby('source').count()['logP'] \n",
    "counts3 = (counts3/counts3.sum()).to_frame()\n",
    "counts3"
   ]
  },
  {
   "cell_type": "code",
   "execution_count": 81,
   "id": "d985c62c-61cb-4f27-8e35-7f6e0deb6c14",
   "metadata": {
    "tags": []
   },
   "outputs": [
    {
     "data": {
      "text/html": [
       "<div>\n",
       "<style scoped>\n",
       "    .dataframe tbody tr th:only-of-type {\n",
       "        vertical-align: middle;\n",
       "    }\n",
       "\n",
       "    .dataframe tbody tr th {\n",
       "        vertical-align: top;\n",
       "    }\n",
       "\n",
       "    .dataframe thead th {\n",
       "        text-align: right;\n",
       "    }\n",
       "</style>\n",
       "<table border=\"1\" class=\"dataframe\">\n",
       "  <thead>\n",
       "    <tr style=\"text-align: right;\">\n",
       "      <th></th>\n",
       "      <th>logP</th>\n",
       "    </tr>\n",
       "    <tr>\n",
       "      <th>source</th>\n",
       "      <th></th>\n",
       "    </tr>\n",
       "  </thead>\n",
       "  <tbody>\n",
       "    <tr>\n",
       "      <th>balanced</th>\n",
       "      <td>0.190265</td>\n",
       "    </tr>\n",
       "    <tr>\n",
       "      <th>hydrophilic</th>\n",
       "      <td>0.798673</td>\n",
       "    </tr>\n",
       "    <tr>\n",
       "      <th>lipophilic</th>\n",
       "      <td>0.011062</td>\n",
       "    </tr>\n",
       "  </tbody>\n",
       "</table>\n",
       "</div>"
      ],
      "text/plain": [
       "                 logP\n",
       "source               \n",
       "balanced     0.190265\n",
       "hydrophilic  0.798673\n",
       "lipophilic   0.011062"
      ]
     },
     "execution_count": 81,
     "metadata": {},
     "output_type": "execute_result"
    }
   ],
   "source": [
    "counts4 = dats[3].groupby('source').count()['logP'] \n",
    "counts4 = (counts4/counts4.sum()).to_frame()\n",
    "counts4"
   ]
  },
  {
   "cell_type": "code",
   "execution_count": 82,
   "id": "baead4ac-e44b-495f-a3e6-f54d11cad290",
   "metadata": {
    "tags": []
   },
   "outputs": [
    {
     "data": {
      "text/html": [
       "<div>\n",
       "<style scoped>\n",
       "    .dataframe tbody tr th:only-of-type {\n",
       "        vertical-align: middle;\n",
       "    }\n",
       "\n",
       "    .dataframe tbody tr th {\n",
       "        vertical-align: top;\n",
       "    }\n",
       "\n",
       "    .dataframe thead th {\n",
       "        text-align: right;\n",
       "    }\n",
       "</style>\n",
       "<table border=\"1\" class=\"dataframe\">\n",
       "  <thead>\n",
       "    <tr style=\"text-align: right;\">\n",
       "      <th></th>\n",
       "      <th>logP</th>\n",
       "      <th>logP</th>\n",
       "      <th>logP</th>\n",
       "      <th>logP</th>\n",
       "    </tr>\n",
       "    <tr>\n",
       "      <th>source</th>\n",
       "      <th></th>\n",
       "      <th></th>\n",
       "      <th></th>\n",
       "      <th></th>\n",
       "    </tr>\n",
       "  </thead>\n",
       "  <tbody>\n",
       "    <tr>\n",
       "      <th>balanced</th>\n",
       "      <td>0.451327</td>\n",
       "      <td>0.672566</td>\n",
       "      <td>0.533186</td>\n",
       "      <td>0.190265</td>\n",
       "    </tr>\n",
       "    <tr>\n",
       "      <th>hydrophilic</th>\n",
       "      <td>0.539823</td>\n",
       "      <td>0.305310</td>\n",
       "      <td>0.132743</td>\n",
       "      <td>0.798673</td>\n",
       "    </tr>\n",
       "    <tr>\n",
       "      <th>lipophilic</th>\n",
       "      <td>0.008850</td>\n",
       "      <td>0.022124</td>\n",
       "      <td>0.334071</td>\n",
       "      <td>0.011062</td>\n",
       "    </tr>\n",
       "  </tbody>\n",
       "</table>\n",
       "</div>"
      ],
      "text/plain": [
       "                 logP      logP      logP      logP\n",
       "source                                             \n",
       "balanced     0.451327  0.672566  0.533186  0.190265\n",
       "hydrophilic  0.539823  0.305310  0.132743  0.798673\n",
       "lipophilic   0.008850  0.022124  0.334071  0.011062"
      ]
     },
     "execution_count": 82,
     "metadata": {},
     "output_type": "execute_result"
    }
   ],
   "source": [
    "stacked = pd.concat([counts, counts2, counts3, counts4], axis=1)\n",
    "stacked"
   ]
  },
  {
   "cell_type": "code",
   "execution_count": 83,
   "id": "72ed82d7-33e7-4586-a145-639b5f6c4108",
   "metadata": {
    "tags": []
   },
   "outputs": [
    {
     "data": {
      "text/plain": [
       "logP    0.451327\n",
       "logP    0.672566\n",
       "logP    0.533186\n",
       "logP    0.190265\n",
       "Name: balanced, dtype: float64"
      ]
     },
     "execution_count": 83,
     "metadata": {},
     "output_type": "execute_result"
    }
   ],
   "source": [
    "stacked.iloc[0]"
   ]
  },
  {
   "cell_type": "code",
   "execution_count": 85,
   "id": "78711760-bae0-4837-a07f-facdbaa83e51",
   "metadata": {
    "tags": []
   },
   "outputs": [
    {
     "data": {
      "image/png": "[encoded data removed]",
      "text/plain": [
       "<Figure size 640x480 with 1 Axes>"
      ]
     },
     "metadata": {},
     "output_type": "display_data"
    }
   ],
   "source": [
    "\n",
    "categories = ['All molecules', 'Balanced', 'Lipophilic', 'Hydrophilic']\n",
    "values1 = stacked.iloc[0].values\n",
    "values2 = stacked.iloc[1].values\n",
    "values3 = stacked.iloc[2].values\n",
    "# categories = ['A', 'B', 'C', 'D', 'E']\n",
    "# values1 = [5, 8, 6, 4, 7]\n",
    "# values2 = [3, 6, 2, 6, 4]\n",
    "# values3 = [4, 7, 5, 7, 8]\n",
    "\n",
    "x = np.arange(len(categories))\n",
    "\n",
    "# Plotting stacked bar chart\n",
    "plt.bar(x, values1, label='Balanced')\n",
    "plt.bar(x, values2, bottom=values1, label='Hydrophilic')\n",
    "# To stack values3, we need to add both values1 and values2\n",
    "values1_plus_values2 = np.add(values1, values2).tolist()\n",
    "plt.bar(x, values3, bottom=values1_plus_values2, label='Lipophilic')\n",
    "\n",
    "plt.xlabel('Initial Population')\n",
    "plt.ylabel('Proportion')\n",
    "plt.title('Stacked Bar Chart of Population Composition')\n",
    "plt.xticks(x, categories)\n",
    "plt.legend()\n",
    "\n",
    "plt.show()"
   ]
  },
  {
   "cell_type": "code",
   "execution_count": 115,
   "id": "d6c17f7b-8396-47bb-b63c-e96eee83c324",
   "metadata": {
    "tags": []
   },
   "outputs": [
    {
     "name": "stderr",
     "output_type": "stream",
     "text": [
      "[14:19:45] Can't kekulize mol.  Unkekulized atoms: 16 17 18 19 20\n"
     ]
    }
   ],
   "source": [
    "res_fp = './results'\n",
    "\n",
    "gen_files = ['autogrow_all_test.csv', 'results_autobal.csv', \n",
    "             'results_autolipo.csv', 'results_autohydro.csv']\n",
    "dats = [pd.read_csv(os.path.join(res_fp, f)) for f in gen_files]\n",
    "\n",
    "for d in dats:\n",
    "    l1, s1, c1, t1 = [], [], [], []\n",
    "    for i in range(len(d)):\n",
    "        try:\n",
    "            a1, a2, a3, a4 = score(d.iloc[i+1].to_frame().T)\n",
    "            l1.append(a1)\n",
    "            s1.append(a2)\n",
    "            c1.append(a3)\n",
    "            t1.append(a4)\n",
    "\n",
    "        except:\n",
    "            l1.append([np.NaN])\n",
    "            s1.append([np.NaN])\n",
    "            c1.append([np.NaN])\n",
    "            t1.append([np.NaN])\n",
    "\n",
    "            continue\n",
    "            \n",
    "    d['logP'], d['SA'], d['cycle']= sum(l1, []), sum(s1, []), sum(c1, [])"
   ]
  },
  {
   "cell_type": "code",
   "execution_count": 116,
   "id": "30f6d01d-65ab-4c8a-afc6-838b0422e2a2",
   "metadata": {
    "tags": []
   },
   "outputs": [],
   "source": [
    "for d in dats:\n",
    "    d['source'] = d['logP'].apply(filter_fitness)"
   ]
  },
  {
   "cell_type": "code",
   "execution_count": 117,
   "id": "f4698e35-a29e-4cbb-8d28-966f499c4bb0",
   "metadata": {
    "tags": []
   },
   "outputs": [
    {
     "data": {
      "text/html": [
       "<div>\n",
       "<style scoped>\n",
       "    .dataframe tbody tr th:only-of-type {\n",
       "        vertical-align: middle;\n",
       "    }\n",
       "\n",
       "    .dataframe tbody tr th {\n",
       "        vertical-align: top;\n",
       "    }\n",
       "\n",
       "    .dataframe thead th {\n",
       "        text-align: right;\n",
       "    }\n",
       "</style>\n",
       "<table border=\"1\" class=\"dataframe\">\n",
       "  <thead>\n",
       "    <tr style=\"text-align: right;\">\n",
       "      <th></th>\n",
       "      <th>logP</th>\n",
       "    </tr>\n",
       "    <tr>\n",
       "      <th>source</th>\n",
       "      <th></th>\n",
       "    </tr>\n",
       "  </thead>\n",
       "  <tbody>\n",
       "    <tr>\n",
       "      <th>balanced</th>\n",
       "      <td>0.048193</td>\n",
       "    </tr>\n",
       "    <tr>\n",
       "      <th>hydrophilic</th>\n",
       "      <td>0.951807</td>\n",
       "    </tr>\n",
       "  </tbody>\n",
       "</table>\n",
       "</div>"
      ],
      "text/plain": [
       "                 logP\n",
       "source               \n",
       "balanced     0.048193\n",
       "hydrophilic  0.951807"
      ]
     },
     "execution_count": 117,
     "metadata": {},
     "output_type": "execute_result"
    }
   ],
   "source": [
    "counts = dats[0].groupby('source').count()['logP'] \n",
    "counts = (counts/counts.sum()).to_frame()\n",
    "counts"
   ]
  },
  {
   "cell_type": "code",
   "execution_count": 118,
   "id": "4723f9ce-bf55-4e8c-a497-f189ff1cd204",
   "metadata": {
    "tags": []
   },
   "outputs": [
    {
     "data": {
      "text/html": [
       "<div>\n",
       "<style scoped>\n",
       "    .dataframe tbody tr th:only-of-type {\n",
       "        vertical-align: middle;\n",
       "    }\n",
       "\n",
       "    .dataframe tbody tr th {\n",
       "        vertical-align: top;\n",
       "    }\n",
       "\n",
       "    .dataframe thead th {\n",
       "        text-align: right;\n",
       "    }\n",
       "</style>\n",
       "<table border=\"1\" class=\"dataframe\">\n",
       "  <thead>\n",
       "    <tr style=\"text-align: right;\">\n",
       "      <th></th>\n",
       "      <th>logP</th>\n",
       "    </tr>\n",
       "    <tr>\n",
       "      <th>source</th>\n",
       "      <th></th>\n",
       "    </tr>\n",
       "  </thead>\n",
       "  <tbody>\n",
       "    <tr>\n",
       "      <th>balanced</th>\n",
       "      <td>0.138554</td>\n",
       "    </tr>\n",
       "    <tr>\n",
       "      <th>hydrophilic</th>\n",
       "      <td>0.861446</td>\n",
       "    </tr>\n",
       "  </tbody>\n",
       "</table>\n",
       "</div>"
      ],
      "text/plain": [
       "                 logP\n",
       "source               \n",
       "balanced     0.138554\n",
       "hydrophilic  0.861446"
      ]
     },
     "execution_count": 118,
     "metadata": {},
     "output_type": "execute_result"
    }
   ],
   "source": [
    "counts2 = dats[1].groupby('source').count()['logP'] \n",
    "counts2 = (counts2/counts2.sum()).to_frame()\n",
    "counts2"
   ]
  },
  {
   "cell_type": "code",
   "execution_count": 119,
   "id": "4c364a16-f454-45cb-9455-360cbefe5b2b",
   "metadata": {
    "tags": []
   },
   "outputs": [
    {
     "data": {
      "text/html": [
       "<div>\n",
       "<style scoped>\n",
       "    .dataframe tbody tr th:only-of-type {\n",
       "        vertical-align: middle;\n",
       "    }\n",
       "\n",
       "    .dataframe tbody tr th {\n",
       "        vertical-align: top;\n",
       "    }\n",
       "\n",
       "    .dataframe thead th {\n",
       "        text-align: right;\n",
       "    }\n",
       "</style>\n",
       "<table border=\"1\" class=\"dataframe\">\n",
       "  <thead>\n",
       "    <tr style=\"text-align: right;\">\n",
       "      <th></th>\n",
       "      <th>logP</th>\n",
       "    </tr>\n",
       "    <tr>\n",
       "      <th>source</th>\n",
       "      <th></th>\n",
       "    </tr>\n",
       "  </thead>\n",
       "  <tbody>\n",
       "    <tr>\n",
       "      <th>balanced</th>\n",
       "      <td>0.016064</td>\n",
       "    </tr>\n",
       "    <tr>\n",
       "      <th>hydrophilic</th>\n",
       "      <td>0.983936</td>\n",
       "    </tr>\n",
       "  </tbody>\n",
       "</table>\n",
       "</div>"
      ],
      "text/plain": [
       "                 logP\n",
       "source               \n",
       "balanced     0.016064\n",
       "hydrophilic  0.983936"
      ]
     },
     "execution_count": 119,
     "metadata": {},
     "output_type": "execute_result"
    }
   ],
   "source": [
    "counts3 = dats[2].groupby('source').count()['logP'] \n",
    "counts3 = (counts3/counts3.sum()).to_frame()\n",
    "counts3"
   ]
  },
  {
   "cell_type": "code",
   "execution_count": 120,
   "id": "6ee3c316-00f6-408c-b238-2d7a03b1e968",
   "metadata": {
    "tags": []
   },
   "outputs": [
    {
     "data": {
      "text/html": [
       "<div>\n",
       "<style scoped>\n",
       "    .dataframe tbody tr th:only-of-type {\n",
       "        vertical-align: middle;\n",
       "    }\n",
       "\n",
       "    .dataframe tbody tr th {\n",
       "        vertical-align: top;\n",
       "    }\n",
       "\n",
       "    .dataframe thead th {\n",
       "        text-align: right;\n",
       "    }\n",
       "</style>\n",
       "<table border=\"1\" class=\"dataframe\">\n",
       "  <thead>\n",
       "    <tr style=\"text-align: right;\">\n",
       "      <th></th>\n",
       "      <th>logP</th>\n",
       "    </tr>\n",
       "    <tr>\n",
       "      <th>source</th>\n",
       "      <th></th>\n",
       "    </tr>\n",
       "  </thead>\n",
       "  <tbody>\n",
       "    <tr>\n",
       "      <th>balanced</th>\n",
       "      <td>0.457831</td>\n",
       "    </tr>\n",
       "    <tr>\n",
       "      <th>hydrophilic</th>\n",
       "      <td>0.341365</td>\n",
       "    </tr>\n",
       "    <tr>\n",
       "      <th>lipophilic</th>\n",
       "      <td>0.200803</td>\n",
       "    </tr>\n",
       "  </tbody>\n",
       "</table>\n",
       "</div>"
      ],
      "text/plain": [
       "                 logP\n",
       "source               \n",
       "balanced     0.457831\n",
       "hydrophilic  0.341365\n",
       "lipophilic   0.200803"
      ]
     },
     "execution_count": 120,
     "metadata": {},
     "output_type": "execute_result"
    }
   ],
   "source": [
    "counts4 = dats[3].groupby('source').count()['logP'] \n",
    "counts4 = (counts4/counts4.sum()).to_frame()\n",
    "counts4"
   ]
  },
  {
   "cell_type": "code",
   "execution_count": 123,
   "id": "99702314-193c-43cc-b33d-9cc120391e5a",
   "metadata": {
    "tags": []
   },
   "outputs": [
    {
     "data": {
      "text/html": [
       "<div>\n",
       "<style scoped>\n",
       "    .dataframe tbody tr th:only-of-type {\n",
       "        vertical-align: middle;\n",
       "    }\n",
       "\n",
       "    .dataframe tbody tr th {\n",
       "        vertical-align: top;\n",
       "    }\n",
       "\n",
       "    .dataframe thead th {\n",
       "        text-align: right;\n",
       "    }\n",
       "</style>\n",
       "<table border=\"1\" class=\"dataframe\">\n",
       "  <thead>\n",
       "    <tr style=\"text-align: right;\">\n",
       "      <th></th>\n",
       "      <th>logP</th>\n",
       "      <th>logP</th>\n",
       "      <th>logP</th>\n",
       "      <th>logP</th>\n",
       "    </tr>\n",
       "    <tr>\n",
       "      <th>source</th>\n",
       "      <th></th>\n",
       "      <th></th>\n",
       "      <th></th>\n",
       "      <th></th>\n",
       "    </tr>\n",
       "  </thead>\n",
       "  <tbody>\n",
       "    <tr>\n",
       "      <th>balanced</th>\n",
       "      <td>0.048193</td>\n",
       "      <td>0.138554</td>\n",
       "      <td>0.457831</td>\n",
       "      <td>0.016064</td>\n",
       "    </tr>\n",
       "    <tr>\n",
       "      <th>hydrophilic</th>\n",
       "      <td>0.951807</td>\n",
       "      <td>0.861446</td>\n",
       "      <td>0.341365</td>\n",
       "      <td>0.983936</td>\n",
       "    </tr>\n",
       "    <tr>\n",
       "      <th>lipophilic</th>\n",
       "      <td>NaN</td>\n",
       "      <td>NaN</td>\n",
       "      <td>0.200803</td>\n",
       "      <td>NaN</td>\n",
       "    </tr>\n",
       "  </tbody>\n",
       "</table>\n",
       "</div>"
      ],
      "text/plain": [
       "                 logP      logP      logP      logP\n",
       "source                                             \n",
       "balanced     0.048193  0.138554  0.457831  0.016064\n",
       "hydrophilic  0.951807  0.861446  0.341365  0.983936\n",
       "lipophilic        NaN       NaN  0.200803       NaN"
      ]
     },
     "execution_count": 123,
     "metadata": {},
     "output_type": "execute_result"
    }
   ],
   "source": [
    "stacked = pd.concat([counts, counts2, counts4, counts3], axis=1)\n",
    "stacked"
   ]
  },
  {
   "cell_type": "code",
   "execution_count": 124,
   "id": "b6438207-16c3-4e85-8055-f4f858e70dab",
   "metadata": {
    "tags": []
   },
   "outputs": [
    {
     "data": {
      "image/png": "[encoded data removed]",
      "text/plain": [
       "<Figure size 640x480 with 1 Axes>"
      ]
     },
     "metadata": {},
     "output_type": "display_data"
    }
   ],
   "source": [
    "categories = ['All molecules', 'Balanced', 'Lipophilic', 'Hydrophilic']\n",
    "values1 = stacked.iloc[0].values\n",
    "values2 = stacked.iloc[1].values\n",
    "values3 = stacked.iloc[2].values\n",
    "# categories = ['A', 'B', 'C', 'D', 'E']\n",
    "# values1 = [5, 8, 6, 4, 7]\n",
    "# values2 = [3, 6, 2, 6, 4]\n",
    "# values3 = [4, 7, 5, 7, 8]\n",
    "\n",
    "x = np.arange(len(categories))\n",
    "\n",
    "# Plotting stacked bar chart\n",
    "plt.bar(x, values1, label='Balanced')\n",
    "plt.bar(x, values2, bottom=values1, label='Hydrophilic')\n",
    "# To stack values3, we need to add both values1 and values2\n",
    "values1_plus_values2 = np.add(values1, values2).tolist()\n",
    "plt.bar(x, values3, bottom=values1_plus_values2, label='Lipophilic')\n",
    "\n",
    "plt.xlabel('Initial Population')\n",
    "plt.ylabel('Proportion')\n",
    "plt.title('Stacked Bar Chart of Population Composition')\n",
    "plt.xticks(x, categories)\n",
    "plt.legend()\n",
    "\n",
    "plt.show()"
   ]
  },
  {
   "cell_type": "code",
   "execution_count": null,
   "id": "4b5f1a35-8ee6-4629-8784-74931a6bdca9",
   "metadata": {},
   "outputs": [],
   "source": []
  },
  {
   "cell_type": "code",
   "execution_count": null,
   "id": "1862062f-6f12-4d65-ad30-20d2d309d7f6",
   "metadata": {},
   "outputs": [],
   "source": []
  }
 ],
 "metadata": {
  "environment": {
   "kernel": "python3",
   "name": "common-cpu.m117",
   "type": "gcloud",
   "uri": "us-docker.pkg.dev/deeplearning-platform-release/gcr.io/base-cpu:m117"
  },
  "kernelspec": {
   "display_name": "Python 3",
   "language": "python",
   "name": "python3"
  },
  "language_info": {
   "codemirror_mode": {
    "name": "ipython",
    "version": 3
   },
   "file_extension": ".py",
   "mimetype": "text/x-python",
   "name": "python",
   "nbconvert_exporter": "python",
   "pygments_lexer": "ipython3",
   "version": "3.10.13"
  }
 },
 "nbformat": 4,
 "nbformat_minor": 5
}
