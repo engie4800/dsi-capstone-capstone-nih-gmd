{
 "cells": [
  {
   "cell_type": "code",
   "execution_count": 7,
   "id": "ae2e5f55-5e45-4d9e-83b3-b30ad274615b",
   "metadata": {
    "tags": []
   },
   "outputs": [],
   "source": [
    "import pandas as pd\n",
    "import matplotlib.pyplot as plt"
   ]
  },
  {
   "cell_type": "code",
   "execution_count": 5,
   "id": "79c23a10-3f43-4c37-bfd6-fa9bd32ce8ca",
   "metadata": {
    "tags": []
   },
   "outputs": [],
   "source": [
    "epoch_10 = pd.read_csv('10_epochs_drug_info.csv')"
   ]
  },
  {
   "cell_type": "code",
   "execution_count": 6,
   "id": "756e6eb1-8670-4c79-8663-402c1c42fe51",
   "metadata": {
    "tags": []
   },
   "outputs": [
    {
     "data": {
      "text/html": [
       "<div>\n",
       "<style scoped>\n",
       "    .dataframe tbody tr th:only-of-type {\n",
       "        vertical-align: middle;\n",
       "    }\n",
       "\n",
       "    .dataframe tbody tr th {\n",
       "        vertical-align: top;\n",
       "    }\n",
       "\n",
       "    .dataframe thead th {\n",
       "        text-align: right;\n",
       "    }\n",
       "</style>\n",
       "<table border=\"1\" class=\"dataframe\">\n",
       "  <thead>\n",
       "    <tr style=\"text-align: right;\">\n",
       "      <th></th>\n",
       "      <th>compound_id</th>\n",
       "      <th>smiles</th>\n",
       "      <th>generation</th>\n",
       "      <th>source</th>\n",
       "      <th>fitness</th>\n",
       "      <th>SA_score</th>\n",
       "      <th>LogP_score</th>\n",
       "      <th>Cycle_score</th>\n",
       "      <th>chromosome</th>\n",
       "      <th>parent1_id</th>\n",
       "      <th>parent2_id</th>\n",
       "    </tr>\n",
       "  </thead>\n",
       "  <tbody>\n",
       "    <tr>\n",
       "      <th>0</th>\n",
       "      <td>0</td>\n",
       "      <td>COC(=O)[C@@H](C)Sc1ccccc1C(=O)Nc1nc(-c2ccccc2C...</td>\n",
       "      <td>[0, 1, 2, 3, 4, 5, 6, 7, 8, 9, 10, 11]</td>\n",
       "      <td>initial</td>\n",
       "      <td>2.949043</td>\n",
       "      <td>0.494856</td>\n",
       "      <td>2.278323</td>\n",
       "      <td>0.175863</td>\n",
       "      <td>NaN</td>\n",
       "      <td>NaN</td>\n",
       "      <td>NaN</td>\n",
       "    </tr>\n",
       "    <tr>\n",
       "      <th>1</th>\n",
       "      <td>1</td>\n",
       "      <td>COC[C@@H](NC(=O)c1cn(Cc2c(F)cccc2F)nn1)c1ccnn1C</td>\n",
       "      <td>[0, 1, 2]</td>\n",
       "      <td>initial</td>\n",
       "      <td>-0.779118</td>\n",
       "      <td>-0.119823</td>\n",
       "      <td>-0.835158</td>\n",
       "      <td>0.175863</td>\n",
       "      <td>NaN</td>\n",
       "      <td>NaN</td>\n",
       "      <td>NaN</td>\n",
       "    </tr>\n",
       "    <tr>\n",
       "      <th>2</th>\n",
       "      <td>2</td>\n",
       "      <td>[H]OC(N([H])C1=C(F)C(F)=C([H])C([H])=C1[H])=C(...</td>\n",
       "      <td>[0, 1, 2, 3, 4, 5]</td>\n",
       "      <td>initial</td>\n",
       "      <td>0.554042</td>\n",
       "      <td>-0.696850</td>\n",
       "      <td>1.075029</td>\n",
       "      <td>0.175863</td>\n",
       "      <td>NaN</td>\n",
       "      <td>NaN</td>\n",
       "      <td>NaN</td>\n",
       "    </tr>\n",
       "    <tr>\n",
       "      <th>3</th>\n",
       "      <td>3</td>\n",
       "      <td>Cc1ccc(CNC[C@@H]2CC[C@H]3CCCC[C@@H]3[NH2+]2)s1</td>\n",
       "      <td>[0, 1]</td>\n",
       "      <td>initial</td>\n",
       "      <td>-1.514553</td>\n",
       "      <td>-1.630979</td>\n",
       "      <td>-0.059437</td>\n",
       "      <td>0.175863</td>\n",
       "      <td>NaN</td>\n",
       "      <td>NaN</td>\n",
       "      <td>NaN</td>\n",
       "    </tr>\n",
       "    <tr>\n",
       "      <th>4</th>\n",
       "      <td>4</td>\n",
       "      <td>O=C(c1ccc(-n2nc(C(F)(F)F)c3c2CCCC3)cc1)N1CCCC1</td>\n",
       "      <td>[0, 1, 2, 3, 4, 5, 6, 7, 8, 9, 10, 11]</td>\n",
       "      <td>initial</td>\n",
       "      <td>2.264284</td>\n",
       "      <td>0.894780</td>\n",
       "      <td>1.193640</td>\n",
       "      <td>0.175863</td>\n",
       "      <td>NaN</td>\n",
       "      <td>NaN</td>\n",
       "      <td>NaN</td>\n",
       "    </tr>\n",
       "    <tr>\n",
       "      <th>...</th>\n",
       "      <td>...</td>\n",
       "      <td>...</td>\n",
       "      <td>...</td>\n",
       "      <td>...</td>\n",
       "      <td>...</td>\n",
       "      <td>...</td>\n",
       "      <td>...</td>\n",
       "      <td>...</td>\n",
       "      <td>...</td>\n",
       "      <td>...</td>\n",
       "      <td>...</td>\n",
       "    </tr>\n",
       "    <tr>\n",
       "      <th>2116</th>\n",
       "      <td>1976</td>\n",
       "      <td>Cc1cc(C(=O)N2CSC(CC(=O)OCc3ccc(N(C)C)c(C(=O)N4...</td>\n",
       "      <td>[11]</td>\n",
       "      <td>NaN</td>\n",
       "      <td>-1.639108</td>\n",
       "      <td>-1.707122</td>\n",
       "      <td>0.001641</td>\n",
       "      <td>0.066372</td>\n",
       "      <td>[ 1.58009422e+00  1.86103714e+00 -8.29706848e-...</td>\n",
       "      <td>105.0</td>\n",
       "      <td>1279.0</td>\n",
       "    </tr>\n",
       "    <tr>\n",
       "      <th>2117</th>\n",
       "      <td>1977</td>\n",
       "      <td>CC(N)Cc1ccc(NC(=O)Cc2nc(-c3ccsc3)cs2)cc1</td>\n",
       "      <td>[11]</td>\n",
       "      <td>NaN</td>\n",
       "      <td>-0.187075</td>\n",
       "      <td>-0.114357</td>\n",
       "      <td>-0.139090</td>\n",
       "      <td>0.066372</td>\n",
       "      <td>[-1.10745490e-01 -3.73877704e-01 -1.50132418e+...</td>\n",
       "      <td>1497.0</td>\n",
       "      <td>1749.0</td>\n",
       "    </tr>\n",
       "    <tr>\n",
       "      <th>2118</th>\n",
       "      <td>1978</td>\n",
       "      <td>Cc1cccc(CCN(C)S(=O)(=O)c2ccc(C(=O)c3cccs3)cc2C)c1</td>\n",
       "      <td>[11]</td>\n",
       "      <td>NaN</td>\n",
       "      <td>0.676726</td>\n",
       "      <td>0.501329</td>\n",
       "      <td>0.109025</td>\n",
       "      <td>0.066372</td>\n",
       "      <td>[-0.51834023  0.23383984 -1.9080317  -0.992697...</td>\n",
       "      <td>151.0</td>\n",
       "      <td>1061.0</td>\n",
       "    </tr>\n",
       "    <tr>\n",
       "      <th>2119</th>\n",
       "      <td>1979</td>\n",
       "      <td>CC(=O)Oc1ccc(C2CCN(C(=O)c3ccc(F)cc3)CC2)cc1</td>\n",
       "      <td>[11]</td>\n",
       "      <td>NaN</td>\n",
       "      <td>0.897154</td>\n",
       "      <td>1.052330</td>\n",
       "      <td>-0.221548</td>\n",
       "      <td>0.066372</td>\n",
       "      <td>[-0.45200458 -0.4438957  -0.08367032  0.322026...</td>\n",
       "      <td>1720.0</td>\n",
       "      <td>296.0</td>\n",
       "    </tr>\n",
       "    <tr>\n",
       "      <th>2120</th>\n",
       "      <td>1980</td>\n",
       "      <td>CC(Cc1ccc(F)cc1)N=Cc1ccc2c(c1)OCO2</td>\n",
       "      <td>[11]</td>\n",
       "      <td>NaN</td>\n",
       "      <td>-0.399340</td>\n",
       "      <td>-0.164299</td>\n",
       "      <td>-0.301413</td>\n",
       "      <td>0.066372</td>\n",
       "      <td>[ 4.8910413   0.11695588 -1.7084767   0.428734...</td>\n",
       "      <td>1305.0</td>\n",
       "      <td>1690.0</td>\n",
       "    </tr>\n",
       "  </tbody>\n",
       "</table>\n",
       "<p>2121 rows × 11 columns</p>\n",
       "</div>"
      ],
      "text/plain": [
       "      compound_id                                             smiles  \\\n",
       "0               0  COC(=O)[C@@H](C)Sc1ccccc1C(=O)Nc1nc(-c2ccccc2C...   \n",
       "1               1    COC[C@@H](NC(=O)c1cn(Cc2c(F)cccc2F)nn1)c1ccnn1C   \n",
       "2               2  [H]OC(N([H])C1=C(F)C(F)=C([H])C([H])=C1[H])=C(...   \n",
       "3               3     Cc1ccc(CNC[C@@H]2CC[C@H]3CCCC[C@@H]3[NH2+]2)s1   \n",
       "4               4     O=C(c1ccc(-n2nc(C(F)(F)F)c3c2CCCC3)cc1)N1CCCC1   \n",
       "...           ...                                                ...   \n",
       "2116         1976  Cc1cc(C(=O)N2CSC(CC(=O)OCc3ccc(N(C)C)c(C(=O)N4...   \n",
       "2117         1977           CC(N)Cc1ccc(NC(=O)Cc2nc(-c3ccsc3)cs2)cc1   \n",
       "2118         1978  Cc1cccc(CCN(C)S(=O)(=O)c2ccc(C(=O)c3cccs3)cc2C)c1   \n",
       "2119         1979        CC(=O)Oc1ccc(C2CCN(C(=O)c3ccc(F)cc3)CC2)cc1   \n",
       "2120         1980                 CC(Cc1ccc(F)cc1)N=Cc1ccc2c(c1)OCO2   \n",
       "\n",
       "                                  generation   source   fitness  SA_score  \\\n",
       "0     [0, 1, 2, 3, 4, 5, 6, 7, 8, 9, 10, 11]  initial  2.949043  0.494856   \n",
       "1                                  [0, 1, 2]  initial -0.779118 -0.119823   \n",
       "2                         [0, 1, 2, 3, 4, 5]  initial  0.554042 -0.696850   \n",
       "3                                     [0, 1]  initial -1.514553 -1.630979   \n",
       "4     [0, 1, 2, 3, 4, 5, 6, 7, 8, 9, 10, 11]  initial  2.264284  0.894780   \n",
       "...                                      ...      ...       ...       ...   \n",
       "2116                                    [11]      NaN -1.639108 -1.707122   \n",
       "2117                                    [11]      NaN -0.187075 -0.114357   \n",
       "2118                                    [11]      NaN  0.676726  0.501329   \n",
       "2119                                    [11]      NaN  0.897154  1.052330   \n",
       "2120                                    [11]      NaN -0.399340 -0.164299   \n",
       "\n",
       "      LogP_score  Cycle_score  \\\n",
       "0       2.278323     0.175863   \n",
       "1      -0.835158     0.175863   \n",
       "2       1.075029     0.175863   \n",
       "3      -0.059437     0.175863   \n",
       "4       1.193640     0.175863   \n",
       "...          ...          ...   \n",
       "2116    0.001641     0.066372   \n",
       "2117   -0.139090     0.066372   \n",
       "2118    0.109025     0.066372   \n",
       "2119   -0.221548     0.066372   \n",
       "2120   -0.301413     0.066372   \n",
       "\n",
       "                                             chromosome  parent1_id  \\\n",
       "0                                                   NaN         NaN   \n",
       "1                                                   NaN         NaN   \n",
       "2                                                   NaN         NaN   \n",
       "3                                                   NaN         NaN   \n",
       "4                                                   NaN         NaN   \n",
       "...                                                 ...         ...   \n",
       "2116  [ 1.58009422e+00  1.86103714e+00 -8.29706848e-...       105.0   \n",
       "2117  [-1.10745490e-01 -3.73877704e-01 -1.50132418e+...      1497.0   \n",
       "2118  [-0.51834023  0.23383984 -1.9080317  -0.992697...       151.0   \n",
       "2119  [-0.45200458 -0.4438957  -0.08367032  0.322026...      1720.0   \n",
       "2120  [ 4.8910413   0.11695588 -1.7084767   0.428734...      1305.0   \n",
       "\n",
       "      parent2_id  \n",
       "0            NaN  \n",
       "1            NaN  \n",
       "2            NaN  \n",
       "3            NaN  \n",
       "4            NaN  \n",
       "...          ...  \n",
       "2116      1279.0  \n",
       "2117      1749.0  \n",
       "2118      1061.0  \n",
       "2119       296.0  \n",
       "2120      1690.0  \n",
       "\n",
       "[2121 rows x 11 columns]"
      ]
     },
     "execution_count": 6,
     "metadata": {},
     "output_type": "execute_result"
    }
   ],
   "source": [
    "epoch_10"
   ]
  },
  {
   "cell_type": "code",
   "execution_count": 10,
   "id": "00f04373-ef08-411c-9591-9f740c14fd3a",
   "metadata": {
    "tags": []
   },
   "outputs": [],
   "source": [
    "def logp_labels(x):\n",
    "    if x > 3:\n",
    "        return 'liphophilic'\n",
    "    elif x > 0:\n",
    "        return 'balanced'\n",
    "    else:\n",
    "        return 'hydrophilic'"
   ]
  },
  {
   "cell_type": "code",
   "execution_count": 12,
   "id": "2e42c1f6-f8db-4a8b-b81e-f283d1a57710",
   "metadata": {
    "tags": []
   },
   "outputs": [],
   "source": [
    "epoch_10['LogP_label'] = epoch_10['LogP_score'].apply(logp_labels)"
   ]
  },
  {
   "cell_type": "code",
   "execution_count": 15,
   "id": "50f043a9-850d-4baf-a1c1-646cfb622053",
   "metadata": {
    "tags": []
   },
   "outputs": [
    {
     "data": {
      "text/plain": [
       "array([1078, 1033,   10])"
      ]
     },
     "execution_count": 15,
     "metadata": {},
     "output_type": "execute_result"
    }
   ],
   "source": [
    "epoch_10['LogP_label'].value_counts().values"
   ]
  },
  {
   "cell_type": "code",
   "execution_count": 19,
   "id": "86462b6e-c3f0-4ffd-9013-ec22c046efd3",
   "metadata": {
    "tags": []
   },
   "outputs": [
    {
     "data": {
      "text/plain": [
       "[1078, 1033, 10]"
      ]
     },
     "execution_count": 19,
     "metadata": {},
     "output_type": "execute_result"
    }
   ],
   "source": [
    "list(epoch_10['LogP_label'].value_counts())"
   ]
  },
  {
   "cell_type": "code",
   "execution_count": 24,
   "id": "92823fea-2fa4-454d-9204-946ca45191d8",
   "metadata": {
    "tags": []
   },
   "outputs": [
    {
     "data": {
      "text/plain": [
       "2121"
      ]
     },
     "execution_count": 24,
     "metadata": {},
     "output_type": "execute_result"
    }
   ],
   "source": [
    "epoch_10['LogP_label'].value_counts().values.sum()"
   ]
  },
  {
   "cell_type": "code",
   "execution_count": 32,
   "id": "494b6ce2-0279-4564-9094-537c3b4f815d",
   "metadata": {},
   "outputs": [
    {
     "data": {
      "text/plain": [
       "Text(0.5, 1.0, 'LogP score distribution for JTVAE after 10 epochs')"
      ]
     },
     "execution_count": 32,
     "metadata": {},
     "output_type": "execute_result"
    },
    {
     "data": {
      "image/png": "[encoded data removed]",
      "text/plain": [
       "<Figure size 640x480 with 1 Axes>"
      ]
     },
     "metadata": {},
     "output_type": "display_data"
    }
   ],
   "source": [
    "fig, ax = plt.subplots()\n",
    "ax.pie(epoch_10['LogP_label'].value_counts().values/epoch_10['LogP_label'].value_counts().values.sum(), labels=list(epoch_10['LogP_label'].value_counts().index), autopct='%1.1f%%')\n",
    "plt.title('LogP score distribution for JTVAE after 10 epochs')"
   ]
  },
  {
   "cell_type": "code",
   "execution_count": 28,
   "id": "17a3102d-652e-40fa-a65e-6630d8f948a5",
   "metadata": {
    "tags": []
   },
   "outputs": [
    {
     "data": {
      "text/plain": [
       "[1078, 1033, 10]"
      ]
     },
     "execution_count": 28,
     "metadata": {},
     "output_type": "execute_result"
    }
   ],
   "source": [
    "list(epoch_10['LogP_label'].value_counts())"
   ]
  },
  {
   "cell_type": "code",
   "execution_count": null,
   "id": "96049c05-4db6-4836-967f-236180d29fda",
   "metadata": {},
   "outputs": [],
   "source": []
  }
 ],
 "metadata": {
  "environment": {
   "kernel": "python3",
   "name": "common-cpu.m117",
   "type": "gcloud",
   "uri": "us-docker.pkg.dev/deeplearning-platform-release/gcr.io/base-cpu:m117"
  },
  "kernelspec": {
   "display_name": "Python 3",
   "language": "python",
   "name": "python3"
  },
  "language_info": {
   "codemirror_mode": {
    "name": "ipython",
    "version": 3
   },
   "file_extension": ".py",
   "mimetype": "text/x-python",
   "name": "python",
   "nbconvert_exporter": "python",
   "pygments_lexer": "ipython3",
   "version": "3.10.13"
  }
 },
 "nbformat": 4,
 "nbformat_minor": 5
}
