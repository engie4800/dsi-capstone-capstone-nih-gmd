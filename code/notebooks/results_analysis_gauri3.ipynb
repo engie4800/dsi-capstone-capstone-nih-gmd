{
 "cells": [
  {
   "cell_type": "code",
   "execution_count": 26,
   "id": "d588df49-ef37-4ff8-9951-c3eb59d0acc5",
   "metadata": {
    "tags": []
   },
   "outputs": [],
   "source": [
    "import pandas as pd\n",
    "import matplotlib.pyplot as plt"
   ]
  },
  {
   "cell_type": "code",
   "execution_count": 27,
   "id": "26b32ada-ecb9-41db-96da-dd9fb7b363b9",
   "metadata": {
    "tags": []
   },
   "outputs": [],
   "source": [
    "init_data = pd.read_csv('new_data_initial_population.csv')"
   ]
  },
  {
   "cell_type": "code",
   "execution_count": 28,
   "id": "6672289b-bc04-442a-83d1-967204d96ea6",
   "metadata": {
    "tags": []
   },
   "outputs": [
    {
     "data": {
      "text/html": [
       "<div>\n",
       "<style scoped>\n",
       "    .dataframe tbody tr th:only-of-type {\n",
       "        vertical-align: middle;\n",
       "    }\n",
       "\n",
       "    .dataframe tbody tr th {\n",
       "        vertical-align: top;\n",
       "    }\n",
       "\n",
       "    .dataframe thead th {\n",
       "        text-align: right;\n",
       "    }\n",
       "</style>\n",
       "<table border=\"1\" class=\"dataframe\">\n",
       "  <thead>\n",
       "    <tr style=\"text-align: right;\">\n",
       "      <th></th>\n",
       "      <th>compound_id</th>\n",
       "      <th>smiles</th>\n",
       "      <th>generation</th>\n",
       "      <th>source</th>\n",
       "      <th>Combined_fitness</th>\n",
       "      <th>SA_score</th>\n",
       "      <th>LogP_score</th>\n",
       "      <th>Cycle_score</th>\n",
       "    </tr>\n",
       "  </thead>\n",
       "  <tbody>\n",
       "    <tr>\n",
       "      <th>0</th>\n",
       "      <td>0</td>\n",
       "      <td>O=C(c1ccccc1O)N1CCN(C(=O)[C@H]2C[C@@H]2c2ccccc...</td>\n",
       "      <td>[0, 1]</td>\n",
       "      <td>initial</td>\n",
       "      <td>0.634775</td>\n",
       "      <td>0.290583</td>\n",
       "      <td>0.243689</td>\n",
       "      <td>0.100504</td>\n",
       "    </tr>\n",
       "    <tr>\n",
       "      <th>1</th>\n",
       "      <td>1</td>\n",
       "      <td>COc1ccc2c(=O)ccn(CCC(N)=O)c2c1</td>\n",
       "      <td>[0, 1]</td>\n",
       "      <td>initial</td>\n",
       "      <td>0.311698</td>\n",
       "      <td>1.101984</td>\n",
       "      <td>-0.890790</td>\n",
       "      <td>0.100504</td>\n",
       "    </tr>\n",
       "    <tr>\n",
       "      <th>2</th>\n",
       "      <td>2</td>\n",
       "      <td>CCn1c(=O)c(CCC(=O)Nc2cccc(C)c2C)nc2c(C)nn(-c3c...</td>\n",
       "      <td>[0, 1]</td>\n",
       "      <td>initial</td>\n",
       "      <td>1.980347</td>\n",
       "      <td>0.668285</td>\n",
       "      <td>1.211558</td>\n",
       "      <td>0.100504</td>\n",
       "    </tr>\n",
       "    <tr>\n",
       "      <th>3</th>\n",
       "      <td>3</td>\n",
       "      <td>CSc1cccc(N2C[C@@H](C(=O)[O-])CC2=O)c1</td>\n",
       "      <td>[0, 1]</td>\n",
       "      <td>initial</td>\n",
       "      <td>-1.095133</td>\n",
       "      <td>-0.060011</td>\n",
       "      <td>-1.135626</td>\n",
       "      <td>0.100504</td>\n",
       "    </tr>\n",
       "    <tr>\n",
       "      <th>4</th>\n",
       "      <td>4</td>\n",
       "      <td>CC[C@](O)(c1ccccc1)[C@@]1(C#N)CC[C@H](C)C1</td>\n",
       "      <td>[0, 1]</td>\n",
       "      <td>initial</td>\n",
       "      <td>-0.116332</td>\n",
       "      <td>-1.111402</td>\n",
       "      <td>0.894567</td>\n",
       "      <td>0.100504</td>\n",
       "    </tr>\n",
       "    <tr>\n",
       "      <th>...</th>\n",
       "      <td>...</td>\n",
       "      <td>...</td>\n",
       "      <td>...</td>\n",
       "      <td>...</td>\n",
       "      <td>...</td>\n",
       "      <td>...</td>\n",
       "      <td>...</td>\n",
       "      <td>...</td>\n",
       "    </tr>\n",
       "    <tr>\n",
       "      <th>95</th>\n",
       "      <td>95</td>\n",
       "      <td>COc1cc(C)c(NC(=O)N2CCc3c(F)ccc(F)c3C2)cc1OC</td>\n",
       "      <td>[0, 1]</td>\n",
       "      <td>initial</td>\n",
       "      <td>2.080805</td>\n",
       "      <td>0.911405</td>\n",
       "      <td>1.068896</td>\n",
       "      <td>0.100504</td>\n",
       "    </tr>\n",
       "    <tr>\n",
       "      <th>96</th>\n",
       "      <td>96</td>\n",
       "      <td>O=C(NNC(=O)C1CC1)c1ccc(S(=O)(=O)N2CCCC2)cc1</td>\n",
       "      <td>[0, 1]</td>\n",
       "      <td>initial</td>\n",
       "      <td>0.442456</td>\n",
       "      <td>1.391997</td>\n",
       "      <td>-1.050045</td>\n",
       "      <td>0.100504</td>\n",
       "    </tr>\n",
       "    <tr>\n",
       "      <th>97</th>\n",
       "      <td>97</td>\n",
       "      <td>Cc1ccc(CNC(=O)C2CCN(C(=O)c3cnccn3)CC2)cc1F</td>\n",
       "      <td>[0, 1]</td>\n",
       "      <td>initial</td>\n",
       "      <td>1.119099</td>\n",
       "      <td>1.119510</td>\n",
       "      <td>-0.100914</td>\n",
       "      <td>0.100504</td>\n",
       "    </tr>\n",
       "    <tr>\n",
       "      <th>98</th>\n",
       "      <td>98</td>\n",
       "      <td>O=C(c1cc2c(cc1O)OCO2)N1CC[C@H]2CCCC[C@H]21</td>\n",
       "      <td>[0, 1]</td>\n",
       "      <td>initial</td>\n",
       "      <td>0.278880</td>\n",
       "      <td>-0.003940</td>\n",
       "      <td>0.182316</td>\n",
       "      <td>0.100504</td>\n",
       "    </tr>\n",
       "    <tr>\n",
       "      <th>99</th>\n",
       "      <td>99</td>\n",
       "      <td>N#C[C@]1(C2(O)C[NH2+]C2)C[C@H]2CC[C@@H]1O2</td>\n",
       "      <td>[0, 1]</td>\n",
       "      <td>initial</td>\n",
       "      <td>-6.174957</td>\n",
       "      <td>-3.991211</td>\n",
       "      <td>-2.284251</td>\n",
       "      <td>0.100504</td>\n",
       "    </tr>\n",
       "  </tbody>\n",
       "</table>\n",
       "<p>100 rows × 8 columns</p>\n",
       "</div>"
      ],
      "text/plain": [
       "    compound_id                                             smiles generation  \\\n",
       "0             0  O=C(c1ccccc1O)N1CCN(C(=O)[C@H]2C[C@@H]2c2ccccc...     [0, 1]   \n",
       "1             1                     COc1ccc2c(=O)ccn(CCC(N)=O)c2c1     [0, 1]   \n",
       "2             2  CCn1c(=O)c(CCC(=O)Nc2cccc(C)c2C)nc2c(C)nn(-c3c...     [0, 1]   \n",
       "3             3              CSc1cccc(N2C[C@@H](C(=O)[O-])CC2=O)c1     [0, 1]   \n",
       "4             4         CC[C@](O)(c1ccccc1)[C@@]1(C#N)CC[C@H](C)C1     [0, 1]   \n",
       "..          ...                                                ...        ...   \n",
       "95           95        COc1cc(C)c(NC(=O)N2CCc3c(F)ccc(F)c3C2)cc1OC     [0, 1]   \n",
       "96           96        O=C(NNC(=O)C1CC1)c1ccc(S(=O)(=O)N2CCCC2)cc1     [0, 1]   \n",
       "97           97         Cc1ccc(CNC(=O)C2CCN(C(=O)c3cnccn3)CC2)cc1F     [0, 1]   \n",
       "98           98         O=C(c1cc2c(cc1O)OCO2)N1CC[C@H]2CCCC[C@H]21     [0, 1]   \n",
       "99           99         N#C[C@]1(C2(O)C[NH2+]C2)C[C@H]2CC[C@@H]1O2     [0, 1]   \n",
       "\n",
       "     source  Combined_fitness  SA_score  LogP_score  Cycle_score  \n",
       "0   initial          0.634775  0.290583    0.243689     0.100504  \n",
       "1   initial          0.311698  1.101984   -0.890790     0.100504  \n",
       "2   initial          1.980347  0.668285    1.211558     0.100504  \n",
       "3   initial         -1.095133 -0.060011   -1.135626     0.100504  \n",
       "4   initial         -0.116332 -1.111402    0.894567     0.100504  \n",
       "..      ...               ...       ...         ...          ...  \n",
       "95  initial          2.080805  0.911405    1.068896     0.100504  \n",
       "96  initial          0.442456  1.391997   -1.050045     0.100504  \n",
       "97  initial          1.119099  1.119510   -0.100914     0.100504  \n",
       "98  initial          0.278880 -0.003940    0.182316     0.100504  \n",
       "99  initial         -6.174957 -3.991211   -2.284251     0.100504  \n",
       "\n",
       "[100 rows x 8 columns]"
      ]
     },
     "execution_count": 28,
     "metadata": {},
     "output_type": "execute_result"
    }
   ],
   "source": [
    "init_data"
   ]
  },
  {
   "cell_type": "code",
   "execution_count": 29,
   "id": "ebfae747-b7fc-41e0-9af3-e744ed893a23",
   "metadata": {
    "tags": []
   },
   "outputs": [
    {
     "ename": "KeyError",
     "evalue": "'fitness'",
     "output_type": "error",
     "traceback": [
      "\u001b[0;31m---------------------------------------------------------------------------\u001b[0m",
      "\u001b[0;31mKeyError\u001b[0m                                  Traceback (most recent call last)",
      "File \u001b[0;32m/opt/conda/lib/python3.10/site-packages/pandas/core/indexes/base.py:3802\u001b[0m, in \u001b[0;36mIndex.get_loc\u001b[0;34m(self, key)\u001b[0m\n\u001b[1;32m   3801\u001b[0m \u001b[38;5;28;01mtry\u001b[39;00m:\n\u001b[0;32m-> 3802\u001b[0m     \u001b[38;5;28;01mreturn\u001b[39;00m \u001b[38;5;28;43mself\u001b[39;49m\u001b[38;5;241;43m.\u001b[39;49m\u001b[43m_engine\u001b[49m\u001b[38;5;241;43m.\u001b[39;49m\u001b[43mget_loc\u001b[49m\u001b[43m(\u001b[49m\u001b[43mcasted_key\u001b[49m\u001b[43m)\u001b[49m\n\u001b[1;32m   3803\u001b[0m \u001b[38;5;28;01mexcept\u001b[39;00m \u001b[38;5;167;01mKeyError\u001b[39;00m \u001b[38;5;28;01mas\u001b[39;00m err:\n",
      "File \u001b[0;32mindex.pyx:153\u001b[0m, in \u001b[0;36mpandas._libs.index.IndexEngine.get_loc\u001b[0;34m()\u001b[0m\n",
      "File \u001b[0;32mindex.pyx:182\u001b[0m, in \u001b[0;36mpandas._libs.index.IndexEngine.get_loc\u001b[0;34m()\u001b[0m\n",
      "File \u001b[0;32mpandas/_libs/hashtable_class_helper.pxi:7081\u001b[0m, in \u001b[0;36mpandas._libs.hashtable.PyObjectHashTable.get_item\u001b[0;34m()\u001b[0m\n",
      "File \u001b[0;32mpandas/_libs/hashtable_class_helper.pxi:7089\u001b[0m, in \u001b[0;36mpandas._libs.hashtable.PyObjectHashTable.get_item\u001b[0;34m()\u001b[0m\n",
      "\u001b[0;31mKeyError\u001b[0m: 'fitness'",
      "\nThe above exception was the direct cause of the following exception:\n",
      "\u001b[0;31mKeyError\u001b[0m                                  Traceback (most recent call last)",
      "Cell \u001b[0;32mIn[29], line 1\u001b[0m\n\u001b[0;32m----> 1\u001b[0m \u001b[43minit_data\u001b[49m\u001b[43m[\u001b[49m\u001b[38;5;124;43m'\u001b[39;49m\u001b[38;5;124;43mfitness\u001b[39;49m\u001b[38;5;124;43m'\u001b[39;49m\u001b[43m]\u001b[49m\u001b[38;5;241m.\u001b[39mhist(bins \u001b[38;5;241m=\u001b[39m \u001b[38;5;241m30\u001b[39m)\n",
      "File \u001b[0;32m/opt/conda/lib/python3.10/site-packages/pandas/core/frame.py:4090\u001b[0m, in \u001b[0;36mDataFrame.__getitem__\u001b[0;34m(self, key)\u001b[0m\n\u001b[1;32m   4088\u001b[0m \u001b[38;5;28;01mif\u001b[39;00m \u001b[38;5;28mself\u001b[39m\u001b[38;5;241m.\u001b[39mcolumns\u001b[38;5;241m.\u001b[39mnlevels \u001b[38;5;241m>\u001b[39m \u001b[38;5;241m1\u001b[39m:\n\u001b[1;32m   4089\u001b[0m     \u001b[38;5;28;01mreturn\u001b[39;00m \u001b[38;5;28mself\u001b[39m\u001b[38;5;241m.\u001b[39m_getitem_multilevel(key)\n\u001b[0;32m-> 4090\u001b[0m indexer \u001b[38;5;241m=\u001b[39m \u001b[38;5;28;43mself\u001b[39;49m\u001b[38;5;241;43m.\u001b[39;49m\u001b[43mcolumns\u001b[49m\u001b[38;5;241;43m.\u001b[39;49m\u001b[43mget_loc\u001b[49m\u001b[43m(\u001b[49m\u001b[43mkey\u001b[49m\u001b[43m)\u001b[49m\n\u001b[1;32m   4091\u001b[0m \u001b[38;5;28;01mif\u001b[39;00m is_integer(indexer):\n\u001b[1;32m   4092\u001b[0m     indexer \u001b[38;5;241m=\u001b[39m [indexer]\n",
      "File \u001b[0;32m/opt/conda/lib/python3.10/site-packages/pandas/core/indexes/base.py:3809\u001b[0m, in \u001b[0;36mIndex.get_loc\u001b[0;34m(self, key)\u001b[0m\n\u001b[1;32m   3804\u001b[0m     \u001b[38;5;28;01mif\u001b[39;00m \u001b[38;5;28misinstance\u001b[39m(casted_key, \u001b[38;5;28mslice\u001b[39m) \u001b[38;5;129;01mor\u001b[39;00m (\n\u001b[1;32m   3805\u001b[0m         \u001b[38;5;28misinstance\u001b[39m(casted_key, abc\u001b[38;5;241m.\u001b[39mIterable)\n\u001b[1;32m   3806\u001b[0m         \u001b[38;5;129;01mand\u001b[39;00m \u001b[38;5;28many\u001b[39m(\u001b[38;5;28misinstance\u001b[39m(x, \u001b[38;5;28mslice\u001b[39m) \u001b[38;5;28;01mfor\u001b[39;00m x \u001b[38;5;129;01min\u001b[39;00m casted_key)\n\u001b[1;32m   3807\u001b[0m     ):\n\u001b[1;32m   3808\u001b[0m         \u001b[38;5;28;01mraise\u001b[39;00m InvalidIndexError(key)\n\u001b[0;32m-> 3809\u001b[0m     \u001b[38;5;28;01mraise\u001b[39;00m \u001b[38;5;167;01mKeyError\u001b[39;00m(key) \u001b[38;5;28;01mfrom\u001b[39;00m \u001b[38;5;21;01merr\u001b[39;00m\n\u001b[1;32m   3810\u001b[0m \u001b[38;5;28;01mexcept\u001b[39;00m \u001b[38;5;167;01mTypeError\u001b[39;00m:\n\u001b[1;32m   3811\u001b[0m     \u001b[38;5;66;03m# If we have a listlike key, _check_indexing_error will raise\u001b[39;00m\n\u001b[1;32m   3812\u001b[0m     \u001b[38;5;66;03m#  InvalidIndexError. Otherwise we fall through and re-raise\u001b[39;00m\n\u001b[1;32m   3813\u001b[0m     \u001b[38;5;66;03m#  the TypeError.\u001b[39;00m\n\u001b[1;32m   3814\u001b[0m     \u001b[38;5;28mself\u001b[39m\u001b[38;5;241m.\u001b[39m_check_indexing_error(key)\n",
      "\u001b[0;31mKeyError\u001b[0m: 'fitness'"
     ]
    }
   ],
   "source": [
    "init_data['fitness'].hist(bins = 30)\n"
   ]
  },
  {
   "cell_type": "code",
   "execution_count": 30,
   "id": "bb0c9e71-2224-4eb5-8dc7-09d81448b367",
   "metadata": {},
   "outputs": [],
   "source": [
    "all_scores = pd.read_csv(\"all_data_score_separated.csv\")"
   ]
  },
  {
   "cell_type": "code",
   "execution_count": 31,
   "id": "a5dd07fe-fd0a-46ef-8604-fe0682ebaf47",
   "metadata": {
    "tags": []
   },
   "outputs": [
    {
     "data": {
      "text/html": [
       "<div>\n",
       "<style scoped>\n",
       "    .dataframe tbody tr th:only-of-type {\n",
       "        vertical-align: middle;\n",
       "    }\n",
       "\n",
       "    .dataframe tbody tr th {\n",
       "        vertical-align: top;\n",
       "    }\n",
       "\n",
       "    .dataframe thead th {\n",
       "        text-align: right;\n",
       "    }\n",
       "</style>\n",
       "<table border=\"1\" class=\"dataframe\">\n",
       "  <thead>\n",
       "    <tr style=\"text-align: right;\">\n",
       "      <th></th>\n",
       "      <th>compound_id</th>\n",
       "      <th>smiles</th>\n",
       "      <th>generation</th>\n",
       "      <th>source</th>\n",
       "      <th>Combined_fitness</th>\n",
       "      <th>SA_score</th>\n",
       "      <th>LogP_score</th>\n",
       "      <th>Cycle_score</th>\n",
       "    </tr>\n",
       "  </thead>\n",
       "  <tbody>\n",
       "    <tr>\n",
       "      <th>0</th>\n",
       "      <td>0</td>\n",
       "      <td>COCCCn1ccc(NC(=O)c2cnn(C(C)C)c2C)n1</td>\n",
       "      <td>[0, 1]</td>\n",
       "      <td>initial</td>\n",
       "      <td>0.592967</td>\n",
       "      <td>0.630444</td>\n",
       "      <td>-0.137981</td>\n",
       "      <td>0.100504</td>\n",
       "    </tr>\n",
       "    <tr>\n",
       "      <th>1</th>\n",
       "      <td>1</td>\n",
       "      <td>Cc1cnn(CCCNC(=O)NC[C@@H]2CCC[C@H]2O)c1</td>\n",
       "      <td>[0, 1]</td>\n",
       "      <td>initial</td>\n",
       "      <td>-0.976867</td>\n",
       "      <td>-0.114956</td>\n",
       "      <td>-0.962415</td>\n",
       "      <td>0.100504</td>\n",
       "    </tr>\n",
       "    <tr>\n",
       "      <th>2</th>\n",
       "      <td>2</td>\n",
       "      <td>[H]N=C(N([H])C(=NC([H])(C([H])([H])[H])C([H])(...</td>\n",
       "      <td>[0, 1]</td>\n",
       "      <td>initial</td>\n",
       "      <td>0.177184</td>\n",
       "      <td>0.389833</td>\n",
       "      <td>-0.313153</td>\n",
       "      <td>0.100504</td>\n",
       "    </tr>\n",
       "    <tr>\n",
       "      <th>3</th>\n",
       "      <td>3</td>\n",
       "      <td>Cc1cc(CNC[C@H](O)c2ccccc2F)ccc1Br</td>\n",
       "      <td>[0, 1]</td>\n",
       "      <td>initial</td>\n",
       "      <td>1.669802</td>\n",
       "      <td>0.715910</td>\n",
       "      <td>0.853388</td>\n",
       "      <td>0.100504</td>\n",
       "    </tr>\n",
       "    <tr>\n",
       "      <th>4</th>\n",
       "      <td>4</td>\n",
       "      <td>CCCNC(=O)[C@@H](C)[NH2+]C[C@@H](O)c1ccc(F)cc1F</td>\n",
       "      <td>[0, 1]</td>\n",
       "      <td>initial</td>\n",
       "      <td>-2.188841</td>\n",
       "      <td>-0.943483</td>\n",
       "      <td>-1.345862</td>\n",
       "      <td>0.100504</td>\n",
       "    </tr>\n",
       "    <tr>\n",
       "      <th>...</th>\n",
       "      <td>...</td>\n",
       "      <td>...</td>\n",
       "      <td>...</td>\n",
       "      <td>...</td>\n",
       "      <td>...</td>\n",
       "      <td>...</td>\n",
       "      <td>...</td>\n",
       "      <td>...</td>\n",
       "    </tr>\n",
       "    <tr>\n",
       "      <th>95</th>\n",
       "      <td>95</td>\n",
       "      <td>COc1ccc(CN2CCC[C@@H](c3ncccc3S(C)(=O)=O)C2)cc1</td>\n",
       "      <td>[0, 1]</td>\n",
       "      <td>initial</td>\n",
       "      <td>0.887746</td>\n",
       "      <td>0.507832</td>\n",
       "      <td>0.279410</td>\n",
       "      <td>0.100504</td>\n",
       "    </tr>\n",
       "    <tr>\n",
       "      <th>96</th>\n",
       "      <td>96</td>\n",
       "      <td>COC(=O)[C@@H](C)OC(=O)[C@H](C)N1C(=O)c2ccccc2C1=O</td>\n",
       "      <td>[0, 1]</td>\n",
       "      <td>initial</td>\n",
       "      <td>-0.766413</td>\n",
       "      <td>0.275871</td>\n",
       "      <td>-1.142788</td>\n",
       "      <td>0.100504</td>\n",
       "    </tr>\n",
       "    <tr>\n",
       "      <th>97</th>\n",
       "      <td>97</td>\n",
       "      <td>CCc1nnc(NC(=O)CSc2ncnc3c2cnn3-c2ccc(Cl)cc2)s1</td>\n",
       "      <td>[0, 1]</td>\n",
       "      <td>initial</td>\n",
       "      <td>1.571731</td>\n",
       "      <td>0.689861</td>\n",
       "      <td>0.781366</td>\n",
       "      <td>0.100504</td>\n",
       "    </tr>\n",
       "    <tr>\n",
       "      <th>98</th>\n",
       "      <td>98</td>\n",
       "      <td>COc1ccc(CCC(=O)c2ccc(C)cc2)cc1</td>\n",
       "      <td>[0, 1]</td>\n",
       "      <td>initial</td>\n",
       "      <td>2.903625</td>\n",
       "      <td>1.882404</td>\n",
       "      <td>0.920718</td>\n",
       "      <td>0.100504</td>\n",
       "    </tr>\n",
       "    <tr>\n",
       "      <th>99</th>\n",
       "      <td>99</td>\n",
       "      <td>COC(=O)N1CC[C@H]([NH2+][C@H](C)c2ccc(OC)cc2OC)C1</td>\n",
       "      <td>[0, 1]</td>\n",
       "      <td>initial</td>\n",
       "      <td>-1.676340</td>\n",
       "      <td>-0.900595</td>\n",
       "      <td>-0.876249</td>\n",
       "      <td>0.100504</td>\n",
       "    </tr>\n",
       "  </tbody>\n",
       "</table>\n",
       "<p>100 rows × 8 columns</p>\n",
       "</div>"
      ],
      "text/plain": [
       "    compound_id                                             smiles generation  \\\n",
       "0             0                COCCCn1ccc(NC(=O)c2cnn(C(C)C)c2C)n1     [0, 1]   \n",
       "1             1             Cc1cnn(CCCNC(=O)NC[C@@H]2CCC[C@H]2O)c1     [0, 1]   \n",
       "2             2  [H]N=C(N([H])C(=NC([H])(C([H])([H])[H])C([H])(...     [0, 1]   \n",
       "3             3                  Cc1cc(CNC[C@H](O)c2ccccc2F)ccc1Br     [0, 1]   \n",
       "4             4     CCCNC(=O)[C@@H](C)[NH2+]C[C@@H](O)c1ccc(F)cc1F     [0, 1]   \n",
       "..          ...                                                ...        ...   \n",
       "95           95     COc1ccc(CN2CCC[C@@H](c3ncccc3S(C)(=O)=O)C2)cc1     [0, 1]   \n",
       "96           96  COC(=O)[C@@H](C)OC(=O)[C@H](C)N1C(=O)c2ccccc2C1=O     [0, 1]   \n",
       "97           97      CCc1nnc(NC(=O)CSc2ncnc3c2cnn3-c2ccc(Cl)cc2)s1     [0, 1]   \n",
       "98           98                     COc1ccc(CCC(=O)c2ccc(C)cc2)cc1     [0, 1]   \n",
       "99           99   COC(=O)N1CC[C@H]([NH2+][C@H](C)c2ccc(OC)cc2OC)C1     [0, 1]   \n",
       "\n",
       "     source  Combined_fitness  SA_score  LogP_score  Cycle_score  \n",
       "0   initial          0.592967  0.630444   -0.137981     0.100504  \n",
       "1   initial         -0.976867 -0.114956   -0.962415     0.100504  \n",
       "2   initial          0.177184  0.389833   -0.313153     0.100504  \n",
       "3   initial          1.669802  0.715910    0.853388     0.100504  \n",
       "4   initial         -2.188841 -0.943483   -1.345862     0.100504  \n",
       "..      ...               ...       ...         ...          ...  \n",
       "95  initial          0.887746  0.507832    0.279410     0.100504  \n",
       "96  initial         -0.766413  0.275871   -1.142788     0.100504  \n",
       "97  initial          1.571731  0.689861    0.781366     0.100504  \n",
       "98  initial          2.903625  1.882404    0.920718     0.100504  \n",
       "99  initial         -1.676340 -0.900595   -0.876249     0.100504  \n",
       "\n",
       "[100 rows x 8 columns]"
      ]
     },
     "execution_count": 31,
     "metadata": {},
     "output_type": "execute_result"
    }
   ],
   "source": [
    "all_scores"
   ]
  },
  {
   "cell_type": "code",
   "execution_count": 32,
   "id": "4001feeb-dd50-4e54-b681-a79b5db5fec6",
   "metadata": {
    "tags": []
   },
   "outputs": [
    {
     "data": {
      "text/plain": [
       "Text(0.5, 1.0, 'Combined Fitness Score Distribution for Initial Population')"
      ]
     },
     "execution_count": 32,
     "metadata": {},
     "output_type": "execute_result"
    },
    {
     "data": {
      "image/png": "[encoded data removed]",
      "text/plain": [
       "<Figure size 640x480 with 1 Axes>"
      ]
     },
     "metadata": {},
     "output_type": "display_data"
    }
   ],
   "source": [
    "all_scores['Combined_fitness'].hist(bins=15)\n",
    "plt.title('Combined Fitness Score Distribution for Initial Population')"
   ]
  },
  {
   "cell_type": "code",
   "execution_count": null,
   "id": "9c99c526-307c-40a8-9767-60d45ee85e8f",
   "metadata": {
    "tags": []
   },
   "outputs": [],
   "source": [
    "all_scores['LogP_score'].hist(bins=15)\n",
    "plt.title('LogP Score Distribution for Initial Population')"
   ]
  },
  {
   "cell_type": "code",
   "execution_count": null,
   "id": "39fb8d61-6eb5-40e3-a27e-649d8310f583",
   "metadata": {
    "tags": []
   },
   "outputs": [],
   "source": [
    "all_scores['SA_score'].hist(bins=15)\n",
    "plt.title('Syntehic Accessibility Score Distribution for Initial Population')"
   ]
  },
  {
   "cell_type": "code",
   "execution_count": 25,
   "id": "04ece51f-1dc7-414d-bddc-d7cf297792bc",
   "metadata": {
    "tags": []
   },
   "outputs": [
    {
     "data": {
      "text/plain": [
       "Text(0.5, 1.0, 'Cycle Score Distribution for Initial Population')"
      ]
     },
     "execution_count": 25,
     "metadata": {},
     "output_type": "execute_result"
    },
    {
     "data": {
      "image/png": "[encoded data removed]",
      "text/plain": [
       "<Figure size 640x480 with 1 Axes>"
      ]
     },
     "metadata": {},
     "output_type": "display_data"
    }
   ],
   "source": [
    "all_scores['Cycle_score'].hist(bins=15)\n",
    "plt.title('Cycle Score Distribution for Initial Population')"
   ]
  },
  {
   "cell_type": "code",
   "execution_count": null,
   "id": "2a0924cd-d451-47f3-82f2-4fadc91f69db",
   "metadata": {},
   "outputs": [],
   "source": [
    "all_scorres.m"
   ]
  }
 ],
 "metadata": {
  "environment": {
   "kernel": "python3",
   "name": "common-cpu.m117",
   "type": "gcloud",
   "uri": "us-docker.pkg.dev/deeplearning-platform-release/gcr.io/base-cpu:m117"
  },
  "kernelspec": {
   "display_name": "Python 3",
   "language": "python",
   "name": "python3"
  },
  "language_info": {
   "codemirror_mode": {
    "name": "ipython",
    "version": 3
   },
   "file_extension": ".py",
   "mimetype": "text/x-python",
   "name": "python",
   "nbconvert_exporter": "python",
   "pygments_lexer": "ipython3",
   "version": "3.10.13"
  }
 },
 "nbformat": 4,
 "nbformat_minor": 5
}
