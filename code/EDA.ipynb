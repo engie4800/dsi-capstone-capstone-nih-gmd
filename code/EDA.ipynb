{
 "cells": [
  {
   "cell_type": "markdown",
   "id": "dd135de6-1ce8-4647-b4b0-1601b6e66029",
   "metadata": {
    "tags": []
   },
   "source": [
    "### Exploration of Results"
   ]
  },
  {
   "cell_type": "markdown",
   "id": "e17a0652-930a-47da-8f03-6eec2196a04c",
   "metadata": {},
   "source": [
    "#### Imports"
   ]
  },
  {
   "cell_type": "code",
   "execution_count": 16,
   "id": "72e4d7e8-9291-4b12-8afa-2b0ae3c5ff41",
   "metadata": {
    "tags": []
   },
   "outputs": [],
   "source": [
    "import os\n",
    "import shutil\n",
    "import pandas as pd\n",
    "import matplotlib.pyplot as plt\n",
    "import seaborn as sns"
   ]
  },
  {
   "cell_type": "markdown",
   "id": "94fdeb90-52eb-4dd5-9489-2bc88d8580fa",
   "metadata": {},
   "source": [
    "#### Results Produced by FNLGMD"
   ]
  },
  {
   "cell_type": "code",
   "execution_count": 21,
   "id": "66ec211d-d043-48c5-b74f-ec9a2a11e7e1",
   "metadata": {
    "tags": []
   },
   "outputs": [
    {
     "data": {
      "text/html": [
       "<div>\n",
       "<style scoped>\n",
       "    .dataframe tbody tr th:only-of-type {\n",
       "        vertical-align: middle;\n",
       "    }\n",
       "\n",
       "    .dataframe tbody tr th {\n",
       "        vertical-align: top;\n",
       "    }\n",
       "\n",
       "    .dataframe thead th {\n",
       "        text-align: right;\n",
       "    }\n",
       "</style>\n",
       "<table border=\"1\" class=\"dataframe\">\n",
       "  <thead>\n",
       "    <tr style=\"text-align: right;\">\n",
       "      <th></th>\n",
       "      <th>compound_id</th>\n",
       "      <th>smiles</th>\n",
       "      <th>generation</th>\n",
       "      <th>chromosome</th>\n",
       "      <th>fitness</th>\n",
       "      <th>parent1_id</th>\n",
       "      <th>parent2_id</th>\n",
       "    </tr>\n",
       "  </thead>\n",
       "  <tbody>\n",
       "    <tr>\n",
       "      <th>60</th>\n",
       "      <td>80</td>\n",
       "      <td>CC1CC(=O)n2c(-c3ccc(O)c(F)c3)nnc21</td>\n",
       "      <td>[1]</td>\n",
       "      <td>[-1.54587722e+00 -6.39218688e-01  7.93730080e-...</td>\n",
       "      <td>-0.829414</td>\n",
       "      <td>30.0</td>\n",
       "      <td>39.0</td>\n",
       "    </tr>\n",
       "    <tr>\n",
       "      <th>61</th>\n",
       "      <td>81</td>\n",
       "      <td>Cc1cc(O)cc(C2CCCC(Cc3cccc(F)c3)[NH2+]2)c1</td>\n",
       "      <td>[1]</td>\n",
       "      <td>[ 1.77700686e+00 -1.44971299e+00 -1.96455073e+...</td>\n",
       "      <td>-0.998122</td>\n",
       "      <td>4.0</td>\n",
       "      <td>7.0</td>\n",
       "    </tr>\n",
       "    <tr>\n",
       "      <th>62</th>\n",
       "      <td>82</td>\n",
       "      <td>O=C(NCc1ccccc1F)c1ccn(-c2ccccc2F)n1</td>\n",
       "      <td>[1]</td>\n",
       "      <td>[-1.699806    0.09049909  1.616961    0.408297...</td>\n",
       "      <td>1.552954</td>\n",
       "      <td>18.0</td>\n",
       "      <td>43.0</td>\n",
       "    </tr>\n",
       "    <tr>\n",
       "      <th>63</th>\n",
       "      <td>83</td>\n",
       "      <td>COC(C)(C[NH+]1CCCCC1Cc1cccs1)c1ccccc1</td>\n",
       "      <td>[1]</td>\n",
       "      <td>[-0.09236439 -1.449713    0.8893906   0.844483...</td>\n",
       "      <td>-1.602620</td>\n",
       "      <td>21.0</td>\n",
       "      <td>4.0</td>\n",
       "    </tr>\n",
       "    <tr>\n",
       "      <th>64</th>\n",
       "      <td>84</td>\n",
       "      <td>Cc1ccc(N2CCC=C2c2ccc([N-]S(=O)(=O)CC3CCCO3)cc2...</td>\n",
       "      <td>[1]</td>\n",
       "      <td>[-1.41028523e+00 -7.57072568e-02 -4.29602534e-...</td>\n",
       "      <td>0.365324</td>\n",
       "      <td>18.0</td>\n",
       "      <td>8.0</td>\n",
       "    </tr>\n",
       "  </tbody>\n",
       "</table>\n",
       "</div>"
      ],
      "text/plain": [
       "    compound_id                                             smiles generation  \\\n",
       "60           80                 CC1CC(=O)n2c(-c3ccc(O)c(F)c3)nnc21        [1]   \n",
       "61           81          Cc1cc(O)cc(C2CCCC(Cc3cccc(F)c3)[NH2+]2)c1        [1]   \n",
       "62           82                O=C(NCc1ccccc1F)c1ccn(-c2ccccc2F)n1        [1]   \n",
       "63           83              COC(C)(C[NH+]1CCCCC1Cc1cccs1)c1ccccc1        [1]   \n",
       "64           84  Cc1ccc(N2CCC=C2c2ccc([N-]S(=O)(=O)CC3CCCO3)cc2...        [1]   \n",
       "\n",
       "                                           chromosome   fitness  parent1_id  \\\n",
       "60  [-1.54587722e+00 -6.39218688e-01  7.93730080e-... -0.829414        30.0   \n",
       "61  [ 1.77700686e+00 -1.44971299e+00 -1.96455073e+... -0.998122         4.0   \n",
       "62  [-1.699806    0.09049909  1.616961    0.408297...  1.552954        18.0   \n",
       "63  [-0.09236439 -1.449713    0.8893906   0.844483... -1.602620        21.0   \n",
       "64  [-1.41028523e+00 -7.57072568e-02 -4.29602534e-...  0.365324        18.0   \n",
       "\n",
       "    parent2_id  \n",
       "60        39.0  \n",
       "61         7.0  \n",
       "62        43.0  \n",
       "63         4.0  \n",
       "64         8.0  "
      ]
     },
     "execution_count": 21,
     "metadata": {},
     "output_type": "execute_result"
    }
   ],
   "source": [
    "base_fp = './FNLGMD/examples/LogP_JTVAE'\n",
    "results = pd.read_csv(os.path.join(base_fp, 'data_all_generations.csv'))\n",
    "results[60:65]"
   ]
  },
  {
   "cell_type": "markdown",
   "id": "55098f15-6636-47b7-be48-de062bb59e8e",
   "metadata": {},
   "source": [
    "#### Plotting a Histogram of Fitness Scores"
   ]
  },
  {
   "cell_type": "code",
   "execution_count": 22,
   "id": "bd102a92-c08c-4c7c-8a5d-a3720a30c911",
   "metadata": {
    "tags": []
   },
   "outputs": [
    {
     "name": "stderr",
     "output_type": "stream",
     "text": [
      "/opt/conda/lib/python3.10/site-packages/seaborn/_oldcore.py:1119: FutureWarning: use_inf_as_na option is deprecated and will be removed in a future version. Convert inf values to NaN before operating instead.\n",
      "  with pd.option_context('mode.use_inf_as_na', True):\n"
     ]
    },
    {
     "data": {
      "image/png": "[encoded data removed]",
      "text/plain": [
       "<Figure size 640x480 with 1 Axes>"
      ]
     },
     "metadata": {},
     "output_type": "display_data"
    }
   ],
   "source": [
    "sns.set_style('darkgrid')\n",
    "sns.histplot(results['fitness'])\n",
    "plt.title('Histogram of Fitness Scores')\n",
    "plt.show()"
   ]
  },
  {
   "cell_type": "code",
   "execution_count": 16,
   "id": "5e845efe-d952-497f-b264-07f1b812db4f",
   "metadata": {
    "tags": []
   },
   "outputs": [
    {
     "data": {
      "text/html": [
       "<div>\n",
       "<style scoped>\n",
       "    .dataframe tbody tr th:only-of-type {\n",
       "        vertical-align: middle;\n",
       "    }\n",
       "\n",
       "    .dataframe tbody tr th {\n",
       "        vertical-align: top;\n",
       "    }\n",
       "\n",
       "    .dataframe thead th {\n",
       "        text-align: right;\n",
       "    }\n",
       "</style>\n",
       "<table border=\"1\" class=\"dataframe\">\n",
       "  <thead>\n",
       "    <tr style=\"text-align: right;\">\n",
       "      <th></th>\n",
       "      <th>compound_id</th>\n",
       "      <th>smiles</th>\n",
       "      <th>generation</th>\n",
       "      <th>chromosome</th>\n",
       "      <th>fitness</th>\n",
       "      <th>parent1_id</th>\n",
       "      <th>parent2_id</th>\n",
       "    </tr>\n",
       "  </thead>\n",
       "  <tbody>\n",
       "    <tr>\n",
       "      <th>60</th>\n",
       "      <td>77</td>\n",
       "      <td>CCC(NC(=O)N(CC)CCc1ccccc1)c1nc(N)nc(N2CCOCC2)n1</td>\n",
       "      <td>[1]</td>\n",
       "      <td>[-0.05668427 -0.36897016 -0.8953486  -2.489291...</td>\n",
       "      <td>-0.241171</td>\n",
       "      <td>7.0</td>\n",
       "      <td>47.0</td>\n",
       "    </tr>\n",
       "    <tr>\n",
       "      <th>61</th>\n",
       "      <td>78</td>\n",
       "      <td>Cc1c([N+](=O)[O-])ccc2c1C(C(=O)NCc1cc(Cl)c3c(n...</td>\n",
       "      <td>[1]</td>\n",
       "      <td>[ 1.95734024e+00  8.31297874e+00 -1.70360255e+...</td>\n",
       "      <td>0.289002</td>\n",
       "      <td>46.0</td>\n",
       "      <td>46.0</td>\n",
       "    </tr>\n",
       "    <tr>\n",
       "      <th>62</th>\n",
       "      <td>79</td>\n",
       "      <td>COCC([NH2+]c1nc2ccccc2o1)c1ccc[nH]1</td>\n",
       "      <td>[1]</td>\n",
       "      <td>[-2.24199742e-02 -5.24369180e-01  9.62527692e-...</td>\n",
       "      <td>-1.597917</td>\n",
       "      <td>2.0</td>\n",
       "      <td>22.0</td>\n",
       "    </tr>\n",
       "    <tr>\n",
       "      <th>63</th>\n",
       "      <td>80</td>\n",
       "      <td>COCC(SCc1cccnc1)(c1ccccc1)n1cnc2ccccc21</td>\n",
       "      <td>[1]</td>\n",
       "      <td>[-1.41486335e+00 -4.10914570e-01 -3.33527535e-...</td>\n",
       "      <td>1.606393</td>\n",
       "      <td>12.0</td>\n",
       "      <td>34.0</td>\n",
       "    </tr>\n",
       "    <tr>\n",
       "      <th>64</th>\n",
       "      <td>81</td>\n",
       "      <td>COC(C)c1ccc(C([NH3+])c2nnc(C3CC4CCC3C4)o2)cc1</td>\n",
       "      <td>[1]</td>\n",
       "      <td>[-1.31167293e+00 -1.36703253e-02  9.62527692e-...</td>\n",
       "      <td>-2.019976</td>\n",
       "      <td>17.0</td>\n",
       "      <td>22.0</td>\n",
       "    </tr>\n",
       "  </tbody>\n",
       "</table>\n",
       "</div>"
      ],
      "text/plain": [
       "    compound_id                                             smiles generation  \\\n",
       "60           77    CCC(NC(=O)N(CC)CCc1ccccc1)c1nc(N)nc(N2CCOCC2)n1        [1]   \n",
       "61           78  Cc1c([N+](=O)[O-])ccc2c1C(C(=O)NCc1cc(Cl)c3c(n...        [1]   \n",
       "62           79                COCC([NH2+]c1nc2ccccc2o1)c1ccc[nH]1        [1]   \n",
       "63           80            COCC(SCc1cccnc1)(c1ccccc1)n1cnc2ccccc21        [1]   \n",
       "64           81      COC(C)c1ccc(C([NH3+])c2nnc(C3CC4CCC3C4)o2)cc1        [1]   \n",
       "\n",
       "                                           chromosome   fitness  parent1_id  \\\n",
       "60  [-0.05668427 -0.36897016 -0.8953486  -2.489291... -0.241171         7.0   \n",
       "61  [ 1.95734024e+00  8.31297874e+00 -1.70360255e+...  0.289002        46.0   \n",
       "62  [-2.24199742e-02 -5.24369180e-01  9.62527692e-... -1.597917         2.0   \n",
       "63  [-1.41486335e+00 -4.10914570e-01 -3.33527535e-...  1.606393        12.0   \n",
       "64  [-1.31167293e+00 -1.36703253e-02  9.62527692e-... -2.019976        17.0   \n",
       "\n",
       "    parent2_id  \n",
       "60        47.0  \n",
       "61        46.0  \n",
       "62        22.0  \n",
       "63        34.0  \n",
       "64        22.0  "
      ]
     },
     "execution_count": 16,
     "metadata": {},
     "output_type": "execute_result"
    }
   ],
   "source": [
    "results2 = pd.read_csv(os.path.join(fp, 'data_all_generations.csv'))\n",
    "results2[60:65]"
   ]
  },
  {
   "cell_type": "code",
   "execution_count": 17,
   "id": "265f1a0e-baae-447b-94f6-a7b757a27027",
   "metadata": {
    "tags": []
   },
   "outputs": [
    {
     "name": "stderr",
     "output_type": "stream",
     "text": [
      "/opt/conda/lib/python3.10/site-packages/seaborn/_oldcore.py:1119: FutureWarning: use_inf_as_na option is deprecated and will be removed in a future version. Convert inf values to NaN before operating instead.\n",
      "  with pd.option_context('mode.use_inf_as_na', True):\n"
     ]
    },
    {
     "data": {
      "text/plain": [
       "Text(0.5, 1.0, 'Histogram of Fitness Scores')"
      ]
     },
     "execution_count": 17,
     "metadata": {},
     "output_type": "execute_result"
    },
    {
     "data": {
      "image/png": "[encoded data removed]",
      "text/plain": [
       "<Figure size 640x480 with 1 Axes>"
      ]
     },
     "metadata": {},
     "output_type": "display_data"
    }
   ],
   "source": [
    "sns.set_style('darkgrid')\n",
    "sns.histplot(results2['fitness'])\n",
    "plt.title('Histogram of Fitness Scores')"
   ]
  },
  {
   "cell_type": "code",
   "execution_count": 19,
   "id": "dac5e03d-6f3f-4624-a321-e645eb73b950",
   "metadata": {
    "tags": []
   },
   "outputs": [
    {
     "data": {
      "text/plain": [
       "count    1.050000e+02\n",
       "mean     7.401487e-17\n",
       "std      2.040743e+00\n",
       "min     -6.595036e+00\n",
       "25%     -1.230577e+00\n",
       "50%      2.030236e-01\n",
       "75%      1.452237e+00\n",
       "max      3.629061e+00\n",
       "Name: fitness, dtype: float64"
      ]
     },
     "execution_count": 19,
     "metadata": {},
     "output_type": "execute_result"
    }
   ],
   "source": [
    "results2['fitness'].describe()"
   ]
  },
  {
   "cell_type": "code",
   "execution_count": 22,
   "id": "9caa1296-c85b-4e67-b528-89a2a9e3c060",
   "metadata": {
    "tags": []
   },
   "outputs": [
    {
     "data": {
      "text/plain": [
       "count    7.000000e+01\n",
       "mean    -4.060244e-16\n",
       "std      1.755205e+00\n",
       "min     -5.325605e+00\n",
       "25%     -9.709180e-01\n",
       "50%      1.175682e-01\n",
       "75%      1.310428e+00\n",
       "max      3.317549e+00\n",
       "Name: fitness, dtype: float64"
      ]
     },
     "execution_count": 22,
     "metadata": {},
     "output_type": "execute_result"
    }
   ],
   "source": [
    "results['fitness'].describe()"
   ]
  },
  {
   "cell_type": "code",
   "execution_count": 47,
   "id": "df14d922-2201-495c-ad51-126b6e2e71bb",
   "metadata": {
    "tags": []
   },
   "outputs": [],
   "source": [
    "x = results['fitness']\n",
    "y = results2['fitness']"
   ]
  },
  {
   "cell_type": "code",
   "execution_count": 25,
   "id": "10fa63a7-2bce-472c-a989-6742e08a1827",
   "metadata": {
    "tags": []
   },
   "outputs": [
    {
     "data": {
      "text/plain": [
       "3.3175485709625465"
      ]
     },
     "execution_count": 25,
     "metadata": {},
     "output_type": "execute_result"
    }
   ],
   "source": [
    "results['fitness'].max()"
   ]
  },
  {
   "cell_type": "code",
   "execution_count": 43,
   "id": "4a0be5c4-d81e-4c0d-a365-9842c33a12c9",
   "metadata": {
    "tags": []
   },
   "outputs": [],
   "source": [
    "results1 = pd.read_csv(os.path.join(fp, 'data_all_generations-3.csv'))\n"
   ]
  },
  {
   "cell_type": "code",
   "execution_count": null,
   "id": "ae038a7b-9e1d-42a4-82c0-27ec745110b2",
   "metadata": {},
   "outputs": [],
   "source": [
    "x = results1['fitness']"
   ]
  },
  {
   "cell_type": "code",
   "execution_count": 48,
   "id": "4e7d22d0-ea31-4b27-ae3d-e30ca9fa4b84",
   "metadata": {
    "tags": []
   },
   "outputs": [
    {
     "name": "stderr",
     "output_type": "stream",
     "text": [
      "/var/tmp/ipykernel_1428375/4175141432.py:9: UserWarning: \n",
      "\n",
      "`distplot` is a deprecated function and will be removed in seaborn v0.14.0.\n",
      "\n",
      "Please adapt your code to use either `displot` (a figure-level function with\n",
      "similar flexibility) or `histplot` (an axes-level function for histograms).\n",
      "\n",
      "For a guide to updating your code to use the new functions, please see\n",
      "https://gist.github.com/mwaskom/de44147ed2974457ad6372750bbe5751\n",
      "\n",
      "  sns.distplot(a, bins=20, ax=ax, kde=False, label=labs[count])\n"
     ]
    },
    {
     "data": {
      "image/png": "[encoded data removed]",
      "text/plain": [
       "<Figure size 640x480 with 1 Axes>"
      ]
     },
     "metadata": {},
     "output_type": "display_data"
    }
   ],
   "source": [
    "# 0-3 balanced\n",
    "# 3 + lipophyllic\n",
    "# 0 - hydrophilic\n",
    "\n",
    "labs = ['Smaller Ouptut', 'Larger Output']\n",
    "count = 0\n",
    "fig, ax = plt.subplots()\n",
    "for a in [x, y]:\n",
    "    sns.distplot(a, bins=20, ax=ax, kde=False, label=labs[count])\n",
    "    count +=1\n",
    "ax.set_xlim([-7, 4])\n",
    "plt.title('Histogram of fitness scores')\n",
    "plt.xlabel('Fitness')\n",
    "plt.ylabel('Count')\n",
    "plt.legend()\n",
    "plt.show()"
   ]
  },
  {
   "cell_type": "code",
   "execution_count": 52,
   "id": "8d3006c2-0959-44a6-be3f-69ccd66e735f",
   "metadata": {
    "tags": []
   },
   "outputs": [
    {
     "name": "stderr",
     "output_type": "stream",
     "text": [
      "/var/tmp/ipykernel_1428375/1220979841.py:6: UserWarning: \n",
      "\n",
      "`distplot` is a deprecated function and will be removed in seaborn v0.14.0.\n",
      "\n",
      "Please adapt your code to use either `displot` (a figure-level function with\n",
      "similar flexibility) or `histplot` (an axes-level function for histograms).\n",
      "\n",
      "For a guide to updating your code to use the new functions, please see\n",
      "https://gist.github.com/mwaskom/de44147ed2974457ad6372750bbe5751\n",
      "\n",
      "  sns.distplot(a, bins=20, ax=ax, kde=False, label=labs[count])\n"
     ]
    },
    {
     "data": {
      "image/png": "[encoded data removed]",
      "text/plain": [
       "<Figure size 640x480 with 1 Axes>"
      ]
     },
     "metadata": {},
     "output_type": "display_data"
    }
   ],
   "source": [
    "y1 = results1['fitness']\n",
    "labs = ['Smaller mate_prob', 'Larger mate_prob']\n",
    "count = 0\n",
    "fig, ax = plt.subplots()\n",
    "for a in [x, y1]:\n",
    "    sns.distplot(a, bins=20, ax=ax, kde=False, label=labs[count])\n",
    "    count +=1\n",
    "ax.set_xlim([-12, 4])\n",
    "plt.title('Histogram of fitness scores')\n",
    "plt.xlabel('Fitness')\n",
    "plt.ylabel('Count')\n",
    "plt.legend()\n",
    "plt.show()"
   ]
  }
 ],
 "metadata": {
  "environment": {
   "kernel": "python3",
   "name": "common-cpu.m117",
   "type": "gcloud",
   "uri": "us-docker.pkg.dev/deeplearning-platform-release/gcr.io/base-cpu:m117"
  },
  "kernelspec": {
   "display_name": "Python 3",
   "language": "python",
   "name": "python3"
  },
  "language_info": {
   "codemirror_mode": {
    "name": "ipython",
    "version": 3
   },
   "file_extension": ".py",
   "mimetype": "text/x-python",
   "name": "python",
   "nbconvert_exporter": "python",
   "pygments_lexer": "ipython3",
   "version": "3.10.13"
  }
 },
 "nbformat": 4,
 "nbformat_minor": 5
}
