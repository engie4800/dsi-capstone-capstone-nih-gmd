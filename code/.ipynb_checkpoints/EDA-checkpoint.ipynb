{
 "cells": [
  {
   "cell_type": "markdown",
   "id": "dd135de6-1ce8-4647-b4b0-1601b6e66029",
   "metadata": {
    "tags": []
   },
   "source": [
    "### Exploration of Results"
   ]
  },
  {
   "cell_type": "markdown",
   "id": "e17a0652-930a-47da-8f03-6eec2196a04c",
   "metadata": {},
   "source": [
    "#### Imports"
   ]
  },
  {
   "cell_type": "code",
   "execution_count": null,
   "id": "72e4d7e8-9291-4b12-8afa-2b0ae3c5ff41",
   "metadata": {
    "tags": []
   },
   "outputs": [],
   "source": [
    "import os\n",
    "import shutil\n",
    "import numpy as np\n",
    "import pandas as pd\n",
    "import matplotlib.pyplot as plt\n",
    "import seaborn as sns"
   ]
  },
  {
   "cell_type": "markdown",
   "id": "c707c8d1-f652-4c16-b59e-e503e53c551a",
   "metadata": {},
   "source": [
    "### Summary of Original Population\n",
    "\n",
    "#### Reading in the full text file\n",
    "\n",
    "This is the LogP dataset appended to the Zinc dataset, so that no key errors come when generating compounds"
   ]
  },
  {
   "cell_type": "code",
   "execution_count": null,
   "id": "6aa91bd1-b6b3-47cd-a40a-8e21d4cc46e4",
   "metadata": {
    "tags": []
   },
   "outputs": [],
   "source": [
    "base_fp = './FNLGMD/examples'\n",
    "tab = pd.read_table(os.path.join(base_fp, 'zinc_smiles_copy.txt'), header=None)\n",
    "tab.columns = ['smiles']\n",
    "tab.head()"
   ]
  },
  {
   "cell_type": "markdown",
   "id": "af3df9f9-625d-4e44-90ee-0b70937d18f9",
   "metadata": {},
   "source": [
    "#### Scoring the full dataset\n",
    "\n",
    "Below is the same score function that can be found in the framework, modified slightly to produced the desired outputs."
   ]
  },
  {
   "cell_type": "code",
   "execution_count": 3,
   "id": "b07b6091-1d79-4f5f-a259-8260a829fda9",
   "metadata": {
    "tags": []
   },
   "outputs": [],
   "source": [
    "from FNLGMD.source.scorers.SAScore import sascorer\n",
    "from FNLGMD.source.scorers.base_scorer import Scorer\n",
    "from rdkit.Chem import MolFromSmiles, MolToSmiles, Descriptors, rdmolops\n",
    "import networkx as nx\n",
    "\n",
    "def score(population):\n",
    "\n",
    "    smiles = population['smiles']\n",
    "    smiles_rdkit = []\n",
    "    for s in smiles:\n",
    "        mol = MolFromSmiles(s)\n",
    "        smi = MolToSmiles(mol,isomericSmiles=False)\n",
    "        smiles_rdkit.append(smi)\n",
    "\n",
    "    logP_values = []\n",
    "    for i in range(len(smiles_rdkit)):\n",
    "        logP_values.append(Descriptors.MolLogP(MolFromSmiles(smiles_rdkit[ i ])))\n",
    "\n",
    "    SA_scores = []\n",
    "    for i in range(len(smiles_rdkit)):\n",
    "        SA_scores.append(-sascorer.calculateScore(MolFromSmiles(smiles_rdkit[ i ])))\n",
    "\n",
    "    cycle_scores = []\n",
    "\n",
    "    for i in range(len(smiles_rdkit)):\n",
    "        cycle_list = nx.cycle_basis(nx.Graph(rdmolops.GetAdjacencyMatrix(MolFromSmiles(smiles_rdkit[ i ]))))\n",
    "\n",
    "        if len(cycle_list) == 0:\n",
    "            cycle_length = 0\n",
    "        else:\n",
    "            cycle_length = max([ len(j) for j in cycle_list ])\n",
    "        if cycle_length <= 6:\n",
    "            cycle_length = 0\n",
    "        else:\n",
    "            cycle_length = cycle_length - 6\n",
    "        cycle_scores.append(-cycle_length)\n",
    "\n",
    "    SA_scores_normalized = (np.array(SA_scores) - np.mean(SA_scores)) / np.std(SA_scores)\n",
    "    logP_values_normalized = (np.array(logP_values) - np.mean(logP_values)) / np.std(logP_values)\n",
    "    cycle_scores_normalized = (np.array(cycle_scores) - np.mean(cycle_scores)) / np.std(cycle_scores)\n",
    "\n",
    "    SA_scores_normalized[np.isnan(SA_scores_normalized)] = 0.0\n",
    "    logP_values_normalized[np.isnan(logP_values_normalized)] = 0.0\n",
    "    cycle_scores_normalized[np.isnan(cycle_scores_normalized)] = 0.0\n",
    "\n",
    "    targets = SA_scores_normalized + logP_values_normalized + cycle_scores_normalized\n",
    "    population['fitness'] = targets\n",
    "\n",
    "    return logP_values, SA_scores, cycle_scores, targets"
   ]
  },
  {
   "cell_type": "code",
   "execution_count": 4,
   "id": "fa53fabd-2a73-4a12-9f7b-1a9c8f86813e",
   "metadata": {
    "tags": []
   },
   "outputs": [],
   "source": [
    "logP_values, SA_scores, cycle_scores, targets = score(tab)"
   ]
  },
  {
   "cell_type": "code",
   "execution_count": null,
   "id": "30d67367-1346-47d5-898b-0b79a4760eee",
   "metadata": {
    "tags": []
   },
   "outputs": [],
   "source": [
    "tab['fitness'] = targets\n",
    "tab['logP'] = logP_values\n",
    "tab['SA_scores'] = SA_scores\n",
    "tab['cycle_scores'] = cycle_scores\n",
    "\n",
    "tab.to_csv('./examples/all_scores.csv')"
   ]
  },
  {
   "cell_type": "code",
   "execution_count": null,
   "id": "d4f6f703-1163-449d-91d5-71d51641b1c0",
   "metadata": {},
   "outputs": [],
   "source": [
    "# Normalize the scores"
   ]
  },
  {
   "cell_type": "code",
   "execution_count": 35,
   "id": "23e6134e-b13a-4ba3-8d7f-c4a6fc8c61ae",
   "metadata": {
    "tags": []
   },
   "outputs": [
    {
     "ename": "NameError",
     "evalue": "name 'logP_values_normalized' is not defined",
     "output_type": "error",
     "traceback": [
      "\u001b[0;31m---------------------------------------------------------------------------\u001b[0m",
      "\u001b[0;31mNameError\u001b[0m                                 Traceback (most recent call last)",
      "Cell \u001b[0;32mIn[35], line 6\u001b[0m\n\u001b[1;32m      3\u001b[0m warnings\u001b[38;5;241m.\u001b[39mfilterwarnings(\u001b[38;5;124m\"\u001b[39m\u001b[38;5;124mignore\u001b[39m\u001b[38;5;124m\"\u001b[39m)\n\u001b[1;32m      5\u001b[0m sns\u001b[38;5;241m.\u001b[39mset_style(style\u001b[38;5;241m=\u001b[39m\u001b[38;5;124m'\u001b[39m\u001b[38;5;124mdarkgrid\u001b[39m\u001b[38;5;124m'\u001b[39m)\n\u001b[0;32m----> 6\u001b[0m sns\u001b[38;5;241m.\u001b[39mhistplot(\u001b[43mlogP_values_normalized\u001b[49m, bins\u001b[38;5;241m=\u001b[39m\u001b[38;5;241m15\u001b[39m)\n\u001b[1;32m      7\u001b[0m plt\u001b[38;5;241m.\u001b[39mxlabel(\u001b[38;5;124m'\u001b[39m\u001b[38;5;124mFitness\u001b[39m\u001b[38;5;124m'\u001b[39m)\n\u001b[1;32m      8\u001b[0m plt\u001b[38;5;241m.\u001b[39mtitle(\u001b[38;5;124m'\u001b[39m\u001b[38;5;124mNormalized logP Score Distribution for Initial Population\u001b[39m\u001b[38;5;124m'\u001b[39m)\n",
      "\u001b[0;31mNameError\u001b[0m: name 'logP_values_normalized' is not defined"
     ]
    }
   ],
   "source": [
    "# Original Histogram of fitness scores \n",
    "import warnings\n",
    "warnings.filterwarnings(\"ignore\")\n",
    "\n",
    "sns.set_style(style='darkgrid')\n",
    "sns.histplot(logP_values_normalized, bins=15)\n",
    "plt.xlabel('Fitness')\n",
    "plt.title('Normalized logP Score Distribution for Initial Population')\n",
    "plt.savefig('./results/figures/initial_hist.png')\n",
    "plt.show()"
   ]
  },
  {
   "cell_type": "code",
   "execution_count": 158,
   "id": "99de634f-4cad-4d0f-a41d-2e3c1923d879",
   "metadata": {
    "tags": []
   },
   "outputs": [
    {
     "data": {
      "text/html": [
       "<div>\n",
       "<style scoped>\n",
       "    .dataframe tbody tr th:only-of-type {\n",
       "        vertical-align: middle;\n",
       "    }\n",
       "\n",
       "    .dataframe tbody tr th {\n",
       "        vertical-align: top;\n",
       "    }\n",
       "\n",
       "    .dataframe thead th {\n",
       "        text-align: right;\n",
       "    }\n",
       "</style>\n",
       "<table border=\"1\" class=\"dataframe\">\n",
       "  <thead>\n",
       "    <tr style=\"text-align: right;\">\n",
       "      <th></th>\n",
       "      <th>0</th>\n",
       "    </tr>\n",
       "  </thead>\n",
       "  <tbody>\n",
       "    <tr>\n",
       "      <th>count</th>\n",
       "      <td>2.621650e+05</td>\n",
       "    </tr>\n",
       "    <tr>\n",
       "      <th>mean</th>\n",
       "      <td>7.106105e-16</td>\n",
       "    </tr>\n",
       "    <tr>\n",
       "      <th>std</th>\n",
       "      <td>2.037665e+00</td>\n",
       "    </tr>\n",
       "    <tr>\n",
       "      <th>min</th>\n",
       "      <td>-7.615286e+01</td>\n",
       "    </tr>\n",
       "    <tr>\n",
       "      <th>25%</th>\n",
       "      <td>-1.053419e+00</td>\n",
       "    </tr>\n",
       "    <tr>\n",
       "      <th>50%</th>\n",
       "      <td>4.079961e-01</td>\n",
       "    </tr>\n",
       "    <tr>\n",
       "      <th>75%</th>\n",
       "      <td>1.402782e+00</td>\n",
       "    </tr>\n",
       "    <tr>\n",
       "      <th>max</th>\n",
       "      <td>6.249698e+00</td>\n",
       "    </tr>\n",
       "  </tbody>\n",
       "</table>\n",
       "</div>"
      ],
      "text/plain": [
       "                  0\n",
       "count  2.621650e+05\n",
       "mean   7.106105e-16\n",
       "std    2.037665e+00\n",
       "min   -7.615286e+01\n",
       "25%   -1.053419e+00\n",
       "50%    4.079961e-01\n",
       "75%    1.402782e+00\n",
       "max    6.249698e+00"
      ]
     },
     "execution_count": 158,
     "metadata": {},
     "output_type": "execute_result"
    }
   ],
   "source": [
    "pd.Series(targets).describe().to_frame()"
   ]
  },
  {
   "cell_type": "markdown",
   "id": "a6acd58d-bd1d-40ba-9eea-9d5e460f17d4",
   "metadata": {},
   "source": [
    "### Analyzing Results from Generated Populations"
   ]
  },
  {
   "cell_type": "markdown",
   "id": "c570046d-41df-498c-94a1-c96dc40df7c0",
   "metadata": {},
   "source": [
    "#### Reading in the data\n",
    "All csvs are labeled based on the parameters of mate and mutate probability used to generate the population"
   ]
  },
  {
   "cell_type": "code",
   "execution_count": null,
   "id": "3a2b522e-0ed1-4481-a2e3-3a1fdf5321e0",
   "metadata": {
    "tags": []
   },
   "outputs": [],
   "source": [
    "res_fp = './results'\n",
    "gen_files = [f for f in os.listdir(res_fp) if f.startswith('mate_07')]\n",
    "dats = [pd.read_csv(os.path.join(res_fp, f)) for f in gen_files]\n",
    "#fits = [(d['fitness'] - d['fitness'].mean())/d['fitness'].std(ddof=1) for d in dats]\n",
    "fits = [d['fitness'] for d in dats]"
   ]
  },
  {
   "cell_type": "code",
   "execution_count": 33,
   "id": "a6cdec92-4d3c-4236-b5d3-10acf9efce7a",
   "metadata": {
    "tags": []
   },
   "outputs": [
    {
     "ename": "NameError",
     "evalue": "name 'fits' is not defined",
     "output_type": "error",
     "traceback": [
      "\u001b[0;31m---------------------------------------------------------------------------\u001b[0m",
      "\u001b[0;31mNameError\u001b[0m                                 Traceback (most recent call last)",
      "Cell \u001b[0;32mIn[33], line 4\u001b[0m\n\u001b[1;32m      1\u001b[0m \u001b[38;5;28;01mimport\u001b[39;00m \u001b[38;5;21;01mmatplotlib\u001b[39;00m\u001b[38;5;21;01m.\u001b[39;00m\u001b[38;5;21;01mpyplot\u001b[39;00m \u001b[38;5;28;01mas\u001b[39;00m \u001b[38;5;21;01mplt\u001b[39;00m\n\u001b[1;32m      2\u001b[0m \u001b[38;5;28;01mimport\u001b[39;00m \u001b[38;5;21;01mnumpy\u001b[39;00m \u001b[38;5;28;01mas\u001b[39;00m \u001b[38;5;21;01mnp\u001b[39;00m\n\u001b[0;32m----> 4\u001b[0m data_to_plot \u001b[38;5;241m=\u001b[39m \u001b[43mfits\u001b[49m\n\u001b[1;32m      6\u001b[0m \u001b[38;5;66;03m# Creating box plots\u001b[39;00m\n\u001b[1;32m      7\u001b[0m plt\u001b[38;5;241m.\u001b[39mfigure(figsize\u001b[38;5;241m=\u001b[39m(\u001b[38;5;241m6\u001b[39m, \u001b[38;5;241m4\u001b[39m))\n",
      "\u001b[0;31mNameError\u001b[0m: name 'fits' is not defined"
     ]
    }
   ],
   "source": [
    "import matplotlib.pyplot as plt\n",
    "import numpy as np\n",
    "\n",
    "data_to_plot = fits\n",
    "\n",
    "# Creating box plots\n",
    "plt.figure(figsize=(6, 4))\n",
    "plt.boxplot(data_to_plot)\n",
    "\n",
    "# Setting the labels and title, if necessary\n",
    "plt.title('Box Plots of Fitness Score for Fixed Mate Probability')\n",
    "plt.xlabel('Mutate Probability')\n",
    "plt.xticks(ticks = [1, 2, 3, 4, 5], labels=[0.1, 0.15, 0.2, 0.25, 0.3])\n",
    "plt.ylabel('Fitness Score')\n",
    "plt.savefig('./results/figures/box1.png')\n",
    "\n",
    "# Showing the plot\n",
    "plt.show()"
   ]
  },
  {
   "cell_type": "code",
   "execution_count": 101,
   "id": "76fe4618-3768-4fcf-85c4-6f9921024658",
   "metadata": {
    "tags": []
   },
   "outputs": [],
   "source": [
    "gen_files = [f for f in os.listdir(res_fp) if 'mutate_01_' in f]\n",
    "dats = [pd.read_csv(os.path.join(res_fp, f)) for f in gen_files]\n",
    "fits = [d['fitness'] for d in dats]"
   ]
  },
  {
   "cell_type": "code",
   "execution_count": 108,
   "id": "c37cae75-4816-48c9-8414-a433038b2b0f",
   "metadata": {
    "tags": []
   },
   "outputs": [
    {
     "data": {
      "image/png": "[encoded data removed]",
      "text/plain": [
       "<Figure size 600x400 with 1 Axes>"
      ]
     },
     "metadata": {},
     "output_type": "display_data"
    }
   ],
   "source": [
    "data_to_plot = fits\n",
    "\n",
    "# Creating box plots\n",
    "plt.figure(figsize=(6, 4))\n",
    "plt.boxplot(data_to_plot)\n",
    "\n",
    "# Setting the labels and title, if necessary\n",
    "plt.title('Box Plots of Fitness Score for Constant Mutate Probability')\n",
    "plt.xlabel('Mate Probability')\n",
    "plt.xticks(ticks = [1, 2, 3, 4, 5], labels=[0.5, 0.6, 0.7, 0.8, 0.9])\n",
    "plt.ylabel('Fitness Score')\n",
    "plt.savefig('./results/figures/hist2.png')\n",
    "\n",
    "# Showing the plot\n",
    "plt.show()"
   ]
  },
  {
   "cell_type": "code",
   "execution_count": 114,
   "id": "4d63d419-30a0-4baf-a34a-188e04812bdd",
   "metadata": {
    "tags": []
   },
   "outputs": [
    {
     "data": {
      "text/html": [
       "<div>\n",
       "<style scoped>\n",
       "    .dataframe tbody tr th:only-of-type {\n",
       "        vertical-align: middle;\n",
       "    }\n",
       "\n",
       "    .dataframe tbody tr th {\n",
       "        vertical-align: top;\n",
       "    }\n",
       "\n",
       "    .dataframe thead th {\n",
       "        text-align: right;\n",
       "    }\n",
       "</style>\n",
       "<table border=\"1\" class=\"dataframe\">\n",
       "  <thead>\n",
       "    <tr style=\"text-align: right;\">\n",
       "      <th></th>\n",
       "      <th>smiles</th>\n",
       "      <th>fitness</th>\n",
       "      <th>logP</th>\n",
       "      <th>SA</th>\n",
       "      <th>cycle</th>\n",
       "    </tr>\n",
       "  </thead>\n",
       "  <tbody>\n",
       "    <tr>\n",
       "      <th>0</th>\n",
       "      <td>CC(C)(C)c1ccc2occ(CC(=O)Nc3ccccc3F)c2c1</td>\n",
       "      <td>3.128082</td>\n",
       "      <td>5.05060</td>\n",
       "      <td>-2.084095</td>\n",
       "      <td>0</td>\n",
       "    </tr>\n",
       "    <tr>\n",
       "      <th>1</th>\n",
       "      <td>C[C@@H]1CC(Nc2cncc(-c3nncn3C)c2)C[C@@H](C)C1</td>\n",
       "      <td>0.186324</td>\n",
       "      <td>3.11370</td>\n",
       "      <td>-3.432004</td>\n",
       "      <td>0</td>\n",
       "    </tr>\n",
       "    <tr>\n",
       "      <th>2</th>\n",
       "      <td>N#Cc1ccc(-c2ccc(O[C@@H](C(=O)N3CCCC3)c3ccccc3)...</td>\n",
       "      <td>2.611618</td>\n",
       "      <td>4.96778</td>\n",
       "      <td>-2.470633</td>\n",
       "      <td>0</td>\n",
       "    </tr>\n",
       "    <tr>\n",
       "      <th>3</th>\n",
       "      <td>CCOC(=O)[C@@H]1CCCN(C(=O)c2nc(-c3ccc(C)cc3)n3c...</td>\n",
       "      <td>-1.695819</td>\n",
       "      <td>4.00022</td>\n",
       "      <td>-2.822753</td>\n",
       "      <td>-1</td>\n",
       "    </tr>\n",
       "    <tr>\n",
       "      <th>4</th>\n",
       "      <td>N#CC1=C(SCC(=O)Nc2cccc(Cl)c2)N=C([O-])[C@H](C#...</td>\n",
       "      <td>-0.186917</td>\n",
       "      <td>3.60956</td>\n",
       "      <td>-4.035182</td>\n",
       "      <td>0</td>\n",
       "    </tr>\n",
       "  </tbody>\n",
       "</table>\n",
       "</div>"
      ],
      "text/plain": [
       "                                              smiles   fitness     logP  \\\n",
       "0            CC(C)(C)c1ccc2occ(CC(=O)Nc3ccccc3F)c2c1  3.128082  5.05060   \n",
       "1       C[C@@H]1CC(Nc2cncc(-c3nncn3C)c2)C[C@@H](C)C1  0.186324  3.11370   \n",
       "2  N#Cc1ccc(-c2ccc(O[C@@H](C(=O)N3CCCC3)c3ccccc3)...  2.611618  4.96778   \n",
       "3  CCOC(=O)[C@@H]1CCCN(C(=O)c2nc(-c3ccc(C)cc3)n3c... -1.695819  4.00022   \n",
       "4  N#CC1=C(SCC(=O)Nc2cccc(Cl)c2)N=C([O-])[C@H](C#... -0.186917  3.60956   \n",
       "\n",
       "         SA  cycle  \n",
       "0 -2.084095      0  \n",
       "1 -3.432004      0  \n",
       "2 -2.470633      0  \n",
       "3 -2.822753     -1  \n",
       "4 -4.035182      0  "
      ]
     },
     "execution_count": 114,
     "metadata": {},
     "output_type": "execute_result"
    }
   ],
   "source": [
    "# Writing the different taxonomies (ahahahaha see what i did there) to a txt file\n",
    "tab['logP'] = logP_values\n",
    "tab['SA'] = SA_scores\n",
    "tab['cycle'] = cycle_scores\n",
    "tab.head()"
   ]
  },
  {
   "cell_type": "code",
   "execution_count": 115,
   "id": "9484d9b3-0baa-4fce-bc09-03056b53fca7",
   "metadata": {
    "tags": []
   },
   "outputs": [],
   "source": [
    "lipo  = tab.loc[tab['logP'] >= 3, ]\n",
    "hydro = tab.loc[tab['logP'] <= 0, ]\n",
    "bal   = tab.loc[(tab['logP'] > 0) & (tab['logP'] < 3), ]"
   ]
  },
  {
   "cell_type": "code",
   "execution_count": 142,
   "id": "da782cf4-a8c9-4fc0-a422-e1696dd458de",
   "metadata": {
    "tags": []
   },
   "outputs": [],
   "source": [
    "with open(os.path.join(base_fp, 'lipo.txt'), 'w') as file:\n",
    "    for entry in lipo['smiles']:\n",
    "        file.write(str(entry) + '\\n')\n",
    "        \n",
    "with open(os.path.join(base_fp, 'hydro.txt'), 'w') as file:\n",
    "    for entry in hydro['smiles']:\n",
    "        file.write(str(entry) + '\\n')\n",
    "        \n",
    "with open(os.path.join(base_fp, 'bal.txt'), 'w') as file:\n",
    "    for entry in bal['smiles']:\n",
    "        file.write(str(entry) + '\\n')"
   ]
  },
  {
   "cell_type": "code",
   "execution_count": 147,
   "id": "1062552d-139c-4989-a3e2-7707448da110",
   "metadata": {
    "tags": []
   },
   "outputs": [],
   "source": [
    "gen_files = ['mate_07_mutate_01_mutatestd_1.csv', 'balanced_results.csv', \n",
    "             'lipo_results.csv', 'hydro_results.csv']\n",
    "dats = [pd.read_csv(os.path.join(res_fp, f)) for f in gen_files]\n",
    "fits = [d['fitness'] for d in dats]"
   ]
  },
  {
   "cell_type": "code",
   "execution_count": 152,
   "id": "6c11d415-89ed-4197-b91a-b5ee33d33c95",
   "metadata": {
    "tags": []
   },
   "outputs": [
    {
     "data": {
      "image/png": "[encoded data removed]",
      "text/plain": [
       "<Figure size 600x400 with 1 Axes>"
      ]
     },
     "metadata": {},
     "output_type": "display_data"
    }
   ],
   "source": [
    "data_to_plot = fits\n",
    "\n",
    "# Creating box plots\n",
    "plt.figure(figsize=(6, 4))\n",
    "plt.boxplot(data_to_plot)\n",
    "\n",
    "# Setting the labels and title, if necessary\n",
    "plt.title('Box Plots of Fitness Score for Fine-Tuned Initial Populations')\n",
    "plt.xlabel('Initial Population Type')\n",
    "plt.xticks(ticks = [1, 2, 3, 4], labels=['All molecules', 'Balanced', 'Lipophilic', 'Hydrophilic'])\n",
    "plt.ylabel('Fitness Score')\n",
    "plt.savefig('./results/figures/box3.png')\n",
    "\n",
    "# Showing the plot\n",
    "plt.show()"
   ]
  },
  {
   "cell_type": "markdown",
   "id": "aff633f8-e6ce-4566-b612-165f324a1792",
   "metadata": {},
   "source": [
    "#### For the heatmap"
   ]
  },
  {
   "cell_type": "code",
   "execution_count": 4,
   "id": "d34941b1-22c5-4766-8dd8-64fe6f69f431",
   "metadata": {
    "tags": []
   },
   "outputs": [],
   "source": [
    "res_fp = './results'\n",
    "gen_files = [f for f in os.listdir(res_fp) if f.startswith('mate')]"
   ]
  },
  {
   "cell_type": "code",
   "execution_count": 5,
   "id": "a97acc0b-6ebd-4870-9d8c-7eda71cad6d5",
   "metadata": {
    "tags": []
   },
   "outputs": [],
   "source": [
    "arr = np.array([])\n",
    "for f in sorted(gen_files):\n",
    "    dat = pd.read_csv(os.path.join(res_fp, f))\n",
    "    mean = np.mean(dat['fitness'])\n",
    "    arr = np.append(arr, mean)"
   ]
  },
  {
   "cell_type": "code",
   "execution_count": 6,
   "id": "3bd8d2da-f624-43f8-a88f-c7bef9864d30",
   "metadata": {
    "tags": []
   },
   "outputs": [],
   "source": [
    "heat = arr.reshape(5, 5)"
   ]
  },
  {
   "cell_type": "code",
   "execution_count": 11,
   "id": "74ea291e-71d5-46e0-9046-ccd8299a3ed9",
   "metadata": {
    "tags": []
   },
   "outputs": [
    {
     "data": {
      "image/png": "[encoded data removed]",
      "text/plain": [
       "<Figure size 800x600 with 2 Axes>"
      ]
     },
     "metadata": {},
     "output_type": "display_data"
    }
   ],
   "source": [
    "data = np.random.rand(10, 10)  # An example 10x10 array\n",
    "\n",
    "# Create the heatmap\n",
    "plt.figure(figsize=(8, 6))\n",
    "sns.heatmap(heat, cmap=\"coolwarm\", annot=True)\n",
    "plt.title('Heatmap of Fitness Scores')\n",
    "plt.xlabel('Mate Probability')\n",
    "plt.ylabel('Mutate Probability')\n",
    "plt.xticks(ticks=[0.5, 1.5, 2.5, 3.5, 4.5], labels=[0.5, 0.6, 0.7, 0.8, 0.9])\n",
    "plt.yticks(ticks=[0.5, 1.5, 2.5, 3.5, 4.5], labels=[0.1, 0.15, 0.2, 0.25, 0.3])\n",
    "plt.savefig('./results/figures/heat1.png')\n",
    "plt.show()"
   ]
  },
  {
   "cell_type": "code",
   "execution_count": 38,
   "id": "2e78116e-130f-4220-8eb6-1b822c0586f8",
   "metadata": {
    "tags": []
   },
   "outputs": [
    {
     "data": {
      "text/plain": [
       "['mate_06_mutate_03_mutatestd_1.csv',\n",
       " 'mate_09_mutate_01_mutatestd_1.csv',\n",
       " 'mate_08_mutate_025_mutatestd_1.csv',\n",
       " 'mate_07_mutate_03_mutatestd_1.csv',\n",
       " 'mate_05_mutate_015_mutatestd_1.csv',\n",
       " 'mate_05_mutate_03_mutatestd_1.csv',\n",
       " 'mate_08_mutate_03_mutatestd_1.csv',\n",
       " 'mate_06_mutate_015_mutatestd_1.csv',\n",
       " 'mate_09_mutate_025_mutatestd_1.csv',\n",
       " 'mate_07_mutate_015_mutatestd_1.csv',\n",
       " 'mate_05_mutate_02_mutatestd_1.csv',\n",
       " 'mate_06_mutate_025_mutatestd_1.csv',\n",
       " 'mate_09_mutate_02_mutatestd_1.csv',\n",
       " 'mate_09_mutate_015_mutatestd_1.csv',\n",
       " 'mate_05_mutate_025_mutatestd_1.csv',\n",
       " 'mate_06_mutate_02_mutatestd_1.csv',\n",
       " 'mate_07_mutate_01_mutatestd_1.csv',\n",
       " 'mate_08_mutate_02_mutatestd_1.csv',\n",
       " 'mate_07_mutate_025_mutatestd_1.csv',\n",
       " 'mate_09_mutate_03_mutatestd_1.csv',\n",
       " 'mate_08_mutate_015_mutatestd_1.csv',\n",
       " 'mate_07_mutate_02_mutatestd_1.csv',\n",
       " 'mate_08_mutate_01_mutatestd_1.csv',\n",
       " 'mate_05_mutate_01_mutatestd_1.csv',\n",
       " 'mate_06_mutate_01_mutatestd_1.csv']"
      ]
     },
     "execution_count": 38,
     "metadata": {},
     "output_type": "execute_result"
    }
   ],
   "source": [
    "\n",
    "for f in gen_files:\n",
    "    storage = {'mate_06':[], 'mate_06':[], 'mate_07':[], 'mate_08':[] 'mate_09':[]}\n",
    "    \n",
    "    if f.startswith('mate_06'):\n",
    "    dat = pd.read_csv(os.path.join(res_fp, f))\n",
    "    mean = np.mean(dat['fitness'])\n",
    "    "
   ]
  },
  {
   "cell_type": "code",
   "execution_count": 140,
   "id": "dee8a3e9-f91d-4a92-ad01-ad78aaa1c300",
   "metadata": {
    "tags": []
   },
   "outputs": [
    {
     "data": {
      "text/plain": [
       "<Axes: xlabel='fitness', ylabel='Count'>"
      ]
     },
     "execution_count": 140,
     "metadata": {},
     "output_type": "execute_result"
    },
    {
     "data": {
      "image/png": "[encoded data removed]",
      "text/plain": [
       "<Figure size 640x480 with 1 Axes>"
      ]
     },
     "metadata": {},
     "output_type": "display_data"
    }
   ],
   "source": [
    "sns.histplot(fits[0])"
   ]
  },
  {
   "cell_type": "code",
   "execution_count": 61,
   "id": "92f80a14-a5cd-4a65-aa72-27d23df169ee",
   "metadata": {
    "tags": []
   },
   "outputs": [
    {
     "ename": "ModuleNotFoundError",
     "evalue": "No module named 'scorers'",
     "output_type": "error",
     "traceback": [
      "\u001b[0;31m---------------------------------------------------------------------------\u001b[0m",
      "\u001b[0;31mModuleNotFoundError\u001b[0m                       Traceback (most recent call last)",
      "Cell \u001b[0;32mIn[61], line 1\u001b[0m\n\u001b[0;32m----> 1\u001b[0m \u001b[38;5;28;01mfrom\u001b[39;00m \u001b[38;5;21;01mscorers\u001b[39;00m\u001b[38;5;21;01m.\u001b[39;00m\u001b[38;5;21;01mSAScore\u001b[39;00m \u001b[38;5;28;01mimport\u001b[39;00m sascorer\n\u001b[1;32m      2\u001b[0m \u001b[38;5;28;01mfrom\u001b[39;00m \u001b[38;5;21;01mscorers\u001b[39;00m\u001b[38;5;21;01m.\u001b[39;00m\u001b[38;5;21;01mbase_scorer\u001b[39;00m \u001b[38;5;28;01mimport\u001b[39;00m Scorer\n\u001b[1;32m      3\u001b[0m \u001b[38;5;28;01mfrom\u001b[39;00m \u001b[38;5;21;01mrdkit\u001b[39;00m\u001b[38;5;21;01m.\u001b[39;00m\u001b[38;5;21;01mChem\u001b[39;00m \u001b[38;5;28;01mimport\u001b[39;00m MolFromSmiles, MolToSmiles, Descriptors, rdmolops\n",
      "\u001b[0;31mModuleNotFoundError\u001b[0m: No module named 'scorers'"
     ]
    }
   ],
   "source": [
    "from scorers.SAScore import sascorer\n",
    "from scorers.base_scorer import Scorer\n",
    "from rdkit.Chem import MolFromSmiles, MolToSmiles, Descriptors, rdmolops\n",
    "\n",
    "smiles = tab['smiles']\n",
    "smiles_rdkit = []\n",
    "for s in smiles:\n",
    "    mol = MolFromSmiles(s)\n",
    "    smi = MolToSmiles(mol,isomericSmiles=False)\n",
    "    smiles_rdkit.append(smi)\n",
    "\n",
    "logP_values = []\n",
    "for i in range(len(smiles_rdkit)):\n",
    "    logP_values.append(Descriptors.MolLogP(MolFromSmiles(smiles_rdkit[ i ])))"
   ]
  },
  {
   "cell_type": "code",
   "execution_count": 33,
   "id": "da782cea-6a2a-4455-9274-dbf5ba2b34fe",
   "metadata": {
    "tags": []
   },
   "outputs": [
    {
     "data": {
      "text/html": [
       "<div>\n",
       "<style scoped>\n",
       "    .dataframe tbody tr th:only-of-type {\n",
       "        vertical-align: middle;\n",
       "    }\n",
       "\n",
       "    .dataframe tbody tr th {\n",
       "        vertical-align: top;\n",
       "    }\n",
       "\n",
       "    .dataframe thead th {\n",
       "        text-align: right;\n",
       "    }\n",
       "</style>\n",
       "<table border=\"1\" class=\"dataframe\">\n",
       "  <thead>\n",
       "    <tr style=\"text-align: right;\">\n",
       "      <th></th>\n",
       "      <th>compound_id</th>\n",
       "      <th>smiles</th>\n",
       "      <th>generation</th>\n",
       "      <th>source</th>\n",
       "      <th>fitness</th>\n",
       "    </tr>\n",
       "  </thead>\n",
       "  <tbody>\n",
       "    <tr>\n",
       "      <th>0</th>\n",
       "      <td>0</td>\n",
       "      <td>COC[C@@H](C)Nc1ncnc(Nc2cccc(C)n2)c1N</td>\n",
       "      <td>[0, 1]</td>\n",
       "      <td>initial</td>\n",
       "      <td>0.081886</td>\n",
       "    </tr>\n",
       "    <tr>\n",
       "      <th>2</th>\n",
       "      <td>2</td>\n",
       "      <td>C=CCOc1ccccc1NC(=O)c1cccc(N2CCCC2=O)c1</td>\n",
       "      <td>[0, 1]</td>\n",
       "      <td>initial</td>\n",
       "      <td>2.296710</td>\n",
       "    </tr>\n",
       "    <tr>\n",
       "      <th>3</th>\n",
       "      <td>3</td>\n",
       "      <td>C[C@H](Nc1ncccc1[N+](=O)[O-])c1ccccc1</td>\n",
       "      <td>[0, 1]</td>\n",
       "      <td>initial</td>\n",
       "      <td>1.589914</td>\n",
       "    </tr>\n",
       "    <tr>\n",
       "      <th>11</th>\n",
       "      <td>11</td>\n",
       "      <td>COc1ccc(/C=C2\\SC(=N)NC2=O)cc1OCc1ccccc1</td>\n",
       "      <td>[0, 1]</td>\n",
       "      <td>initial</td>\n",
       "      <td>1.719252</td>\n",
       "    </tr>\n",
       "    <tr>\n",
       "      <th>13</th>\n",
       "      <td>13</td>\n",
       "      <td>Cc1cc(NC(=O)CC2=CCCCC2)n([C@H]2CCS(=O)(=O)C2)n1</td>\n",
       "      <td>[0, 1]</td>\n",
       "      <td>initial</td>\n",
       "      <td>0.022763</td>\n",
       "    </tr>\n",
       "  </tbody>\n",
       "</table>\n",
       "</div>"
      ],
      "text/plain": [
       "    compound_id                                           smiles generation  \\\n",
       "0             0             COC[C@@H](C)Nc1ncnc(Nc2cccc(C)n2)c1N     [0, 1]   \n",
       "2             2           C=CCOc1ccccc1NC(=O)c1cccc(N2CCCC2=O)c1     [0, 1]   \n",
       "3             3            C[C@H](Nc1ncccc1[N+](=O)[O-])c1ccccc1     [0, 1]   \n",
       "11           11          COc1ccc(/C=C2\\SC(=N)NC2=O)cc1OCc1ccccc1     [0, 1]   \n",
       "13           13  Cc1cc(NC(=O)CC2=CCCCC2)n([C@H]2CCS(=O)(=O)C2)n1     [0, 1]   \n",
       "\n",
       "     source   fitness  \n",
       "0   initial  0.081886  \n",
       "2   initial  2.296710  \n",
       "3   initial  1.589914  \n",
       "11  initial  1.719252  \n",
       "13  initial  0.022763  "
      ]
     },
     "execution_count": 33,
     "metadata": {},
     "output_type": "execute_result"
    }
   ],
   "source": [
    "# Stratifying the fitness scores of the original population and write to a csv file\n",
    "# 0-3 balanced\n",
    "# 3 + lipophyllic\n",
    "# 0 - hydrophilic\n",
    "# I think the above is just for logP but we're going with this for now\n",
    "bal   = pop1.loc[(pop1['fitness'] >= 0) & (pop1['fitness'] <= 3), ]\n",
    "lipo  = pop1.loc[(pop1['fitness'] > 3), ]\n",
    "hydro = pop1.loc[(pop1['fitness'] > 3), ]"
   ]
  },
  {
   "cell_type": "code",
   "execution_count": 34,
   "id": "6f9dceb6-311c-4607-96ef-9a18f7ab6b1b",
   "metadata": {
    "tags": []
   },
   "outputs": [],
   "source": [
    "def filter_fitness(x):\n",
    "    if x >= 0 and x <= 3:\n",
    "        return 'balanced'\n",
    "    if x > 3:\n",
    "        return 'lipophyllic'\n",
    "    if x < 0:\n",
    "        return 'hydrophyllic'\n",
    "    \n",
    "pop1['property'] = pop1['fitness'].apply(filter_fitness)"
   ]
  },
  {
   "cell_type": "code",
   "execution_count": 43,
   "id": "236d187d-7b8a-43ec-afc2-d797a040d64c",
   "metadata": {
    "tags": []
   },
   "outputs": [
    {
     "data": {
      "text/plain": [
       "property\n",
       "balanced        [0.0818864526975603, 2.2967104073096167, 1.589...\n",
       "hydrophyllic    [-1.2797696022510652, -0.5574196162272151, -1....\n",
       "lipophyllic                                  [3.1456261875416804]\n",
       "Name: fitness, dtype: object"
      ]
     },
     "execution_count": 43,
     "metadata": {},
     "output_type": "execute_result"
    }
   ],
   "source": [
    "gfitness = pop1.groupby('property')['fitness'].apply(list)\n",
    "gfitness"
   ]
  },
  {
   "cell_type": "code",
   "execution_count": 46,
   "id": "0dc36ca7-4e72-47f8-9fc4-393ee26eaf82",
   "metadata": {
    "tags": []
   },
   "outputs": [
    {
     "name": "stderr",
     "output_type": "stream",
     "text": [
      "/var/tmp/ipykernel_2184090/3257624484.py:5: UserWarning: \n",
      "\n",
      "`distplot` is a deprecated function and will be removed in seaborn v0.14.0.\n",
      "\n",
      "Please adapt your code to use either `displot` (a figure-level function with\n",
      "similar flexibility) or `histplot` (an axes-level function for histograms).\n",
      "\n",
      "For a guide to updating your code to use the new functions, please see\n",
      "https://gist.github.com/mwaskom/de44147ed2974457ad6372750bbe5751\n",
      "\n",
      "  sns.distplot(x, bins=20, ax=ax, kde=False, label=labs[count])\n"
     ]
    },
    {
     "data": {
      "image/png": "[encoded data removed]",
      "text/plain": [
       "<Figure size 640x480 with 1 Axes>"
      ]
     },
     "metadata": {},
     "output_type": "display_data"
    }
   ],
   "source": [
    "labs = ['Balanced', 'Lipophyllic', 'Hydrophyllic']\n",
    "count = 0\n",
    "fig, ax = plt.subplots()\n",
    "for x in gfitness.values:\n",
    "    sns.distplot(x, bins=20, ax=ax, kde=False, label=labs[count])\n",
    "    count +=1\n",
    "ax.set_xlim([-7, 4])\n",
    "plt.title('Histogram of fitness scores by group')\n",
    "plt.xlabel('Fitness')\n",
    "plt.ylabel('Count')\n",
    "plt.legend()\n",
    "plt.show()"
   ]
  },
  {
   "cell_type": "code",
   "execution_count": 50,
   "id": "90b7d929-e2f6-485c-ad07-38524415ed51",
   "metadata": {
    "tags": []
   },
   "outputs": [],
   "source": [
    "data_path = './test'\n",
    "\n",
    "# Writing each element of the list to a new line in the text file\n",
    "with open(os.path.join(data_path, 'balanced.txt'), 'w') as file:\n",
    "    for element in gfitness.[0]:\n",
    "        file.write(\"%s\\n\" % element)"
   ]
  },
  {
   "cell_type": "code",
   "execution_count": 40,
   "id": "059c7637-05c5-402b-aed3-79ccfd93ec7f",
   "metadata": {
    "tags": []
   },
   "outputs": [
    {
     "name": "stderr",
     "output_type": "stream",
     "text": [
      "/var/tmp/ipykernel_2184090/2225484170.py:1: FutureWarning: The provided callable <function mean at 0x7fbc3c0f6290> is currently using SeriesGroupBy.mean. In a future version of pandas, the provided callable will be used directly. To keep current behavior pass the string \"mean\" instead.\n",
      "  pop1.groupby('property')['fitness'].agg([np.mean, np.median])\n",
      "/var/tmp/ipykernel_2184090/2225484170.py:1: FutureWarning: The provided callable <function median at 0x7fbc340b5870> is currently using SeriesGroupBy.median. In a future version of pandas, the provided callable will be used directly. To keep current behavior pass the string \"median\" instead.\n",
      "  pop1.groupby('property')['fitness'].agg([np.mean, np.median])\n"
     ]
    },
    {
     "data": {
      "text/html": [
       "<div>\n",
       "<style scoped>\n",
       "    .dataframe tbody tr th:only-of-type {\n",
       "        vertical-align: middle;\n",
       "    }\n",
       "\n",
       "    .dataframe tbody tr th {\n",
       "        vertical-align: top;\n",
       "    }\n",
       "\n",
       "    .dataframe thead th {\n",
       "        text-align: right;\n",
       "    }\n",
       "</style>\n",
       "<table border=\"1\" class=\"dataframe\">\n",
       "  <thead>\n",
       "    <tr style=\"text-align: right;\">\n",
       "      <th></th>\n",
       "      <th>mean</th>\n",
       "      <th>median</th>\n",
       "    </tr>\n",
       "    <tr>\n",
       "      <th>property</th>\n",
       "      <th></th>\n",
       "      <th></th>\n",
       "    </tr>\n",
       "  </thead>\n",
       "  <tbody>\n",
       "    <tr>\n",
       "      <th>balanced</th>\n",
       "      <td>1.305629</td>\n",
       "      <td>1.254813</td>\n",
       "    </tr>\n",
       "    <tr>\n",
       "      <th>hydrophyllic</th>\n",
       "      <td>-1.846821</td>\n",
       "      <td>-1.374076</td>\n",
       "    </tr>\n",
       "    <tr>\n",
       "      <th>lipophyllic</th>\n",
       "      <td>3.145626</td>\n",
       "      <td>3.145626</td>\n",
       "    </tr>\n",
       "  </tbody>\n",
       "</table>\n",
       "</div>"
      ],
      "text/plain": [
       "                  mean    median\n",
       "property                        \n",
       "balanced      1.305629  1.254813\n",
       "hydrophyllic -1.846821 -1.374076\n",
       "lipophyllic   3.145626  3.145626"
      ]
     },
     "execution_count": 40,
     "metadata": {},
     "output_type": "execute_result"
    }
   ],
   "source": [
    "pop1.groupby('property')['fitness'].agg([np.mean, np.median])"
   ]
  },
  {
   "cell_type": "markdown",
   "id": "94fdeb90-52eb-4dd5-9489-2bc88d8580fa",
   "metadata": {},
   "source": [
    "#### Results Produced by FNLGMD"
   ]
  },
  {
   "cell_type": "code",
   "execution_count": 24,
   "id": "66ec211d-d043-48c5-b74f-ec9a2a11e7e1",
   "metadata": {
    "tags": []
   },
   "outputs": [
    {
     "data": {
      "text/html": [
       "<div>\n",
       "<style scoped>\n",
       "    .dataframe tbody tr th:only-of-type {\n",
       "        vertical-align: middle;\n",
       "    }\n",
       "\n",
       "    .dataframe tbody tr th {\n",
       "        vertical-align: top;\n",
       "    }\n",
       "\n",
       "    .dataframe thead th {\n",
       "        text-align: right;\n",
       "    }\n",
       "</style>\n",
       "<table border=\"1\" class=\"dataframe\">\n",
       "  <thead>\n",
       "    <tr style=\"text-align: right;\">\n",
       "      <th></th>\n",
       "      <th>compound_id</th>\n",
       "      <th>smiles</th>\n",
       "      <th>generation</th>\n",
       "      <th>chromosome</th>\n",
       "      <th>fitness</th>\n",
       "      <th>parent1_id</th>\n",
       "      <th>parent2_id</th>\n",
       "    </tr>\n",
       "  </thead>\n",
       "  <tbody>\n",
       "    <tr>\n",
       "      <th>60</th>\n",
       "      <td>77</td>\n",
       "      <td>COC(=O)C(C)CS(=O)(=O)c1nnc(-c2cc(C)n(C)c2)n1C</td>\n",
       "      <td>[1]</td>\n",
       "      <td>[-3.39578605e+00 -1.82503104e-01  1.03909194e+...</td>\n",
       "      <td>-2.128407</td>\n",
       "      <td>49.0</td>\n",
       "      <td>1.0</td>\n",
       "    </tr>\n",
       "    <tr>\n",
       "      <th>61</th>\n",
       "      <td>78</td>\n",
       "      <td>Cc1cc(C)cc(NC(=O)c2c(C)nsc2N2CCN(Cc3ccccc3F)CC...</td>\n",
       "      <td>[1]</td>\n",
       "      <td>[-0.35426214 -0.9432399   0.13598889 -1.794326...</td>\n",
       "      <td>2.343395</td>\n",
       "      <td>7.0</td>\n",
       "      <td>32.0</td>\n",
       "    </tr>\n",
       "    <tr>\n",
       "      <th>62</th>\n",
       "      <td>79</td>\n",
       "      <td>ClC(CC1Cc2ccccc2C1)C1CCCS1</td>\n",
       "      <td>[1]</td>\n",
       "      <td>[-0.35426214  0.46282053  0.71329576  1.768159...</td>\n",
       "      <td>0.199146</td>\n",
       "      <td>43.0</td>\n",
       "      <td>32.0</td>\n",
       "    </tr>\n",
       "    <tr>\n",
       "      <th>63</th>\n",
       "      <td>80</td>\n",
       "      <td>COC1CCN(C(=O)CSC2=NC(c3ccccc3)=NC(C#N)N2)CC1</td>\n",
       "      <td>[1]</td>\n",
       "      <td>[-1.67526126e+00 -5.46885133e-01 -2.93187022e-...</td>\n",
       "      <td>-1.463635</td>\n",
       "      <td>27.0</td>\n",
       "      <td>0.0</td>\n",
       "    </tr>\n",
       "    <tr>\n",
       "      <th>64</th>\n",
       "      <td>81</td>\n",
       "      <td>CCc1cccc(N2CCOCC2C(C)(O)c2cnc(C3CC3)[nH]2)c1</td>\n",
       "      <td>[1]</td>\n",
       "      <td>[-0.59349406 -0.52416867 -0.52168334  0.788764...</td>\n",
       "      <td>-0.796867</td>\n",
       "      <td>20.0</td>\n",
       "      <td>36.0</td>\n",
       "    </tr>\n",
       "  </tbody>\n",
       "</table>\n",
       "</div>"
      ],
      "text/plain": [
       "    compound_id                                             smiles generation  \\\n",
       "60           77      COC(=O)C(C)CS(=O)(=O)c1nnc(-c2cc(C)n(C)c2)n1C        [1]   \n",
       "61           78  Cc1cc(C)cc(NC(=O)c2c(C)nsc2N2CCN(Cc3ccccc3F)CC...        [1]   \n",
       "62           79                         ClC(CC1Cc2ccccc2C1)C1CCCS1        [1]   \n",
       "63           80       COC1CCN(C(=O)CSC2=NC(c3ccccc3)=NC(C#N)N2)CC1        [1]   \n",
       "64           81       CCc1cccc(N2CCOCC2C(C)(O)c2cnc(C3CC3)[nH]2)c1        [1]   \n",
       "\n",
       "                                           chromosome   fitness  parent1_id  \\\n",
       "60  [-3.39578605e+00 -1.82503104e-01  1.03909194e+... -2.128407        49.0   \n",
       "61  [-0.35426214 -0.9432399   0.13598889 -1.794326...  2.343395         7.0   \n",
       "62  [-0.35426214  0.46282053  0.71329576  1.768159...  0.199146        43.0   \n",
       "63  [-1.67526126e+00 -5.46885133e-01 -2.93187022e-... -1.463635        27.0   \n",
       "64  [-0.59349406 -0.52416867 -0.52168334  0.788764... -0.796867        20.0   \n",
       "\n",
       "    parent2_id  \n",
       "60         1.0  \n",
       "61        32.0  \n",
       "62        32.0  \n",
       "63         0.0  \n",
       "64        36.0  "
      ]
     },
     "execution_count": 24,
     "metadata": {},
     "output_type": "execute_result"
    }
   ],
   "source": [
    "#base_fp = './FNLGMD/examples/LogP_JTVAE'\n",
    "base_fp = './results'\n",
    "results = pd.read_csv(os.path.join(base_fp, 'data_all_generations.csv'))\n",
    "results[60:65]"
   ]
  },
  {
   "cell_type": "markdown",
   "id": "55098f15-6636-47b7-be48-de062bb59e8e",
   "metadata": {},
   "source": [
    "#### Plotting a Histogram of Fitness Scores"
   ]
  },
  {
   "cell_type": "code",
   "execution_count": 25,
   "id": "bd102a92-c08c-4c7c-8a5d-a3720a30c911",
   "metadata": {
    "tags": []
   },
   "outputs": [
    {
     "name": "stderr",
     "output_type": "stream",
     "text": [
      "/opt/conda/lib/python3.10/site-packages/seaborn/_oldcore.py:1119: FutureWarning: use_inf_as_na option is deprecated and will be removed in a future version. Convert inf values to NaN before operating instead.\n",
      "  with pd.option_context('mode.use_inf_as_na', True):\n"
     ]
    },
    {
     "data": {
      "image/png": "[encoded data removed]",
      "text/plain": [
       "<Figure size 640x480 with 1 Axes>"
      ]
     },
     "metadata": {},
     "output_type": "display_data"
    }
   ],
   "source": [
    "sns.set_style('darkgrid')\n",
    "sns.histplot(results['fitness'])\n",
    "plt.title('Histogram of Fitness Scores')\n",
    "plt.show()"
   ]
  },
  {
   "cell_type": "code",
   "execution_count": 16,
   "id": "5e845efe-d952-497f-b264-07f1b812db4f",
   "metadata": {
    "tags": []
   },
   "outputs": [
    {
     "data": {
      "text/html": [
       "<div>\n",
       "<style scoped>\n",
       "    .dataframe tbody tr th:only-of-type {\n",
       "        vertical-align: middle;\n",
       "    }\n",
       "\n",
       "    .dataframe tbody tr th {\n",
       "        vertical-align: top;\n",
       "    }\n",
       "\n",
       "    .dataframe thead th {\n",
       "        text-align: right;\n",
       "    }\n",
       "</style>\n",
       "<table border=\"1\" class=\"dataframe\">\n",
       "  <thead>\n",
       "    <tr style=\"text-align: right;\">\n",
       "      <th></th>\n",
       "      <th>compound_id</th>\n",
       "      <th>smiles</th>\n",
       "      <th>generation</th>\n",
       "      <th>chromosome</th>\n",
       "      <th>fitness</th>\n",
       "      <th>parent1_id</th>\n",
       "      <th>parent2_id</th>\n",
       "    </tr>\n",
       "  </thead>\n",
       "  <tbody>\n",
       "    <tr>\n",
       "      <th>60</th>\n",
       "      <td>77</td>\n",
       "      <td>CCC(NC(=O)N(CC)CCc1ccccc1)c1nc(N)nc(N2CCOCC2)n1</td>\n",
       "      <td>[1]</td>\n",
       "      <td>[-0.05668427 -0.36897016 -0.8953486  -2.489291...</td>\n",
       "      <td>-0.241171</td>\n",
       "      <td>7.0</td>\n",
       "      <td>47.0</td>\n",
       "    </tr>\n",
       "    <tr>\n",
       "      <th>61</th>\n",
       "      <td>78</td>\n",
       "      <td>Cc1c([N+](=O)[O-])ccc2c1C(C(=O)NCc1cc(Cl)c3c(n...</td>\n",
       "      <td>[1]</td>\n",
       "      <td>[ 1.95734024e+00  8.31297874e+00 -1.70360255e+...</td>\n",
       "      <td>0.289002</td>\n",
       "      <td>46.0</td>\n",
       "      <td>46.0</td>\n",
       "    </tr>\n",
       "    <tr>\n",
       "      <th>62</th>\n",
       "      <td>79</td>\n",
       "      <td>COCC([NH2+]c1nc2ccccc2o1)c1ccc[nH]1</td>\n",
       "      <td>[1]</td>\n",
       "      <td>[-2.24199742e-02 -5.24369180e-01  9.62527692e-...</td>\n",
       "      <td>-1.597917</td>\n",
       "      <td>2.0</td>\n",
       "      <td>22.0</td>\n",
       "    </tr>\n",
       "    <tr>\n",
       "      <th>63</th>\n",
       "      <td>80</td>\n",
       "      <td>COCC(SCc1cccnc1)(c1ccccc1)n1cnc2ccccc21</td>\n",
       "      <td>[1]</td>\n",
       "      <td>[-1.41486335e+00 -4.10914570e-01 -3.33527535e-...</td>\n",
       "      <td>1.606393</td>\n",
       "      <td>12.0</td>\n",
       "      <td>34.0</td>\n",
       "    </tr>\n",
       "    <tr>\n",
       "      <th>64</th>\n",
       "      <td>81</td>\n",
       "      <td>COC(C)c1ccc(C([NH3+])c2nnc(C3CC4CCC3C4)o2)cc1</td>\n",
       "      <td>[1]</td>\n",
       "      <td>[-1.31167293e+00 -1.36703253e-02  9.62527692e-...</td>\n",
       "      <td>-2.019976</td>\n",
       "      <td>17.0</td>\n",
       "      <td>22.0</td>\n",
       "    </tr>\n",
       "  </tbody>\n",
       "</table>\n",
       "</div>"
      ],
      "text/plain": [
       "    compound_id                                             smiles generation  \\\n",
       "60           77    CCC(NC(=O)N(CC)CCc1ccccc1)c1nc(N)nc(N2CCOCC2)n1        [1]   \n",
       "61           78  Cc1c([N+](=O)[O-])ccc2c1C(C(=O)NCc1cc(Cl)c3c(n...        [1]   \n",
       "62           79                COCC([NH2+]c1nc2ccccc2o1)c1ccc[nH]1        [1]   \n",
       "63           80            COCC(SCc1cccnc1)(c1ccccc1)n1cnc2ccccc21        [1]   \n",
       "64           81      COC(C)c1ccc(C([NH3+])c2nnc(C3CC4CCC3C4)o2)cc1        [1]   \n",
       "\n",
       "                                           chromosome   fitness  parent1_id  \\\n",
       "60  [-0.05668427 -0.36897016 -0.8953486  -2.489291... -0.241171         7.0   \n",
       "61  [ 1.95734024e+00  8.31297874e+00 -1.70360255e+...  0.289002        46.0   \n",
       "62  [-2.24199742e-02 -5.24369180e-01  9.62527692e-... -1.597917         2.0   \n",
       "63  [-1.41486335e+00 -4.10914570e-01 -3.33527535e-...  1.606393        12.0   \n",
       "64  [-1.31167293e+00 -1.36703253e-02  9.62527692e-... -2.019976        17.0   \n",
       "\n",
       "    parent2_id  \n",
       "60        47.0  \n",
       "61        46.0  \n",
       "62        22.0  \n",
       "63        34.0  \n",
       "64        22.0  "
      ]
     },
     "execution_count": 16,
     "metadata": {},
     "output_type": "execute_result"
    }
   ],
   "source": [
    "results2 = pd.read_csv(os.path.join(fp, 'data_all_generations.csv'))\n",
    "results2[60:65]"
   ]
  },
  {
   "cell_type": "code",
   "execution_count": 17,
   "id": "265f1a0e-baae-447b-94f6-a7b757a27027",
   "metadata": {
    "tags": []
   },
   "outputs": [
    {
     "name": "stderr",
     "output_type": "stream",
     "text": [
      "/opt/conda/lib/python3.10/site-packages/seaborn/_oldcore.py:1119: FutureWarning: use_inf_as_na option is deprecated and will be removed in a future version. Convert inf values to NaN before operating instead.\n",
      "  with pd.option_context('mode.use_inf_as_na', True):\n"
     ]
    },
    {
     "data": {
      "text/plain": [
       "Text(0.5, 1.0, 'Histogram of Fitness Scores')"
      ]
     },
     "execution_count": 17,
     "metadata": {},
     "output_type": "execute_result"
    },
    {
     "data": {
      "image/png": "[encoded data removed]",
      "text/plain": [
       "<Figure size 640x480 with 1 Axes>"
      ]
     },
     "metadata": {},
     "output_type": "display_data"
    }
   ],
   "source": [
    "sns.set_style('darkgrid')\n",
    "sns.histplot(results2['fitness'])\n",
    "plt.title('Histogram of Fitness Scores')"
   ]
  },
  {
   "cell_type": "code",
   "execution_count": 19,
   "id": "dac5e03d-6f3f-4624-a321-e645eb73b950",
   "metadata": {
    "tags": []
   },
   "outputs": [
    {
     "data": {
      "text/plain": [
       "count    1.050000e+02\n",
       "mean     7.401487e-17\n",
       "std      2.040743e+00\n",
       "min     -6.595036e+00\n",
       "25%     -1.230577e+00\n",
       "50%      2.030236e-01\n",
       "75%      1.452237e+00\n",
       "max      3.629061e+00\n",
       "Name: fitness, dtype: float64"
      ]
     },
     "execution_count": 19,
     "metadata": {},
     "output_type": "execute_result"
    }
   ],
   "source": [
    "results2['fitness'].describe()"
   ]
  },
  {
   "cell_type": "code",
   "execution_count": 22,
   "id": "9caa1296-c85b-4e67-b528-89a2a9e3c060",
   "metadata": {
    "tags": []
   },
   "outputs": [
    {
     "data": {
      "text/plain": [
       "count    7.000000e+01\n",
       "mean    -4.060244e-16\n",
       "std      1.755205e+00\n",
       "min     -5.325605e+00\n",
       "25%     -9.709180e-01\n",
       "50%      1.175682e-01\n",
       "75%      1.310428e+00\n",
       "max      3.317549e+00\n",
       "Name: fitness, dtype: float64"
      ]
     },
     "execution_count": 22,
     "metadata": {},
     "output_type": "execute_result"
    }
   ],
   "source": [
    "results['fitness'].describe()"
   ]
  },
  {
   "cell_type": "code",
   "execution_count": 47,
   "id": "df14d922-2201-495c-ad51-126b6e2e71bb",
   "metadata": {
    "tags": []
   },
   "outputs": [],
   "source": [
    "x = results['fitness']\n",
    "y = results2['fitness']"
   ]
  },
  {
   "cell_type": "code",
   "execution_count": 25,
   "id": "10fa63a7-2bce-472c-a989-6742e08a1827",
   "metadata": {
    "tags": []
   },
   "outputs": [
    {
     "data": {
      "text/plain": [
       "3.3175485709625465"
      ]
     },
     "execution_count": 25,
     "metadata": {},
     "output_type": "execute_result"
    }
   ],
   "source": [
    "results['fitness'].max()"
   ]
  },
  {
   "cell_type": "code",
   "execution_count": 43,
   "id": "4a0be5c4-d81e-4c0d-a365-9842c33a12c9",
   "metadata": {
    "tags": []
   },
   "outputs": [],
   "source": [
    "results1 = pd.read_csv(os.path.join(fp, 'data_all_generations-3.csv'))\n"
   ]
  },
  {
   "cell_type": "code",
   "execution_count": null,
   "id": "ae038a7b-9e1d-42a4-82c0-27ec745110b2",
   "metadata": {},
   "outputs": [],
   "source": [
    "x = results1['fitness']"
   ]
  },
  {
   "cell_type": "code",
   "execution_count": 48,
   "id": "4e7d22d0-ea31-4b27-ae3d-e30ca9fa4b84",
   "metadata": {
    "tags": []
   },
   "outputs": [
    {
     "name": "stderr",
     "output_type": "stream",
     "text": [
      "/var/tmp/ipykernel_1428375/4175141432.py:9: UserWarning: \n",
      "\n",
      "`distplot` is a deprecated function and will be removed in seaborn v0.14.0.\n",
      "\n",
      "Please adapt your code to use either `displot` (a figure-level function with\n",
      "similar flexibility) or `histplot` (an axes-level function for histograms).\n",
      "\n",
      "For a guide to updating your code to use the new functions, please see\n",
      "https://gist.github.com/mwaskom/de44147ed2974457ad6372750bbe5751\n",
      "\n",
      "  sns.distplot(a, bins=20, ax=ax, kde=False, label=labs[count])\n"
     ]
    },
    {
     "data": {
      "image/png": "[encoded data removed]",
      "text/plain": [
       "<Figure size 640x480 with 1 Axes>"
      ]
     },
     "metadata": {},
     "output_type": "display_data"
    }
   ],
   "source": [
    "# 0-3 balanced\n",
    "# 3 + lipophyllic\n",
    "# 0 - hydrophilic\n",
    "\n",
    "labs = ['Smaller Ouptut', 'Larger Output']\n",
    "count = 0\n",
    "fig, ax = plt.subplots()\n",
    "for a in [x, y]:\n",
    "    sns.distplot(a, bins=20, ax=ax, kde=False, label=labs[count])\n",
    "    count +=1\n",
    "ax.set_xlim([-7, 4])\n",
    "plt.title('Histogram of fitness scores')\n",
    "plt.xlabel('Fitness')\n",
    "plt.ylabel('Count')\n",
    "plt.legend()\n",
    "plt.show()"
   ]
  },
  {
   "cell_type": "code",
   "execution_count": 52,
   "id": "8d3006c2-0959-44a6-be3f-69ccd66e735f",
   "metadata": {
    "tags": []
   },
   "outputs": [
    {
     "name": "stderr",
     "output_type": "stream",
     "text": [
      "/var/tmp/ipykernel_1428375/1220979841.py:6: UserWarning: \n",
      "\n",
      "`distplot` is a deprecated function and will be removed in seaborn v0.14.0.\n",
      "\n",
      "Please adapt your code to use either `displot` (a figure-level function with\n",
      "similar flexibility) or `histplot` (an axes-level function for histograms).\n",
      "\n",
      "For a guide to updating your code to use the new functions, please see\n",
      "https://gist.github.com/mwaskom/de44147ed2974457ad6372750bbe5751\n",
      "\n",
      "  sns.distplot(a, bins=20, ax=ax, kde=False, label=labs[count])\n"
     ]
    },
    {
     "data": {
      "image/png": "[encoded data removed]",
      "text/plain": [
       "<Figure size 640x480 with 1 Axes>"
      ]
     },
     "metadata": {},
     "output_type": "display_data"
    }
   ],
   "source": [
    "y1 = results1['fitness']\n",
    "labs = ['Smaller mate_prob', 'Larger mate_prob']\n",
    "count = 0\n",
    "fig, ax = plt.subplots()\n",
    "for a in [x, y1]:\n",
    "    sns.distplot(a, bins=20, ax=ax, kde=False, label=labs[count])\n",
    "    count +=1\n",
    "ax.set_xlim([-12, 4])\n",
    "plt.title('Histogram of fitness scores')\n",
    "plt.xlabel('Fitness')\n",
    "plt.ylabel('Count')\n",
    "plt.legend()\n",
    "plt.show()"
   ]
  }
 ],
 "metadata": {
  "environment": {
   "kernel": "python3",
   "name": "common-cpu.m117",
   "type": "gcloud",
   "uri": "us-docker.pkg.dev/deeplearning-platform-release/gcr.io/base-cpu:m117"
  },
  "kernelspec": {
   "display_name": "Python 3",
   "language": "python",
   "name": "python3"
  },
  "language_info": {
   "codemirror_mode": {
    "name": "ipython",
    "version": 3
   },
   "file_extension": ".py",
   "mimetype": "text/x-python",
   "name": "python",
   "nbconvert_exporter": "python",
   "pygments_lexer": "ipython3",
   "version": "3.10.13"
  }
 },
 "nbformat": 4,
 "nbformat_minor": 5
}
